{
 "cells": [
  {
   "cell_type": "markdown",
   "metadata": {},
   "source": [
    "Replace Outliers with set of letters"
   ]
  },
  {
   "cell_type": "code",
   "execution_count": 1,
   "metadata": {},
   "outputs": [],
   "source": [
    "import pandas as pd\n",
    "import numpy as np\n",
    "import matplotlib.pyplot as plt"
   ]
  },
  {
   "cell_type": "code",
   "execution_count": 2,
   "metadata": {},
   "outputs": [],
   "source": [
    "train = pd.read_csv('train.csv')\n",
    "test = pd.read_csv('test.csv')"
   ]
  },
  {
   "cell_type": "code",
   "execution_count": 3,
   "metadata": {},
   "outputs": [],
   "source": [
    "train = train.drop('id', axis = 1)\n",
    "test = test.drop('id', axis = 1)"
   ]
  },
  {
   "cell_type": "code",
   "execution_count": 4,
   "metadata": {},
   "outputs": [],
   "source": [
    "pd.set_option('display.max_columns', None)"
   ]
  },
  {
   "cell_type": "code",
   "execution_count": 5,
   "metadata": {},
   "outputs": [],
   "source": [
    "def replace_non_alpha_with_nan(df):\n",
    "    cols_to_filter = ['cap-shape', 'cap-surface', 'cap-color', \n",
    "                      'does-bruise-or-bleed', 'gill-attachment', \n",
    "                      'gill-spacing', 'gill-color', 'stem-surface', \n",
    "                      'stem-color', 'has-ring', 'ring-type', 'habitat', 'stem-root', 'veil-type', 'veil-color', 'spore-print-color']\n",
    "\n",
    "    alphabet_list = ['a', 'b', 'c', 'd', 'e', 'f', 'g', 'h', 'i', 'j', \n",
    "                     'k', 'l', 'm', 'n', 'o', 'p', 'q', 'r', 's', 't', 'u', 'v', 'w', 'x', 'y', 'z']\n",
    "\n",
    "    col_values = {}\n",
    "    for col in cols_to_filter:\n",
    "        value_counts = train[col].value_counts()\n",
    "        col_values[col] = value_counts[value_counts > 10].index.values.tolist()\n",
    "\n",
    "\n",
    "    def filter_alpha(value, value_list_no_outliers):\n",
    "        if isinstance(value, str):\n",
    "            return value if len(value) == 1 and value in value_list_no_outliers and value in alphabet_list else np.nan # if value is a single character\n",
    "        \n",
    "        return np.nan\n",
    "    \n",
    "    for col in cols_to_filter:\n",
    "        df[col] = df[col].apply(lambda x : filter_alpha(x, col_values[col]))\n",
    "\n",
    "    return df"
   ]
  },
  {
   "cell_type": "code",
   "execution_count": 6,
   "metadata": {},
   "outputs": [
    {
     "data": {
      "text/plain": [
       "gill-spacing\n",
       "c              1331054\n",
       "d               407932\n",
       "f               119380\n",
       "e                   24\n",
       "a                   17\n",
       "s                   16\n",
       "b                   12\n",
       "x                    8\n",
       "t                    8\n",
       "p                    7\n",
       "g                    4\n",
       "k                    4\n",
       "h                    3\n",
       "l                    3\n",
       "y                    2\n",
       "r                    2\n",
       "6.67                 2\n",
       "0                    2\n",
       "9.01                 1\n",
       "2.69                 1\n",
       "3.61                 1\n",
       "class                1\n",
       "4.8                  1\n",
       "4.04                 1\n",
       "3.57                 1\n",
       "i                    1\n",
       "w                    1\n",
       "24.38                1\n",
       "cap-surface          1\n",
       "0.73                 1\n",
       "5.22                 1\n",
       "3.92                 1\n",
       "5.42                 1\n",
       "12.27                1\n",
       "1                    1\n",
       "1.6                  1\n",
       "n                    1\n",
       "3.81                 1\n",
       "4.09                 1\n",
       "1.36                 1\n",
       "3.24                 1\n",
       "5.55                 1\n",
       "5.7                  1\n",
       "3.62                 1\n",
       "does f               1\n",
       "6.4                  1\n",
       "1.88                 1\n",
       "55.13                1\n",
       "Name: count, dtype: int64"
      ]
     },
     "execution_count": 6,
     "metadata": {},
     "output_type": "execute_result"
    }
   ],
   "source": [
    "train['gill-spacing'].value_counts()"
   ]
  },
  {
   "cell_type": "code",
   "execution_count": 7,
   "metadata": {},
   "outputs": [],
   "source": [
    "train = replace_non_alpha_with_nan(train)\n",
    "test = replace_non_alpha_with_nan(test)"
   ]
  },
  {
   "cell_type": "code",
   "execution_count": 8,
   "metadata": {},
   "outputs": [
    {
     "name": "stdout",
     "output_type": "stream",
     "text": [
      "Categorical columns:\n",
      " ['cap-shape', 'cap-surface', 'cap-color', 'does-bruise-or-bleed', 'gill-attachment', 'gill-spacing', 'gill-color', 'stem-root', 'stem-surface', 'stem-color', 'veil-type', 'veil-color', 'has-ring', 'ring-type', 'spore-print-color', 'habitat', 'season']\n",
      "\n",
      "Numeric columns:\n",
      " ['cap-diameter', 'stem-height', 'stem-width']\n"
     ]
    }
   ],
   "source": [
    "cat_cols = [col for col in train.select_dtypes('object').columns if col != 'class']\n",
    "num_cols = [col for col in train.select_dtypes('number').columns]\n",
    "print(f'Categorical columns:\\n {cat_cols}\\n')\n",
    "print(f'Numeric columns:\\n {num_cols}')"
   ]
  },
  {
   "cell_type": "code",
   "execution_count": 9,
   "metadata": {},
   "outputs": [],
   "source": [
    "from sklearn.pipeline import Pipeline\n",
    "from sklearn.impute import KNNImputer\n",
    "from sklearn.impute import SimpleImputer\n",
    "from sklearn.preprocessing import OrdinalEncoder\n",
    "from sklearn.compose import ColumnTransformer\n",
    "\n",
    "def handle_missing_data(df, num_cols, cat_cols):\n",
    "\n",
    "    numeric_transformer = Pipeline(steps = [\n",
    "        ('imputer', KNNImputer(n_neighbors = 3))\n",
    "    ])\n",
    "\n",
    "    categorical_transformer = Pipeline(steps = [\n",
    "        ('imputer', SimpleImputer(strategy = 'most_frequent')),\n",
    "        ('ordinal', OrdinalEncoder(handle_unknown='use_encoded_value', unknown_value=-1))\n",
    "    ])\n",
    "\n",
    "    preprocessor = ColumnTransformer(\n",
    "        transformers = [\n",
    "            ('num', numeric_transformer, num_cols),\n",
    "            ('cat', categorical_transformer, cat_cols)\n",
    "        ]\n",
    "    )\n",
    "\n",
    "    df_transformed = pd.DataFrame(preprocessor.fit_transform(df[num_cols + cat_cols]), columns = num_cols + cat_cols)\n",
    "\n",
    "    print(\"Missing values after imputation:\")\n",
    "    print(df_transformed.isnull().sum())\n",
    "\n",
    "    df_final = df[['class']].join(df_transformed)\n",
    "\n",
    "    return df_final"
   ]
  },
  {
   "cell_type": "code",
   "execution_count": 10,
   "metadata": {},
   "outputs": [
    {
     "name": "stdout",
     "output_type": "stream",
     "text": [
      "Missing values after imputation:\n",
      "cap-diameter            0\n",
      "stem-height             0\n",
      "stem-width              0\n",
      "cap-shape               0\n",
      "cap-surface             0\n",
      "cap-color               0\n",
      "does-bruise-or-bleed    0\n",
      "gill-attachment         0\n",
      "gill-spacing            0\n",
      "gill-color              0\n",
      "stem-root               0\n",
      "stem-surface            0\n",
      "stem-color              0\n",
      "veil-type               0\n",
      "veil-color              0\n",
      "has-ring                0\n",
      "ring-type               0\n",
      "spore-print-color       0\n",
      "habitat                 0\n",
      "season                  0\n",
      "dtype: int64\n"
     ]
    }
   ],
   "source": [
    "train = handle_missing_data(train, num_cols, cat_cols)"
   ]
  },
  {
   "cell_type": "code",
   "execution_count": 11,
   "metadata": {},
   "outputs": [],
   "source": [
    "def handle_missing_testset(df, num_cols, cat_cols):\n",
    "\n",
    "    numeric_transformer = Pipeline(steps = [\n",
    "        ('imputer', KNNImputer(n_neighbors=3))\n",
    "    ])\n",
    "\n",
    "    categorical_transformer = Pipeline(steps = [\n",
    "        ('imputer', SimpleImputer(strategy='most_frequent')),\n",
    "        ('ordinal', OrdinalEncoder(handle_unknown='use_encoded_value', unknown_value = -1))\n",
    "    ])\n",
    "\n",
    "    preprocessor = ColumnTransformer(\n",
    "        transformers = [\n",
    "            ('num', numeric_transformer, num_cols),\n",
    "            ('cat', categorical_transformer, cat_cols)\n",
    "        ]\n",
    "    )\n",
    "\n",
    "    df_transformed = pd.DataFrame(preprocessor.fit_transform(df[num_cols + cat_cols]), columns = num_cols + cat_cols)\n",
    "\n",
    "    print(\"Missing values after imputation:\")\n",
    "    print(df_transformed.isna().sum())\n",
    "\n",
    "    df_final = df_transformed\n",
    "    return df_final"
   ]
  },
  {
   "cell_type": "code",
   "execution_count": 12,
   "metadata": {},
   "outputs": [
    {
     "name": "stdout",
     "output_type": "stream",
     "text": [
      "Missing values after imputation:\n",
      "cap-diameter            0\n",
      "stem-height             0\n",
      "stem-width              0\n",
      "cap-shape               0\n",
      "cap-surface             0\n",
      "cap-color               0\n",
      "does-bruise-or-bleed    0\n",
      "gill-attachment         0\n",
      "gill-spacing            0\n",
      "gill-color              0\n",
      "stem-root               0\n",
      "stem-surface            0\n",
      "stem-color              0\n",
      "veil-type               0\n",
      "veil-color              0\n",
      "has-ring                0\n",
      "ring-type               0\n",
      "spore-print-color       0\n",
      "habitat                 0\n",
      "season                  0\n",
      "dtype: int64\n"
     ]
    }
   ],
   "source": [
    "test = handle_missing_testset(test, num_cols, cat_cols)"
   ]
  },
  {
   "cell_type": "code",
   "execution_count": 13,
   "metadata": {},
   "outputs": [],
   "source": [
    "from sklearn.preprocessing import LabelEncoder\n",
    "le = LabelEncoder()\n",
    "train['class'] = le.fit_transform(train['class'])"
   ]
  },
  {
   "cell_type": "code",
   "execution_count": 14,
   "metadata": {},
   "outputs": [],
   "source": [
    "y = train['class']\n",
    "X = train.drop('class', axis = 1)"
   ]
  },
  {
   "cell_type": "code",
   "execution_count": 15,
   "metadata": {},
   "outputs": [],
   "source": [
    "from sklearn.model_selection import train_test_split\n",
    "\n",
    "X_train, X_test, y_train, y_test = train_test_split(X, y, test_size = 0.2, random_state = 42)"
   ]
  },
  {
   "cell_type": "code",
   "execution_count": 16,
   "metadata": {},
   "outputs": [],
   "source": [
    "from sklearn.metrics import matthews_corrcoef\n",
    "\n",
    "def mcc_metric(y_pred, dmatrix):\n",
    "    y_true = dmatrix.get_label()\n",
    "    y_pred = (y_pred > 0.5).astype(int) \n",
    "    mcc = matthews_corrcoef(y_true, y_pred)\n",
    "    return 'mcc', mcc"
   ]
  },
  {
   "cell_type": "code",
   "execution_count": 17,
   "metadata": {},
   "outputs": [],
   "source": [
    "from sklearn.metrics import matthews_corrcoef\n",
    "from xgboost import XGBClassifier\n",
    "import gc\n",
    "\n",
    "model = XGBClassifier(\n",
    "\n",
    "    colsample_bytree = 0.6,\n",
    "    max_depth = 14,\n",
    "    min_child_weight = 7,\n",
    "    random_state = 42,\n",
    "    n_estimators = 200,\n",
    ")"
   ]
  },
  {
   "cell_type": "code",
   "execution_count": 18,
   "metadata": {},
   "outputs": [
    {
     "name": "stderr",
     "output_type": "stream",
     "text": [
      "c:\\Users\\hugph\\ML\\s4e8\\venv\\Lib\\site-packages\\xgboost\\sklearn.py:889: UserWarning: `eval_metric` in `fit` method is deprecated for better compatibility with scikit-learn, use `eval_metric` in constructor or`set_params` instead.\n",
      "  warnings.warn(\n"
     ]
    },
    {
     "name": "stdout",
     "output_type": "stream",
     "text": [
      "[0]\tvalidation_0-logloss:0.48891\tvalidation_0-mcc:0.84933\n",
      "[1]\tvalidation_0-logloss:0.35488\tvalidation_0-mcc:0.94192\n",
      "[2]\tvalidation_0-logloss:0.26655\tvalidation_0-mcc:0.95296\n",
      "[3]\tvalidation_0-logloss:0.20776\tvalidation_0-mcc:0.96346\n",
      "[4]\tvalidation_0-logloss:0.16155\tvalidation_0-mcc:0.96864\n",
      "[5]\tvalidation_0-logloss:0.13934\tvalidation_0-mcc:0.97024\n",
      "[6]\tvalidation_0-logloss:0.11297\tvalidation_0-mcc:0.97445\n",
      "[7]\tvalidation_0-logloss:0.09534\tvalidation_0-mcc:0.97633\n",
      "[8]\tvalidation_0-logloss:0.08515\tvalidation_0-mcc:0.97672\n",
      "[9]\tvalidation_0-logloss:0.07261\tvalidation_0-mcc:0.97872\n",
      "[10]\tvalidation_0-logloss:0.06856\tvalidation_0-mcc:0.97845\n",
      "[11]\tvalidation_0-logloss:0.06064\tvalidation_0-mcc:0.97944\n",
      "[12]\tvalidation_0-logloss:0.05706\tvalidation_0-mcc:0.97969\n",
      "[13]\tvalidation_0-logloss:0.05273\tvalidation_0-mcc:0.98007\n",
      "[14]\tvalidation_0-logloss:0.05029\tvalidation_0-mcc:0.98042\n",
      "[15]\tvalidation_0-logloss:0.04821\tvalidation_0-mcc:0.98061\n",
      "[16]\tvalidation_0-logloss:0.04586\tvalidation_0-mcc:0.98084\n",
      "[17]\tvalidation_0-logloss:0.04368\tvalidation_0-mcc:0.98127\n",
      "[18]\tvalidation_0-logloss:0.04230\tvalidation_0-mcc:0.98157\n",
      "[19]\tvalidation_0-logloss:0.04164\tvalidation_0-mcc:0.98173\n",
      "[20]\tvalidation_0-logloss:0.04145\tvalidation_0-mcc:0.98171\n",
      "[21]\tvalidation_0-logloss:0.04075\tvalidation_0-mcc:0.98185\n",
      "[22]\tvalidation_0-logloss:0.04034\tvalidation_0-mcc:0.98198\n",
      "[23]\tvalidation_0-logloss:0.03995\tvalidation_0-mcc:0.98213\n",
      "[24]\tvalidation_0-logloss:0.03977\tvalidation_0-mcc:0.98222\n",
      "[25]\tvalidation_0-logloss:0.03957\tvalidation_0-mcc:0.98223\n",
      "[26]\tvalidation_0-logloss:0.03944\tvalidation_0-mcc:0.98230\n",
      "[27]\tvalidation_0-logloss:0.03933\tvalidation_0-mcc:0.98234\n",
      "[28]\tvalidation_0-logloss:0.03922\tvalidation_0-mcc:0.98243\n",
      "[29]\tvalidation_0-logloss:0.03922\tvalidation_0-mcc:0.98242\n",
      "[30]\tvalidation_0-logloss:0.03912\tvalidation_0-mcc:0.98253\n",
      "[31]\tvalidation_0-logloss:0.03912\tvalidation_0-mcc:0.98256\n",
      "[32]\tvalidation_0-logloss:0.03905\tvalidation_0-mcc:0.98259\n",
      "[33]\tvalidation_0-logloss:0.03905\tvalidation_0-mcc:0.98257\n",
      "[34]\tvalidation_0-logloss:0.03904\tvalidation_0-mcc:0.98259\n",
      "[35]\tvalidation_0-logloss:0.03905\tvalidation_0-mcc:0.98259\n",
      "[36]\tvalidation_0-logloss:0.03904\tvalidation_0-mcc:0.98260\n",
      "[37]\tvalidation_0-logloss:0.03904\tvalidation_0-mcc:0.98261\n",
      "[38]\tvalidation_0-logloss:0.03904\tvalidation_0-mcc:0.98262\n",
      "[39]\tvalidation_0-logloss:0.03904\tvalidation_0-mcc:0.98263\n",
      "[40]\tvalidation_0-logloss:0.03904\tvalidation_0-mcc:0.98262\n",
      "[41]\tvalidation_0-logloss:0.03904\tvalidation_0-mcc:0.98264\n",
      "[42]\tvalidation_0-logloss:0.03903\tvalidation_0-mcc:0.98262\n",
      "[43]\tvalidation_0-logloss:0.03902\tvalidation_0-mcc:0.98265\n",
      "[44]\tvalidation_0-logloss:0.03900\tvalidation_0-mcc:0.98266\n",
      "[45]\tvalidation_0-logloss:0.03900\tvalidation_0-mcc:0.98266\n",
      "[46]\tvalidation_0-logloss:0.03901\tvalidation_0-mcc:0.98267\n",
      "[47]\tvalidation_0-logloss:0.03902\tvalidation_0-mcc:0.98269\n",
      "[48]\tvalidation_0-logloss:0.03903\tvalidation_0-mcc:0.98269\n",
      "[49]\tvalidation_0-logloss:0.03902\tvalidation_0-mcc:0.98272\n",
      "[50]\tvalidation_0-logloss:0.03905\tvalidation_0-mcc:0.98271\n",
      "[51]\tvalidation_0-logloss:0.03905\tvalidation_0-mcc:0.98270\n",
      "[52]\tvalidation_0-logloss:0.03905\tvalidation_0-mcc:0.98270\n",
      "[53]\tvalidation_0-logloss:0.03905\tvalidation_0-mcc:0.98271\n",
      "[54]\tvalidation_0-logloss:0.03904\tvalidation_0-mcc:0.98277\n",
      "[55]\tvalidation_0-logloss:0.03905\tvalidation_0-mcc:0.98277\n",
      "[56]\tvalidation_0-logloss:0.03904\tvalidation_0-mcc:0.98276\n",
      "[57]\tvalidation_0-logloss:0.03905\tvalidation_0-mcc:0.98276\n",
      "[58]\tvalidation_0-logloss:0.03906\tvalidation_0-mcc:0.98279\n",
      "[59]\tvalidation_0-logloss:0.03908\tvalidation_0-mcc:0.98279\n",
      "[60]\tvalidation_0-logloss:0.03910\tvalidation_0-mcc:0.98281\n",
      "[61]\tvalidation_0-logloss:0.03911\tvalidation_0-mcc:0.98277\n",
      "[62]\tvalidation_0-logloss:0.03911\tvalidation_0-mcc:0.98277\n",
      "[63]\tvalidation_0-logloss:0.03911\tvalidation_0-mcc:0.98276\n",
      "[64]\tvalidation_0-logloss:0.03912\tvalidation_0-mcc:0.98275\n",
      "[65]\tvalidation_0-logloss:0.03911\tvalidation_0-mcc:0.98277\n",
      "[66]\tvalidation_0-logloss:0.03913\tvalidation_0-mcc:0.98275\n",
      "[67]\tvalidation_0-logloss:0.03915\tvalidation_0-mcc:0.98275\n",
      "[68]\tvalidation_0-logloss:0.03915\tvalidation_0-mcc:0.98276\n",
      "[69]\tvalidation_0-logloss:0.03917\tvalidation_0-mcc:0.98275\n",
      "[70]\tvalidation_0-logloss:0.03918\tvalidation_0-mcc:0.98276\n",
      "[71]\tvalidation_0-logloss:0.03917\tvalidation_0-mcc:0.98276\n",
      "[72]\tvalidation_0-logloss:0.03918\tvalidation_0-mcc:0.98276\n",
      "[73]\tvalidation_0-logloss:0.03920\tvalidation_0-mcc:0.98276\n",
      "[74]\tvalidation_0-logloss:0.03922\tvalidation_0-mcc:0.98278\n",
      "[75]\tvalidation_0-logloss:0.03923\tvalidation_0-mcc:0.98277\n",
      "[76]\tvalidation_0-logloss:0.03923\tvalidation_0-mcc:0.98278\n",
      "[77]\tvalidation_0-logloss:0.03924\tvalidation_0-mcc:0.98274\n",
      "[78]\tvalidation_0-logloss:0.03925\tvalidation_0-mcc:0.98276\n",
      "[79]\tvalidation_0-logloss:0.03926\tvalidation_0-mcc:0.98277\n",
      "[80]\tvalidation_0-logloss:0.03926\tvalidation_0-mcc:0.98277\n",
      "[81]\tvalidation_0-logloss:0.03925\tvalidation_0-mcc:0.98278\n",
      "[82]\tvalidation_0-logloss:0.03925\tvalidation_0-mcc:0.98279\n",
      "[83]\tvalidation_0-logloss:0.03925\tvalidation_0-mcc:0.98276\n",
      "[84]\tvalidation_0-logloss:0.03926\tvalidation_0-mcc:0.98274\n",
      "[85]\tvalidation_0-logloss:0.03927\tvalidation_0-mcc:0.98275\n",
      "[86]\tvalidation_0-logloss:0.03927\tvalidation_0-mcc:0.98275\n",
      "[87]\tvalidation_0-logloss:0.03928\tvalidation_0-mcc:0.98277\n",
      "[88]\tvalidation_0-logloss:0.03928\tvalidation_0-mcc:0.98276\n",
      "[89]\tvalidation_0-logloss:0.03929\tvalidation_0-mcc:0.98276\n",
      "[90]\tvalidation_0-logloss:0.03931\tvalidation_0-mcc:0.98273\n",
      "[91]\tvalidation_0-logloss:0.03932\tvalidation_0-mcc:0.98273\n",
      "[92]\tvalidation_0-logloss:0.03932\tvalidation_0-mcc:0.98274\n",
      "[93]\tvalidation_0-logloss:0.03932\tvalidation_0-mcc:0.98274\n",
      "[94]\tvalidation_0-logloss:0.03933\tvalidation_0-mcc:0.98272\n",
      "[95]\tvalidation_0-logloss:0.03934\tvalidation_0-mcc:0.98270\n",
      "[96]\tvalidation_0-logloss:0.03936\tvalidation_0-mcc:0.98269\n",
      "[97]\tvalidation_0-logloss:0.03936\tvalidation_0-mcc:0.98267\n",
      "[98]\tvalidation_0-logloss:0.03936\tvalidation_0-mcc:0.98268\n",
      "[99]\tvalidation_0-logloss:0.03937\tvalidation_0-mcc:0.98272\n",
      "[100]\tvalidation_0-logloss:0.03938\tvalidation_0-mcc:0.98272\n",
      "[101]\tvalidation_0-logloss:0.03939\tvalidation_0-mcc:0.98273\n",
      "[102]\tvalidation_0-logloss:0.03940\tvalidation_0-mcc:0.98274\n",
      "[103]\tvalidation_0-logloss:0.03941\tvalidation_0-mcc:0.98273\n",
      "[104]\tvalidation_0-logloss:0.03944\tvalidation_0-mcc:0.98273\n",
      "[105]\tvalidation_0-logloss:0.03945\tvalidation_0-mcc:0.98276\n",
      "[106]\tvalidation_0-logloss:0.03946\tvalidation_0-mcc:0.98274\n",
      "[107]\tvalidation_0-logloss:0.03948\tvalidation_0-mcc:0.98276\n",
      "[108]\tvalidation_0-logloss:0.03948\tvalidation_0-mcc:0.98274\n",
      "[109]\tvalidation_0-logloss:0.03950\tvalidation_0-mcc:0.98272\n",
      "[110]\tvalidation_0-logloss:0.03951\tvalidation_0-mcc:0.98269\n",
      "[111]\tvalidation_0-logloss:0.03952\tvalidation_0-mcc:0.98267\n",
      "[112]\tvalidation_0-logloss:0.03952\tvalidation_0-mcc:0.98268\n",
      "[113]\tvalidation_0-logloss:0.03953\tvalidation_0-mcc:0.98268\n",
      "[114]\tvalidation_0-logloss:0.03954\tvalidation_0-mcc:0.98268\n",
      "[115]\tvalidation_0-logloss:0.03956\tvalidation_0-mcc:0.98267\n",
      "[116]\tvalidation_0-logloss:0.03957\tvalidation_0-mcc:0.98267\n",
      "[117]\tvalidation_0-logloss:0.03958\tvalidation_0-mcc:0.98269\n",
      "[118]\tvalidation_0-logloss:0.03959\tvalidation_0-mcc:0.98269\n",
      "[119]\tvalidation_0-logloss:0.03960\tvalidation_0-mcc:0.98269\n",
      "[120]\tvalidation_0-logloss:0.03960\tvalidation_0-mcc:0.98271\n",
      "[121]\tvalidation_0-logloss:0.03960\tvalidation_0-mcc:0.98273\n",
      "[122]\tvalidation_0-logloss:0.03960\tvalidation_0-mcc:0.98274\n",
      "[123]\tvalidation_0-logloss:0.03962\tvalidation_0-mcc:0.98274\n",
      "[124]\tvalidation_0-logloss:0.03962\tvalidation_0-mcc:0.98272\n",
      "[125]\tvalidation_0-logloss:0.03963\tvalidation_0-mcc:0.98273\n",
      "[126]\tvalidation_0-logloss:0.03964\tvalidation_0-mcc:0.98273\n",
      "[127]\tvalidation_0-logloss:0.03965\tvalidation_0-mcc:0.98271\n",
      "[128]\tvalidation_0-logloss:0.03967\tvalidation_0-mcc:0.98272\n",
      "[129]\tvalidation_0-logloss:0.03968\tvalidation_0-mcc:0.98270\n",
      "[130]\tvalidation_0-logloss:0.03969\tvalidation_0-mcc:0.98270\n",
      "[131]\tvalidation_0-logloss:0.03970\tvalidation_0-mcc:0.98269\n",
      "[132]\tvalidation_0-logloss:0.03971\tvalidation_0-mcc:0.98269\n",
      "[133]\tvalidation_0-logloss:0.03972\tvalidation_0-mcc:0.98272\n",
      "[134]\tvalidation_0-logloss:0.03974\tvalidation_0-mcc:0.98272\n",
      "[135]\tvalidation_0-logloss:0.03976\tvalidation_0-mcc:0.98272\n",
      "[136]\tvalidation_0-logloss:0.03977\tvalidation_0-mcc:0.98273\n",
      "[137]\tvalidation_0-logloss:0.03978\tvalidation_0-mcc:0.98272\n",
      "[138]\tvalidation_0-logloss:0.03980\tvalidation_0-mcc:0.98272\n",
      "[139]\tvalidation_0-logloss:0.03980\tvalidation_0-mcc:0.98270\n",
      "[140]\tvalidation_0-logloss:0.03981\tvalidation_0-mcc:0.98269\n",
      "[141]\tvalidation_0-logloss:0.03982\tvalidation_0-mcc:0.98269\n",
      "[142]\tvalidation_0-logloss:0.03982\tvalidation_0-mcc:0.98271\n",
      "[143]\tvalidation_0-logloss:0.03982\tvalidation_0-mcc:0.98270\n",
      "[144]\tvalidation_0-logloss:0.03983\tvalidation_0-mcc:0.98270\n",
      "[145]\tvalidation_0-logloss:0.03984\tvalidation_0-mcc:0.98270\n",
      "[146]\tvalidation_0-logloss:0.03985\tvalidation_0-mcc:0.98269\n",
      "[147]\tvalidation_0-logloss:0.03985\tvalidation_0-mcc:0.98269\n",
      "[148]\tvalidation_0-logloss:0.03985\tvalidation_0-mcc:0.98270\n",
      "[149]\tvalidation_0-logloss:0.03986\tvalidation_0-mcc:0.98270\n",
      "[150]\tvalidation_0-logloss:0.03987\tvalidation_0-mcc:0.98271\n",
      "[151]\tvalidation_0-logloss:0.03988\tvalidation_0-mcc:0.98271\n",
      "[152]\tvalidation_0-logloss:0.03988\tvalidation_0-mcc:0.98273\n",
      "[153]\tvalidation_0-logloss:0.03990\tvalidation_0-mcc:0.98273\n",
      "[154]\tvalidation_0-logloss:0.03990\tvalidation_0-mcc:0.98269\n",
      "[155]\tvalidation_0-logloss:0.03991\tvalidation_0-mcc:0.98272\n",
      "[156]\tvalidation_0-logloss:0.03992\tvalidation_0-mcc:0.98272\n",
      "[157]\tvalidation_0-logloss:0.03993\tvalidation_0-mcc:0.98271\n",
      "[158]\tvalidation_0-logloss:0.03994\tvalidation_0-mcc:0.98271\n",
      "[159]\tvalidation_0-logloss:0.03994\tvalidation_0-mcc:0.98274\n",
      "[160]\tvalidation_0-logloss:0.03995\tvalidation_0-mcc:0.98273\n",
      "[161]\tvalidation_0-logloss:0.03996\tvalidation_0-mcc:0.98273\n",
      "[162]\tvalidation_0-logloss:0.03997\tvalidation_0-mcc:0.98273\n",
      "[163]\tvalidation_0-logloss:0.03998\tvalidation_0-mcc:0.98271\n",
      "[164]\tvalidation_0-logloss:0.03999\tvalidation_0-mcc:0.98272\n",
      "[165]\tvalidation_0-logloss:0.04001\tvalidation_0-mcc:0.98272\n",
      "[166]\tvalidation_0-logloss:0.04001\tvalidation_0-mcc:0.98273\n",
      "[167]\tvalidation_0-logloss:0.04001\tvalidation_0-mcc:0.98274\n",
      "[168]\tvalidation_0-logloss:0.04002\tvalidation_0-mcc:0.98273\n",
      "[169]\tvalidation_0-logloss:0.04003\tvalidation_0-mcc:0.98271\n",
      "[170]\tvalidation_0-logloss:0.04003\tvalidation_0-mcc:0.98270\n",
      "[171]\tvalidation_0-logloss:0.04004\tvalidation_0-mcc:0.98269\n",
      "[172]\tvalidation_0-logloss:0.04004\tvalidation_0-mcc:0.98270\n",
      "[173]\tvalidation_0-logloss:0.04005\tvalidation_0-mcc:0.98269\n",
      "[174]\tvalidation_0-logloss:0.04005\tvalidation_0-mcc:0.98269\n",
      "[175]\tvalidation_0-logloss:0.04007\tvalidation_0-mcc:0.98269\n",
      "[176]\tvalidation_0-logloss:0.04010\tvalidation_0-mcc:0.98267\n",
      "[177]\tvalidation_0-logloss:0.04011\tvalidation_0-mcc:0.98268\n",
      "[178]\tvalidation_0-logloss:0.04013\tvalidation_0-mcc:0.98267\n",
      "[179]\tvalidation_0-logloss:0.04013\tvalidation_0-mcc:0.98268\n",
      "[180]\tvalidation_0-logloss:0.04014\tvalidation_0-mcc:0.98269\n",
      "[181]\tvalidation_0-logloss:0.04014\tvalidation_0-mcc:0.98267\n",
      "[182]\tvalidation_0-logloss:0.04014\tvalidation_0-mcc:0.98267\n",
      "[183]\tvalidation_0-logloss:0.04016\tvalidation_0-mcc:0.98267\n",
      "[184]\tvalidation_0-logloss:0.04018\tvalidation_0-mcc:0.98266\n",
      "[185]\tvalidation_0-logloss:0.04018\tvalidation_0-mcc:0.98266\n",
      "[186]\tvalidation_0-logloss:0.04019\tvalidation_0-mcc:0.98264\n",
      "[187]\tvalidation_0-logloss:0.04020\tvalidation_0-mcc:0.98262\n",
      "[188]\tvalidation_0-logloss:0.04020\tvalidation_0-mcc:0.98264\n",
      "[189]\tvalidation_0-logloss:0.04020\tvalidation_0-mcc:0.98262\n",
      "[190]\tvalidation_0-logloss:0.04022\tvalidation_0-mcc:0.98265\n",
      "[191]\tvalidation_0-logloss:0.04023\tvalidation_0-mcc:0.98265\n",
      "[192]\tvalidation_0-logloss:0.04025\tvalidation_0-mcc:0.98266\n",
      "[193]\tvalidation_0-logloss:0.04026\tvalidation_0-mcc:0.98266\n",
      "[194]\tvalidation_0-logloss:0.04026\tvalidation_0-mcc:0.98265\n",
      "[195]\tvalidation_0-logloss:0.04026\tvalidation_0-mcc:0.98266\n",
      "[196]\tvalidation_0-logloss:0.04027\tvalidation_0-mcc:0.98265\n",
      "[197]\tvalidation_0-logloss:0.04027\tvalidation_0-mcc:0.98264\n",
      "[198]\tvalidation_0-logloss:0.04027\tvalidation_0-mcc:0.98265\n",
      "[199]\tvalidation_0-logloss:0.04028\tvalidation_0-mcc:0.98263\n"
     ]
    }
   ],
   "source": [
    "XGB = model.fit(\n",
    "    X_train, \n",
    "    y_train, \n",
    "    eval_set = [(X_test, y_test)],\n",
    "    eval_metric = mcc_metric)"
   ]
  },
  {
   "cell_type": "code",
   "execution_count": 19,
   "metadata": {},
   "outputs": [],
   "source": [
    "y_pred = XGB.predict(X_test)"
   ]
  },
  {
   "cell_type": "code",
   "execution_count": 20,
   "metadata": {},
   "outputs": [
    {
     "name": "stdout",
     "output_type": "stream",
     "text": [
      "MCC 0.9826329769368887\n"
     ]
    }
   ],
   "source": [
    "score = matthews_corrcoef(y_test, y_pred)\n",
    "print('MCC', score)"
   ]
  },
  {
   "cell_type": "code",
   "execution_count": 21,
   "metadata": {},
   "outputs": [],
   "source": [
    "test_pred_prob = XGB.predict(test)"
   ]
  },
  {
   "cell_type": "code",
   "execution_count": 22,
   "metadata": {},
   "outputs": [],
   "source": [
    "test_pred_class = le.inverse_transform(test_pred_prob)"
   ]
  },
  {
   "cell_type": "code",
   "execution_count": 23,
   "metadata": {},
   "outputs": [],
   "source": [
    "submission = pd.read_csv('sample_submission.csv')\n",
    "\n",
    "submission['class'] = test_pred_class"
   ]
  },
  {
   "cell_type": "code",
   "execution_count": 24,
   "metadata": {},
   "outputs": [],
   "source": [
    "submission.to_csv('submission.csv', index = False)"
   ]
  }
 ],
 "metadata": {
  "kernelspec": {
   "display_name": "venv",
   "language": "python",
   "name": "python3"
  },
  "language_info": {
   "codemirror_mode": {
    "name": "ipython",
    "version": 3
   },
   "file_extension": ".py",
   "mimetype": "text/x-python",
   "name": "python",
   "nbconvert_exporter": "python",
   "pygments_lexer": "ipython3",
   "version": "3.11.3"
  }
 },
 "nbformat": 4,
 "nbformat_minor": 2
}
