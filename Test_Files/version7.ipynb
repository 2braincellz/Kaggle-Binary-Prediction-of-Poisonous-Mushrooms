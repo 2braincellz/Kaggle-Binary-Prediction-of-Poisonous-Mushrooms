{
 "cells": [
  {
   "cell_type": "markdown",
   "metadata": {},
   "source": [
    "Imputing after train split"
   ]
  },
  {
   "cell_type": "code",
   "execution_count": 1,
   "metadata": {},
   "outputs": [],
   "source": [
    "import pandas as pd\n",
    "import numpy as np\n",
    "import matplotlib.pyplot as plt"
   ]
  },
  {
   "cell_type": "code",
   "execution_count": 2,
   "metadata": {},
   "outputs": [],
   "source": [
    "train = pd.read_csv('train.csv')\n",
    "test = pd.read_csv('test.csv')"
   ]
  },
  {
   "cell_type": "code",
   "execution_count": 3,
   "metadata": {},
   "outputs": [],
   "source": [
    "train = train.drop('id', axis = 1)\n",
    "test = test.drop('id', axis = 1)"
   ]
  },
  {
   "cell_type": "code",
   "execution_count": 4,
   "metadata": {},
   "outputs": [],
   "source": [
    "pd.set_option('display.max_columns', None)"
   ]
  },
  {
   "cell_type": "code",
   "execution_count": 5,
   "metadata": {},
   "outputs": [],
   "source": [
    "def replace_non_alpha_with_nan(df):\n",
    "    cols_to_filter = ['cap-shape', 'cap-surface', 'cap-color', \n",
    "                      'does-bruise-or-bleed', 'gill-attachment', \n",
    "                      'gill-spacing', 'gill-color', 'stem-surface', \n",
    "                      'stem-color', 'has-ring', 'ring-type', 'habitat', 'stem-root', 'veil-type', 'veil-color', 'spore-print-color']\n",
    "\n",
    "    alphabet_list = ['a', 'b', 'c', 'd', 'e', 'f', 'g', 'h', 'i', 'j', \n",
    "                     'k', 'l', 'm', 'n', 'o', 'p', 'q', 'r', 's', 't', 'u', 'v', 'w', 'x', 'y', 'z']\n",
    "\n",
    "    col_values = {}\n",
    "    for col in cols_to_filter:\n",
    "        value_counts = train[col].value_counts()\n",
    "        col_values[col] = value_counts[value_counts > 10].index.values.tolist()\n",
    "\n",
    "\n",
    "    def filter_alpha(value, value_list_no_outliers):\n",
    "        if isinstance(value, str):\n",
    "            return value if len(value) == 1 and value in value_list_no_outliers and value in alphabet_list else np.nan # if value is a single character\n",
    "        \n",
    "        return np.nan\n",
    "    \n",
    "    for col in cols_to_filter:\n",
    "        df[col] = df[col].apply(lambda x : filter_alpha(x, col_values[col]))\n",
    "\n",
    "    return df"
   ]
  },
  {
   "cell_type": "code",
   "execution_count": 6,
   "metadata": {},
   "outputs": [],
   "source": [
    "train = replace_non_alpha_with_nan(train)\n",
    "test = replace_non_alpha_with_nan(test)"
   ]
  },
  {
   "cell_type": "code",
   "execution_count": 7,
   "metadata": {},
   "outputs": [
    {
     "name": "stdout",
     "output_type": "stream",
     "text": [
      "Categorical columns:\n",
      " ['cap-shape', 'cap-surface', 'cap-color', 'does-bruise-or-bleed', 'gill-attachment', 'gill-spacing', 'gill-color', 'stem-root', 'stem-surface', 'stem-color', 'veil-type', 'veil-color', 'has-ring', 'ring-type', 'spore-print-color', 'habitat', 'season']\n",
      "\n",
      "Numeric columns:\n",
      " ['cap-diameter', 'stem-height', 'stem-width']\n"
     ]
    }
   ],
   "source": [
    "cat_cols = [col for col in train.select_dtypes('object').columns if col != 'class']\n",
    "num_cols = [col for col in train.select_dtypes('number').columns]\n",
    "print(f'Categorical columns:\\n {cat_cols}\\n')\n",
    "print(f'Numeric columns:\\n {num_cols}')"
   ]
  },
  {
   "cell_type": "code",
   "execution_count": 8,
   "metadata": {},
   "outputs": [],
   "source": [
    "from sklearn.pipeline import Pipeline\n",
    "from sklearn.impute import KNNImputer\n",
    "from sklearn.impute import SimpleImputer\n",
    "from sklearn.preprocessing import OrdinalEncoder\n",
    "from sklearn.compose import ColumnTransformer\n",
    "from sklearn.preprocessing import FunctionTransformer\n",
    "\n",
    "def encode_train_data(df, num_cols, cat_cols):\n",
    "\n",
    "    numeric_transformer = Pipeline(steps = [\n",
    "        ('imputer', KNNImputer(n_neighbors = 3))\n",
    "    ])\n",
    "\n",
    "    categorical_transformer = Pipeline(steps = [\n",
    "        # ('imputer', SimpleImputer(strategy = 'most_frequent')),\n",
    "        ('ordinal', OrdinalEncoder(handle_unknown='use_encoded_value', unknown_value=-1)),\n",
    "        ('adjust', FunctionTransformer(lambda x : x + 1)) # * Adjust function\n",
    "    ])\n",
    "\n",
    "    preprocessor = ColumnTransformer(\n",
    "        transformers = [\n",
    "            ('num', numeric_transformer, num_cols),\n",
    "            ('cat', categorical_transformer, cat_cols)\n",
    "        ]\n",
    "    )\n",
    "\n",
    "    df_transformed = pd.DataFrame(preprocessor.fit_transform(df[num_cols + cat_cols]), columns = num_cols + cat_cols)\n",
    "\n",
    "    df_final = df[['class']].join(df_transformed)\n",
    "\n",
    "    return df_final"
   ]
  },
  {
   "cell_type": "code",
   "execution_count": null,
   "metadata": {},
   "outputs": [],
   "source": []
  },
  {
   "cell_type": "code",
   "execution_count": 9,
   "metadata": {},
   "outputs": [],
   "source": [
    "def encode_test_data(df, num_cols, cat_cols):\n",
    "\n",
    "    numeric_transformer = Pipeline(steps = [\n",
    "        ('imputer', KNNImputer(n_neighbors=3))\n",
    "    ])\n",
    "\n",
    "    categorical_transformer = Pipeline(steps = [\n",
    "        # ('imputer', SimpleImputer(strategy='most_frequent')),\n",
    "        ('ordinal', OrdinalEncoder(handle_unknown='use_encoded_value', unknown_value = -1)),\n",
    "        ('adjust', FunctionTransformer(lambda x : x + 1)) # * Adjust function\n",
    "    ])\n",
    "\n",
    "    preprocessor = ColumnTransformer(\n",
    "        transformers = [\n",
    "            ('num', numeric_transformer, num_cols),\n",
    "            ('cat', categorical_transformer, cat_cols)\n",
    "        ]\n",
    "    )\n",
    "\n",
    "    df_transformed = pd.DataFrame(preprocessor.fit_transform(df[num_cols + cat_cols]), columns = num_cols + cat_cols)\n",
    "\n",
    "    df_final = df_transformed\n",
    "    return df_final"
   ]
  },
  {
   "cell_type": "code",
   "execution_count": null,
   "metadata": {},
   "outputs": [],
   "source": []
  },
  {
   "cell_type": "code",
   "execution_count": 10,
   "metadata": {},
   "outputs": [],
   "source": [
    "import itertools\n",
    "from sklearn.preprocessing import LabelEncoder\n",
    "\n",
    "def find_train_combinations(train, cat_cols, num_cols):\n",
    "    \n",
    "    all_columns = cat_cols + num_cols\n",
    "\n",
    "    # ? returning features from train_combinations with correlations greater than the mean of the original\n",
    "    \n",
    "    ord_enc = LabelEncoder()\n",
    "    train['class'] = ord_enc.fit_transform(train['class'])\n",
    "\n",
    "    corr_matrix = train.corr()\n",
    "    \n",
    "    threshold = abs(corr_matrix['class']).sort_values(ascending=False).mean()\n",
    "    print(f\" Mean Correlation of Original Data {threshold}\")\n",
    "\n",
    "\n",
    "    filtered_cols = [col for col in all_columns if col != 'class']\n",
    "    print(filtered_cols)\n",
    "    print(train.columns)\n",
    "    combinations = itertools.combinations(filtered_cols, 2)\n",
    "    print(combinations)\n",
    "\n",
    "    train_combinations = train['class'].to_frame()\n",
    "\n",
    "    for col1, col2 in combinations:\n",
    "       combination = train[col1] * train[col2]\n",
    "       train_combinations = train_combinations.join(combination.rename(f'{col1} x {col2}'))\n",
    "    \n",
    "    # ? returning features from train_combinations with correlations greater than the mean of the original\n",
    "\n",
    "    # corr_combinations = train_combinations.corr()\n",
    "    # abs_values = abs(corr_combinations['class'])\n",
    "    # new_cols = abs_values.loc[abs_values > threshold].index.tolist()\n",
    "    # if 'class' in new_cols:\n",
    "    #     new_cols.remove('class')\n",
    "    new_cols = ['gill-attachment x stem-color']\n",
    "    \n",
    "    \n",
    "    train['class'] = ord_enc.inverse_transform(train['class'])\n",
    "    return train.join(train_combinations[new_cols])\n"
   ]
  },
  {
   "cell_type": "code",
   "execution_count": 11,
   "metadata": {},
   "outputs": [],
   "source": [
    "def find_test_combinations(test, cat_cols, num_cols, train_columns):\n",
    "\n",
    "    all_columns = cat_cols + num_cols\n",
    "\n",
    "    filtered_cols = [col for col in all_columns if col != 'class']\n",
    "    print(filtered_cols)\n",
    "    combinations = itertools.combinations(filtered_cols, 2)\n",
    "\n",
    "    test_combinations = pd.DataFrame(index = test.index)\n",
    "\n",
    "    for col1, col2 in combinations:\n",
    "       combination = test[col1] * test[col2]\n",
    "       test_combinations = test_combinations.join(combination.rename(f'{col1} x {col2}'))\n",
    "    \n",
    "    # ? Remove 'class' feature from test set\n",
    "    train_columns = train_columns.drop('class')\n",
    "\n",
    "    test = test.join(test_combinations)\n",
    "\n",
    "    return test[train_columns]\n",
    "\n"
   ]
  },
  {
   "cell_type": "code",
   "execution_count": 12,
   "metadata": {},
   "outputs": [],
   "source": [
    "# train = find_train_combinations(train, cat_cols, num_cols) # ! Change train_new back to train after testing\n",
    "# test = find_test_combinations(test, cat_cols, num_cols, train.columns)\n"
   ]
  },
  {
   "cell_type": "code",
   "execution_count": 13,
   "metadata": {},
   "outputs": [],
   "source": [
    "def handle_missing_data(df_transformed):\n",
    "    \n",
    "    df_transformed = df_transformed.fillna(-10)\n",
    "\n",
    "    print(\"Missing values after imputation:\")\n",
    "    print(df_transformed.isnull().sum())\n",
    "    return df_transformed"
   ]
  },
  {
   "cell_type": "code",
   "execution_count": 14,
   "metadata": {},
   "outputs": [],
   "source": [
    "def drop_columns(df):\n",
    "    df = df.drop('veil-type', axis = 1)\n",
    "\n",
    "    return df"
   ]
  },
  {
   "cell_type": "code",
   "execution_count": 15,
   "metadata": {},
   "outputs": [],
   "source": [
    "# train = drop_columns(train)\n",
    "# test = drop_columns(test)"
   ]
  },
  {
   "cell_type": "code",
   "execution_count": 16,
   "metadata": {},
   "outputs": [],
   "source": [
    "from sklearn.preprocessing import LabelEncoder\n",
    "le = LabelEncoder()\n",
    "train['class'] = le.fit_transform(train['class'])"
   ]
  },
  {
   "cell_type": "code",
   "execution_count": 17,
   "metadata": {},
   "outputs": [],
   "source": [
    "y = train['class']\n",
    "X = train.drop('class', axis = 1)"
   ]
  },
  {
   "cell_type": "code",
   "execution_count": 18,
   "metadata": {},
   "outputs": [],
   "source": [
    "from sklearn.model_selection import train_test_split\n",
    "\n",
    "X_train, X_test, y_train, y_test = train_test_split(X, y, test_size = 0.2, random_state = 42)"
   ]
  },
  {
   "cell_type": "code",
   "execution_count": 27,
   "metadata": {},
   "outputs": [],
   "source": [
    "X_train = encode_test_data(X_train, num_cols, cat_cols)\n",
    "X_test = encode_test_data(X_test, num_cols, cat_cols)\n",
    "\n",
    "\n",
    "test = encode_test_data(test, num_cols, cat_cols)"
   ]
  },
  {
   "cell_type": "code",
   "execution_count": null,
   "metadata": {},
   "outputs": [],
   "source": [
    "from sklearn.metrics import matthews_corrcoef\n",
    "\n",
    "def mcc_metric(y_pred, dmatrix):\n",
    "    y_true = dmatrix.get_label()\n",
    "    y_pred = (y_pred > 0.5).astype(int) \n",
    "    mcc = matthews_corrcoef(y_true, y_pred)\n",
    "    return 'mcc', mcc"
   ]
  },
  {
   "cell_type": "code",
   "execution_count": null,
   "metadata": {},
   "outputs": [],
   "source": [
    "from sklearn.metrics import matthews_corrcoef\n",
    "from xgboost import XGBClassifier\n",
    "import gc\n",
    "\n",
    "model = XGBClassifier(\n",
    "\n",
    "    colsample_bytree = 0.6,\n",
    "    max_depth = 14,\n",
    "    min_child_weight = 7,\n",
    "    random_state = 42,\n",
    "    n_estimators = 200,\n",
    ")"
   ]
  },
  {
   "cell_type": "code",
   "execution_count": null,
   "metadata": {},
   "outputs": [
    {
     "name": "stderr",
     "output_type": "stream",
     "text": [
      "c:\\Users\\hugph\\ML\\s4e8\\venv\\Lib\\site-packages\\xgboost\\sklearn.py:889: UserWarning: `eval_metric` in `fit` method is deprecated for better compatibility with scikit-learn, use `eval_metric` in constructor or`set_params` instead.\n",
      "  warnings.warn(\n"
     ]
    },
    {
     "name": "stdout",
     "output_type": "stream",
     "text": [
      "[0]\tvalidation_0-logloss:0.46819\tvalidation_0-mcc:0.91116\n",
      "[1]\tvalidation_0-logloss:0.33166\tvalidation_0-mcc:0.96217\n",
      "[2]\tvalidation_0-logloss:0.24768\tvalidation_0-mcc:0.97006\n",
      "[3]\tvalidation_0-logloss:0.18835\tvalidation_0-mcc:0.97555\n",
      "[4]\tvalidation_0-logloss:0.14836\tvalidation_0-mcc:0.97691\n",
      "[5]\tvalidation_0-logloss:0.11745\tvalidation_0-mcc:0.97936\n",
      "[6]\tvalidation_0-logloss:0.09547\tvalidation_0-mcc:0.98036\n",
      "[7]\tvalidation_0-logloss:0.08231\tvalidation_0-mcc:0.98061\n",
      "[8]\tvalidation_0-logloss:0.07016\tvalidation_0-mcc:0.98135\n",
      "[9]\tvalidation_0-logloss:0.06168\tvalidation_0-mcc:0.98162\n",
      "[10]\tvalidation_0-logloss:0.05512\tvalidation_0-mcc:0.98204\n",
      "[11]\tvalidation_0-logloss:0.05166\tvalidation_0-mcc:0.98210\n",
      "[12]\tvalidation_0-logloss:0.04879\tvalidation_0-mcc:0.98211\n",
      "[13]\tvalidation_0-logloss:0.04604\tvalidation_0-mcc:0.98235\n",
      "[14]\tvalidation_0-logloss:0.04339\tvalidation_0-mcc:0.98291\n",
      "[15]\tvalidation_0-logloss:0.04188\tvalidation_0-mcc:0.98309\n",
      "[16]\tvalidation_0-logloss:0.04082\tvalidation_0-mcc:0.98319\n",
      "[17]\tvalidation_0-logloss:0.03999\tvalidation_0-mcc:0.98333\n",
      "[18]\tvalidation_0-logloss:0.03912\tvalidation_0-mcc:0.98352\n",
      "[19]\tvalidation_0-logloss:0.03872\tvalidation_0-mcc:0.98350\n",
      "[20]\tvalidation_0-logloss:0.03832\tvalidation_0-mcc:0.98364\n",
      "[21]\tvalidation_0-logloss:0.03802\tvalidation_0-mcc:0.98368\n",
      "[22]\tvalidation_0-logloss:0.03782\tvalidation_0-mcc:0.98377\n",
      "[23]\tvalidation_0-logloss:0.03770\tvalidation_0-mcc:0.98378\n",
      "[24]\tvalidation_0-logloss:0.03763\tvalidation_0-mcc:0.98380\n",
      "[25]\tvalidation_0-logloss:0.03760\tvalidation_0-mcc:0.98380\n",
      "[26]\tvalidation_0-logloss:0.03755\tvalidation_0-mcc:0.98383\n",
      "[27]\tvalidation_0-logloss:0.03750\tvalidation_0-mcc:0.98387\n",
      "[28]\tvalidation_0-logloss:0.03745\tvalidation_0-mcc:0.98385\n",
      "[29]\tvalidation_0-logloss:0.03743\tvalidation_0-mcc:0.98384\n",
      "[30]\tvalidation_0-logloss:0.03742\tvalidation_0-mcc:0.98387\n",
      "[31]\tvalidation_0-logloss:0.03739\tvalidation_0-mcc:0.98389\n",
      "[32]\tvalidation_0-logloss:0.03740\tvalidation_0-mcc:0.98392\n",
      "[33]\tvalidation_0-logloss:0.03740\tvalidation_0-mcc:0.98393\n",
      "[34]\tvalidation_0-logloss:0.03736\tvalidation_0-mcc:0.98393\n",
      "[35]\tvalidation_0-logloss:0.03735\tvalidation_0-mcc:0.98390\n",
      "[36]\tvalidation_0-logloss:0.03736\tvalidation_0-mcc:0.98391\n",
      "[37]\tvalidation_0-logloss:0.03736\tvalidation_0-mcc:0.98389\n",
      "[38]\tvalidation_0-logloss:0.03737\tvalidation_0-mcc:0.98392\n",
      "[39]\tvalidation_0-logloss:0.03739\tvalidation_0-mcc:0.98392\n",
      "[40]\tvalidation_0-logloss:0.03740\tvalidation_0-mcc:0.98392\n",
      "[41]\tvalidation_0-logloss:0.03740\tvalidation_0-mcc:0.98392\n",
      "[42]\tvalidation_0-logloss:0.03741\tvalidation_0-mcc:0.98393\n",
      "[43]\tvalidation_0-logloss:0.03743\tvalidation_0-mcc:0.98394\n",
      "[44]\tvalidation_0-logloss:0.03743\tvalidation_0-mcc:0.98395\n",
      "[45]\tvalidation_0-logloss:0.03743\tvalidation_0-mcc:0.98397\n",
      "[46]\tvalidation_0-logloss:0.03742\tvalidation_0-mcc:0.98398\n",
      "[47]\tvalidation_0-logloss:0.03742\tvalidation_0-mcc:0.98397\n",
      "[48]\tvalidation_0-logloss:0.03742\tvalidation_0-mcc:0.98397\n",
      "[49]\tvalidation_0-logloss:0.03742\tvalidation_0-mcc:0.98398\n",
      "[50]\tvalidation_0-logloss:0.03742\tvalidation_0-mcc:0.98399\n",
      "[51]\tvalidation_0-logloss:0.03741\tvalidation_0-mcc:0.98400\n",
      "[52]\tvalidation_0-logloss:0.03741\tvalidation_0-mcc:0.98401\n",
      "[53]\tvalidation_0-logloss:0.03743\tvalidation_0-mcc:0.98400\n",
      "[54]\tvalidation_0-logloss:0.03745\tvalidation_0-mcc:0.98401\n",
      "[55]\tvalidation_0-logloss:0.03744\tvalidation_0-mcc:0.98398\n",
      "[56]\tvalidation_0-logloss:0.03747\tvalidation_0-mcc:0.98399\n",
      "[57]\tvalidation_0-logloss:0.03747\tvalidation_0-mcc:0.98399\n",
      "[58]\tvalidation_0-logloss:0.03748\tvalidation_0-mcc:0.98401\n",
      "[59]\tvalidation_0-logloss:0.03749\tvalidation_0-mcc:0.98401\n",
      "[60]\tvalidation_0-logloss:0.03751\tvalidation_0-mcc:0.98401\n",
      "[61]\tvalidation_0-logloss:0.03751\tvalidation_0-mcc:0.98399\n",
      "[62]\tvalidation_0-logloss:0.03752\tvalidation_0-mcc:0.98399\n",
      "[63]\tvalidation_0-logloss:0.03753\tvalidation_0-mcc:0.98397\n",
      "[64]\tvalidation_0-logloss:0.03755\tvalidation_0-mcc:0.98398\n",
      "[65]\tvalidation_0-logloss:0.03755\tvalidation_0-mcc:0.98396\n",
      "[66]\tvalidation_0-logloss:0.03757\tvalidation_0-mcc:0.98397\n",
      "[67]\tvalidation_0-logloss:0.03758\tvalidation_0-mcc:0.98397\n",
      "[68]\tvalidation_0-logloss:0.03759\tvalidation_0-mcc:0.98396\n",
      "[69]\tvalidation_0-logloss:0.03760\tvalidation_0-mcc:0.98397\n",
      "[70]\tvalidation_0-logloss:0.03761\tvalidation_0-mcc:0.98397\n",
      "[71]\tvalidation_0-logloss:0.03763\tvalidation_0-mcc:0.98398\n",
      "[72]\tvalidation_0-logloss:0.03764\tvalidation_0-mcc:0.98398\n",
      "[73]\tvalidation_0-logloss:0.03765\tvalidation_0-mcc:0.98402\n",
      "[74]\tvalidation_0-logloss:0.03767\tvalidation_0-mcc:0.98399\n",
      "[75]\tvalidation_0-logloss:0.03768\tvalidation_0-mcc:0.98402\n",
      "[76]\tvalidation_0-logloss:0.03770\tvalidation_0-mcc:0.98398\n",
      "[77]\tvalidation_0-logloss:0.03771\tvalidation_0-mcc:0.98398\n",
      "[78]\tvalidation_0-logloss:0.03772\tvalidation_0-mcc:0.98399\n",
      "[79]\tvalidation_0-logloss:0.03773\tvalidation_0-mcc:0.98401\n",
      "[80]\tvalidation_0-logloss:0.03774\tvalidation_0-mcc:0.98403\n",
      "[81]\tvalidation_0-logloss:0.03777\tvalidation_0-mcc:0.98397\n",
      "[82]\tvalidation_0-logloss:0.03775\tvalidation_0-mcc:0.98401\n",
      "[83]\tvalidation_0-logloss:0.03775\tvalidation_0-mcc:0.98400\n",
      "[84]\tvalidation_0-logloss:0.03777\tvalidation_0-mcc:0.98399\n",
      "[85]\tvalidation_0-logloss:0.03778\tvalidation_0-mcc:0.98400\n",
      "[86]\tvalidation_0-logloss:0.03779\tvalidation_0-mcc:0.98399\n",
      "[87]\tvalidation_0-logloss:0.03778\tvalidation_0-mcc:0.98402\n",
      "[88]\tvalidation_0-logloss:0.03779\tvalidation_0-mcc:0.98401\n",
      "[89]\tvalidation_0-logloss:0.03780\tvalidation_0-mcc:0.98402\n",
      "[90]\tvalidation_0-logloss:0.03781\tvalidation_0-mcc:0.98398\n",
      "[91]\tvalidation_0-logloss:0.03784\tvalidation_0-mcc:0.98397\n",
      "[92]\tvalidation_0-logloss:0.03785\tvalidation_0-mcc:0.98400\n",
      "[93]\tvalidation_0-logloss:0.03786\tvalidation_0-mcc:0.98399\n",
      "[94]\tvalidation_0-logloss:0.03787\tvalidation_0-mcc:0.98400\n",
      "[95]\tvalidation_0-logloss:0.03787\tvalidation_0-mcc:0.98402\n",
      "[96]\tvalidation_0-logloss:0.03788\tvalidation_0-mcc:0.98401\n",
      "[97]\tvalidation_0-logloss:0.03789\tvalidation_0-mcc:0.98401\n",
      "[98]\tvalidation_0-logloss:0.03792\tvalidation_0-mcc:0.98403\n",
      "[99]\tvalidation_0-logloss:0.03794\tvalidation_0-mcc:0.98400\n",
      "[100]\tvalidation_0-logloss:0.03795\tvalidation_0-mcc:0.98399\n",
      "[101]\tvalidation_0-logloss:0.03794\tvalidation_0-mcc:0.98399\n",
      "[102]\tvalidation_0-logloss:0.03796\tvalidation_0-mcc:0.98398\n",
      "[103]\tvalidation_0-logloss:0.03797\tvalidation_0-mcc:0.98397\n",
      "[104]\tvalidation_0-logloss:0.03797\tvalidation_0-mcc:0.98397\n",
      "[105]\tvalidation_0-logloss:0.03798\tvalidation_0-mcc:0.98396\n",
      "[106]\tvalidation_0-logloss:0.03800\tvalidation_0-mcc:0.98395\n",
      "[107]\tvalidation_0-logloss:0.03800\tvalidation_0-mcc:0.98394\n",
      "[108]\tvalidation_0-logloss:0.03804\tvalidation_0-mcc:0.98396\n",
      "[109]\tvalidation_0-logloss:0.03806\tvalidation_0-mcc:0.98394\n",
      "[110]\tvalidation_0-logloss:0.03807\tvalidation_0-mcc:0.98396\n",
      "[111]\tvalidation_0-logloss:0.03808\tvalidation_0-mcc:0.98397\n",
      "[112]\tvalidation_0-logloss:0.03809\tvalidation_0-mcc:0.98396\n",
      "[113]\tvalidation_0-logloss:0.03809\tvalidation_0-mcc:0.98397\n",
      "[114]\tvalidation_0-logloss:0.03810\tvalidation_0-mcc:0.98395\n",
      "[115]\tvalidation_0-logloss:0.03811\tvalidation_0-mcc:0.98394\n",
      "[116]\tvalidation_0-logloss:0.03811\tvalidation_0-mcc:0.98391\n",
      "[117]\tvalidation_0-logloss:0.03812\tvalidation_0-mcc:0.98389\n",
      "[118]\tvalidation_0-logloss:0.03812\tvalidation_0-mcc:0.98390\n",
      "[119]\tvalidation_0-logloss:0.03814\tvalidation_0-mcc:0.98390\n",
      "[120]\tvalidation_0-logloss:0.03815\tvalidation_0-mcc:0.98390\n",
      "[121]\tvalidation_0-logloss:0.03816\tvalidation_0-mcc:0.98389\n",
      "[122]\tvalidation_0-logloss:0.03817\tvalidation_0-mcc:0.98390\n",
      "[123]\tvalidation_0-logloss:0.03819\tvalidation_0-mcc:0.98389\n",
      "[124]\tvalidation_0-logloss:0.03821\tvalidation_0-mcc:0.98389\n",
      "[125]\tvalidation_0-logloss:0.03822\tvalidation_0-mcc:0.98389\n",
      "[126]\tvalidation_0-logloss:0.03823\tvalidation_0-mcc:0.98388\n",
      "[127]\tvalidation_0-logloss:0.03824\tvalidation_0-mcc:0.98392\n",
      "[128]\tvalidation_0-logloss:0.03824\tvalidation_0-mcc:0.98392\n",
      "[129]\tvalidation_0-logloss:0.03825\tvalidation_0-mcc:0.98389\n",
      "[130]\tvalidation_0-logloss:0.03828\tvalidation_0-mcc:0.98391\n",
      "[131]\tvalidation_0-logloss:0.03828\tvalidation_0-mcc:0.98390\n",
      "[132]\tvalidation_0-logloss:0.03829\tvalidation_0-mcc:0.98390\n",
      "[133]\tvalidation_0-logloss:0.03830\tvalidation_0-mcc:0.98389\n",
      "[134]\tvalidation_0-logloss:0.03831\tvalidation_0-mcc:0.98387\n",
      "[135]\tvalidation_0-logloss:0.03832\tvalidation_0-mcc:0.98387\n",
      "[136]\tvalidation_0-logloss:0.03834\tvalidation_0-mcc:0.98386\n",
      "[137]\tvalidation_0-logloss:0.03835\tvalidation_0-mcc:0.98389\n",
      "[138]\tvalidation_0-logloss:0.03836\tvalidation_0-mcc:0.98388\n",
      "[139]\tvalidation_0-logloss:0.03837\tvalidation_0-mcc:0.98387\n",
      "[140]\tvalidation_0-logloss:0.03838\tvalidation_0-mcc:0.98386\n",
      "[141]\tvalidation_0-logloss:0.03839\tvalidation_0-mcc:0.98386\n",
      "[142]\tvalidation_0-logloss:0.03841\tvalidation_0-mcc:0.98385\n",
      "[143]\tvalidation_0-logloss:0.03841\tvalidation_0-mcc:0.98385\n",
      "[144]\tvalidation_0-logloss:0.03842\tvalidation_0-mcc:0.98386\n",
      "[145]\tvalidation_0-logloss:0.03844\tvalidation_0-mcc:0.98385\n",
      "[146]\tvalidation_0-logloss:0.03845\tvalidation_0-mcc:0.98386\n",
      "[147]\tvalidation_0-logloss:0.03846\tvalidation_0-mcc:0.98385\n",
      "[148]\tvalidation_0-logloss:0.03846\tvalidation_0-mcc:0.98384\n",
      "[149]\tvalidation_0-logloss:0.03847\tvalidation_0-mcc:0.98385\n",
      "[150]\tvalidation_0-logloss:0.03847\tvalidation_0-mcc:0.98385\n",
      "[151]\tvalidation_0-logloss:0.03848\tvalidation_0-mcc:0.98386\n",
      "[152]\tvalidation_0-logloss:0.03849\tvalidation_0-mcc:0.98386\n",
      "[153]\tvalidation_0-logloss:0.03850\tvalidation_0-mcc:0.98388\n",
      "[154]\tvalidation_0-logloss:0.03850\tvalidation_0-mcc:0.98386\n",
      "[155]\tvalidation_0-logloss:0.03853\tvalidation_0-mcc:0.98386\n",
      "[156]\tvalidation_0-logloss:0.03854\tvalidation_0-mcc:0.98385\n",
      "[157]\tvalidation_0-logloss:0.03855\tvalidation_0-mcc:0.98387\n",
      "[158]\tvalidation_0-logloss:0.03856\tvalidation_0-mcc:0.98386\n",
      "[159]\tvalidation_0-logloss:0.03857\tvalidation_0-mcc:0.98385\n",
      "[160]\tvalidation_0-logloss:0.03858\tvalidation_0-mcc:0.98381\n",
      "[161]\tvalidation_0-logloss:0.03859\tvalidation_0-mcc:0.98379\n",
      "[162]\tvalidation_0-logloss:0.03860\tvalidation_0-mcc:0.98379\n",
      "[163]\tvalidation_0-logloss:0.03862\tvalidation_0-mcc:0.98377\n",
      "[164]\tvalidation_0-logloss:0.03863\tvalidation_0-mcc:0.98377\n",
      "[165]\tvalidation_0-logloss:0.03865\tvalidation_0-mcc:0.98377\n",
      "[166]\tvalidation_0-logloss:0.03866\tvalidation_0-mcc:0.98376\n",
      "[167]\tvalidation_0-logloss:0.03866\tvalidation_0-mcc:0.98377\n",
      "[168]\tvalidation_0-logloss:0.03868\tvalidation_0-mcc:0.98377\n",
      "[169]\tvalidation_0-logloss:0.03869\tvalidation_0-mcc:0.98378\n",
      "[170]\tvalidation_0-logloss:0.03870\tvalidation_0-mcc:0.98379\n",
      "[171]\tvalidation_0-logloss:0.03871\tvalidation_0-mcc:0.98378\n",
      "[172]\tvalidation_0-logloss:0.03873\tvalidation_0-mcc:0.98380\n",
      "[173]\tvalidation_0-logloss:0.03873\tvalidation_0-mcc:0.98378\n",
      "[174]\tvalidation_0-logloss:0.03874\tvalidation_0-mcc:0.98378\n",
      "[175]\tvalidation_0-logloss:0.03875\tvalidation_0-mcc:0.98376\n",
      "[176]\tvalidation_0-logloss:0.03875\tvalidation_0-mcc:0.98377\n",
      "[177]\tvalidation_0-logloss:0.03877\tvalidation_0-mcc:0.98378\n",
      "[178]\tvalidation_0-logloss:0.03877\tvalidation_0-mcc:0.98377\n",
      "[179]\tvalidation_0-logloss:0.03878\tvalidation_0-mcc:0.98379\n",
      "[180]\tvalidation_0-logloss:0.03878\tvalidation_0-mcc:0.98378\n",
      "[181]\tvalidation_0-logloss:0.03880\tvalidation_0-mcc:0.98378\n",
      "[182]\tvalidation_0-logloss:0.03880\tvalidation_0-mcc:0.98378\n",
      "[183]\tvalidation_0-logloss:0.03880\tvalidation_0-mcc:0.98377\n",
      "[184]\tvalidation_0-logloss:0.03881\tvalidation_0-mcc:0.98376\n",
      "[185]\tvalidation_0-logloss:0.03882\tvalidation_0-mcc:0.98375\n",
      "[186]\tvalidation_0-logloss:0.03882\tvalidation_0-mcc:0.98376\n",
      "[187]\tvalidation_0-logloss:0.03883\tvalidation_0-mcc:0.98377\n",
      "[188]\tvalidation_0-logloss:0.03883\tvalidation_0-mcc:0.98376\n",
      "[189]\tvalidation_0-logloss:0.03884\tvalidation_0-mcc:0.98374\n",
      "[190]\tvalidation_0-logloss:0.03885\tvalidation_0-mcc:0.98373\n",
      "[191]\tvalidation_0-logloss:0.03886\tvalidation_0-mcc:0.98376\n",
      "[192]\tvalidation_0-logloss:0.03887\tvalidation_0-mcc:0.98374\n",
      "[193]\tvalidation_0-logloss:0.03888\tvalidation_0-mcc:0.98375\n",
      "[194]\tvalidation_0-logloss:0.03889\tvalidation_0-mcc:0.98374\n",
      "[195]\tvalidation_0-logloss:0.03890\tvalidation_0-mcc:0.98373\n",
      "[196]\tvalidation_0-logloss:0.03891\tvalidation_0-mcc:0.98372\n",
      "[197]\tvalidation_0-logloss:0.03892\tvalidation_0-mcc:0.98373\n",
      "[198]\tvalidation_0-logloss:0.03893\tvalidation_0-mcc:0.98373\n",
      "[199]\tvalidation_0-logloss:0.03894\tvalidation_0-mcc:0.98374\n"
     ]
    }
   ],
   "source": [
    "XGB = model.fit(\n",
    "    X_train, \n",
    "    y_train, \n",
    "    eval_set = [(X_test, y_test)],\n",
    "    eval_metric = mcc_metric)"
   ]
  },
  {
   "cell_type": "code",
   "execution_count": null,
   "metadata": {},
   "outputs": [],
   "source": [
    "y_pred = XGB.predict(X_test)"
   ]
  },
  {
   "cell_type": "code",
   "execution_count": null,
   "metadata": {},
   "outputs": [
    {
     "name": "stdout",
     "output_type": "stream",
     "text": [
      "MCC 0.983739054353024\n"
     ]
    }
   ],
   "source": [
    "score = matthews_corrcoef(y_test, y_pred)\n",
    "print('MCC', score)"
   ]
  },
  {
   "cell_type": "code",
   "execution_count": null,
   "metadata": {},
   "outputs": [],
   "source": [
    "test_pred_prob = XGB.predict(test)"
   ]
  },
  {
   "cell_type": "code",
   "execution_count": null,
   "metadata": {},
   "outputs": [],
   "source": [
    "test_pred_class = le.inverse_transform(test_pred_prob)"
   ]
  },
  {
   "cell_type": "code",
   "execution_count": null,
   "metadata": {},
   "outputs": [],
   "source": [
    "submission = pd.read_csv('sample_submission.csv')\n",
    "\n",
    "submission['class'] = test_pred_class"
   ]
  },
  {
   "cell_type": "code",
   "execution_count": null,
   "metadata": {},
   "outputs": [],
   "source": [
    "submission.to_csv('submission.csv', index = False)"
   ]
  },
  {
   "cell_type": "code",
   "execution_count": null,
   "metadata": {},
   "outputs": [],
   "source": []
  },
  {
   "cell_type": "code",
   "execution_count": null,
   "metadata": {},
   "outputs": [],
   "source": []
  },
  {
   "cell_type": "code",
   "execution_count": null,
   "metadata": {},
   "outputs": [],
   "source": []
  },
  {
   "cell_type": "code",
   "execution_count": null,
   "metadata": {},
   "outputs": [],
   "source": []
  },
  {
   "cell_type": "code",
   "execution_count": null,
   "metadata": {},
   "outputs": [],
   "source": []
  }
 ],
 "metadata": {
  "kernelspec": {
   "display_name": "venv",
   "language": "python",
   "name": "python3"
  },
  "language_info": {
   "codemirror_mode": {
    "name": "ipython",
    "version": 3
   },
   "file_extension": ".py",
   "mimetype": "text/x-python",
   "name": "python",
   "nbconvert_exporter": "python",
   "pygments_lexer": "ipython3",
   "version": "3.11.3"
  }
 },
 "nbformat": 4,
 "nbformat_minor": 2
}
