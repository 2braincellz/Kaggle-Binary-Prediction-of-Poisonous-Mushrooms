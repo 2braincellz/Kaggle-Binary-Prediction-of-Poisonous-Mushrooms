{
 "cells": [
  {
   "cell_type": "code",
   "execution_count": 1,
   "metadata": {},
   "outputs": [],
   "source": [
    "import pandas as pd\n",
    "import numpy as np\n",
    "from sklearn.pipeline import Pipeline\n",
    "from sklearn.impute import KNNImputer, SimpleImputer\n",
    "from sklearn.preprocessing import OneHotEncoder, LabelEncoder\n",
    "from sklearn.compose import ColumnTransformer\n",
    "from sklearn.model_selection import train_test_split, StratifiedKFold\n",
    "from sklearn.metrics import ConfusionMatrixDisplay, confusion_matrix, f1_score, matthews_corrcoef\n",
    "from xgboost import XGBClassifier\n",
    "from lightgbm import LGBMClassifier\n",
    "pd.set_option('display.max_columns', None)\n",
    "\n"
   ]
  },
  {
   "cell_type": "code",
   "execution_count": 2,
   "metadata": {},
   "outputs": [],
   "source": [
    "def replace_non_alpha_with_nan(df, categories):\n",
    "\n",
    "    cols_to_filter = categories\n",
    "    \n",
    "\n",
    "    alphabet_list = ['a', 'b', 'c', 'd', 'e', 'f', 'g', 'h', 'i', 'j', \n",
    "                     'k', 'l', 'm', 'n', 'o', 'p', 'q', 'r', 's', 't', 'u', 'v', 'w', 'x', 'y', 'z']\n",
    "\n",
    "    # * Customized feature engineering\n",
    "    features_dict = {\n",
    "        'cap_shape': ['x', 'f', 's', 'b', 'o', 'p', 'c'],\n",
    "        'cap_surface': ['t', 's', 'y', 'h', 'g', 'd', 'k', 'e', 'i', 'w', 'l'],\n",
    "        'cap_color': ['n', 'y', 'w', 'g', 'e', 'o', 'p', 'r', 'u', 'b', 'k', 'l'],\n",
    "        'does_bruise_or_bleed': ['f', 't'],\n",
    "        'gill_attachment': ['a', 'd', 'x', 'e', 's', 'p', 'f'],\n",
    "        'gill_spacing': ['c', 'd', 'f'],\n",
    "        'gill_color': ['w', 'n', 'y', 'p', 'g', 'o', 'k', 'f', 'r', 'e', 'b', 'u'],\n",
    "        'stem_root': ['b', 's', 'r', 'c', 'f'],\n",
    "        'stem_surface': ['s', 'y', 'i', 't', 'g', 'k', 'h', 'f'],\n",
    "        'stem_color': ['w', 'n', 'y', 'g', 'o', 'e', 'u', 'p', 'k', 'r', 'l', 'b', 'f'],\n",
    "        'veil_type': ['u'],\n",
    "        'veil_color': ['w', 'y', 'n', 'u', 'k', 'e'],\n",
    "        'has_ring': ['f', 't'],\n",
    "        'ring_type': ['f', 'e', 'z', 'l', 'r', 'p', 'g', 'm'],\n",
    "        'spore_print_color': ['k', 'p', 'w', 'n', 'r', 'u', 'g'],\n",
    "        'habitat': ['d', 'g', 'l', 'm', 'h', 'w', 'p', 'u'],\n",
    "        'season': ['a', 'u', 'w', 's']\n",
    "    }\n",
    "\n",
    "\n",
    "    for classes, cols  in zip(features_dict.keys(), cols_to_filter):\n",
    "        # df.loc[(~df[cols].isin(features_dict[classes])) & pd.notna(df[cols]), cols] = 'missing'\n",
    "        df.loc[~df[cols].isin(features_dict[classes]), cols] = np.nan\n",
    "\n",
    "    return df"
   ]
  },
  {
   "cell_type": "code",
   "execution_count": 3,
   "metadata": {},
   "outputs": [],
   "source": [
    "def encode_train_and_test_data(df_train, target, kaggle_test, num_cols, cat_cols, *variable):\n",
    "\n",
    "    numeric_transformer = Pipeline(steps = [\n",
    "        ('imputer', KNNImputer(n_neighbors = 3))\n",
    "    ])\n",
    "\n",
    "    categorical_transformer = Pipeline(steps = [\n",
    "        ('SimpleImputer', SimpleImputer(strategy='constant', fill_value = 'missing')),\n",
    "        # ('ordinal', OrdinalEncoder(handle_unknown='use_encoded_value', unknown_value=-1)),\n",
    "        # ('Target', TargetEncoder(smoothing=variable)),\n",
    "        # ('OneHot', OneHotEncoder(sparse_output=False, handle_unknown='ignore'))\n",
    "        # ('adjust', FunctionTransformer(lambda x : x + 1)) # * Adjust function\n",
    "    ])\n",
    "\n",
    "    preprocessor = ColumnTransformer(\n",
    "        transformers = [\n",
    "            ('num', numeric_transformer, num_cols),\n",
    "            ('cat', categorical_transformer, cat_cols)\n",
    "        ],\n",
    "        remainder = 'passthrough'\n",
    "    )\n",
    "\n",
    "\n",
    "    all_columns = num_cols + cat_cols\n",
    "\n",
    "    train_te = preprocessor.fit_transform(df_train[all_columns])\n",
    "\n",
    "    feature_names_out = preprocessor.get_feature_names_out()\n",
    "\n",
    "    df_train_final = pd.DataFrame(train_te, columns = feature_names_out)\n",
    "\n",
    "    kaggle_test_te = preprocessor.transform(kaggle_test[all_columns])\n",
    "    kaggle_test_final = pd.DataFrame(kaggle_test_te, columns = feature_names_out)\n",
    "\n",
    "\n",
    "\n",
    "    num_cols_to_convert = [col for col in df_train_final.columns if col.startswith('num')]\n",
    "    df_train_final[num_cols_to_convert] = df_train_final[num_cols_to_convert].astype('float64')\n",
    "    kaggle_test_final[num_cols_to_convert] = kaggle_test_final[num_cols_to_convert].astype('float64')\n",
    "\n",
    "    print(df_train_final.info())\n",
    "\n",
    "    return df_train_final, kaggle_test_final"
   ]
  },
  {
   "cell_type": "code",
   "execution_count": 4,
   "metadata": {},
   "outputs": [],
   "source": [
    "def get_cols(df):\n",
    "        \n",
    "    cat_cols = [col for col in df.select_dtypes(['object', 'category']).columns if col != 'class']\n",
    "    num_cols = [col for col in df.select_dtypes('number').columns]\n",
    "    print(f'Categorical columns:\\n {cat_cols}\\n')\n",
    "    print(f'Numeric columns:\\n {num_cols}')\n",
    "\n",
    "    return cat_cols, num_cols"
   ]
  },
  {
   "cell_type": "code",
   "execution_count": 5,
   "metadata": {},
   "outputs": [],
   "source": [
    "def handle_missing_data(df):\n",
    "\n",
    "        cat_cols = df.select_dtypes(include = ['category', 'object']).columns\n",
    "        imputer_cat = SimpleImputer(strategy='constant', fill_value = 'missing')\n",
    "        df[cat_cols] = imputer_cat.fit_transform(df[cat_cols])\n",
    "\n",
    "        # * KNN Imputer on num_cols used during encoding function\n",
    "        print(df.isnull().sum())\n",
    "        return df"
   ]
  },
  {
   "cell_type": "code",
   "execution_count": 6,
   "metadata": {},
   "outputs": [],
   "source": [
    "def convert_to_categoricals(df):\n",
    "    for col in df.select_dtypes('object').columns.tolist():\n",
    "        df[col] = df[col].astype('category')\n",
    "    return df"
   ]
  },
  {
   "cell_type": "code",
   "execution_count": 7,
   "metadata": {},
   "outputs": [],
   "source": [
    "train = pd.read_csv('train.csv')\n",
    "test = pd.read_csv('test.csv')\n",
    "\n",
    "train = train.drop('id', axis = 1)\n",
    "test = test.drop('id', axis = 1)\n",
    "\n",
    "X = train.copy()\n",
    "y = X.pop('class')"
   ]
  },
  {
   "cell_type": "code",
   "execution_count": 8,
   "metadata": {},
   "outputs": [
    {
     "name": "stdout",
     "output_type": "stream",
     "text": [
      "Categorical columns:\n",
      " ['cap-shape', 'cap-surface', 'cap-color', 'does-bruise-or-bleed', 'gill-attachment', 'gill-spacing', 'gill-color', 'stem-root', 'stem-surface', 'stem-color', 'veil-type', 'veil-color', 'has-ring', 'ring-type', 'spore-print-color', 'habitat', 'season']\n",
      "\n",
      "Numeric columns:\n",
      " ['cap-diameter', 'stem-height', 'stem-width']\n"
     ]
    }
   ],
   "source": [
    "cat_cols, num_cols = get_cols(train);"
   ]
  },
  {
   "cell_type": "code",
   "execution_count": 9,
   "metadata": {},
   "outputs": [],
   "source": [
    "X = replace_non_alpha_with_nan(X, cat_cols)\n",
    "test = replace_non_alpha_with_nan(test, cat_cols)"
   ]
  },
  {
   "cell_type": "code",
   "execution_count": 10,
   "metadata": {},
   "outputs": [],
   "source": [
    "lbl_enc = LabelEncoder()\n",
    "y = lbl_enc.fit_transform(y)"
   ]
  },
  {
   "cell_type": "code",
   "execution_count": 11,
   "metadata": {},
   "outputs": [
    {
     "name": "stdout",
     "output_type": "stream",
     "text": [
      "<class 'pandas.core.frame.DataFrame'>\n",
      "RangeIndex: 3116945 entries, 0 to 3116944\n",
      "Data columns (total 20 columns):\n",
      " #   Column                     Dtype  \n",
      "---  ------                     -----  \n",
      " 0   num__cap-diameter          float64\n",
      " 1   num__stem-height           float64\n",
      " 2   num__stem-width            float64\n",
      " 3   cat__cap-shape             object \n",
      " 4   cat__cap-surface           object \n",
      " 5   cat__cap-color             object \n",
      " 6   cat__does-bruise-or-bleed  object \n",
      " 7   cat__gill-attachment       object \n",
      " 8   cat__gill-spacing          object \n",
      " 9   cat__gill-color            object \n",
      " 10  cat__stem-root             object \n",
      " 11  cat__stem-surface          object \n",
      " 12  cat__stem-color            object \n",
      " 13  cat__veil-type             object \n",
      " 14  cat__veil-color            object \n",
      " 15  cat__has-ring              object \n",
      " 16  cat__ring-type             object \n",
      " 17  cat__spore-print-color     object \n",
      " 18  cat__habitat               object \n",
      " 19  cat__season                object \n",
      "dtypes: float64(3), object(17)\n",
      "memory usage: 475.6+ MB\n",
      "None\n"
     ]
    }
   ],
   "source": [
    "X, test = encode_train_and_test_data(X, y, test, num_cols, cat_cols)"
   ]
  },
  {
   "cell_type": "code",
   "execution_count": 12,
   "metadata": {},
   "outputs": [],
   "source": [
    "X = convert_to_categoricals(X)\n",
    "test = convert_to_categoricals(test)\n"
   ]
  },
  {
   "cell_type": "code",
   "execution_count": 13,
   "metadata": {},
   "outputs": [
    {
     "name": "stdout",
     "output_type": "stream",
     "text": [
      "<class 'pandas.core.frame.DataFrame'>\n",
      "RangeIndex: 3116945 entries, 0 to 3116944\n",
      "Data columns (total 20 columns):\n",
      " #   Column                     Dtype   \n",
      "---  ------                     -----   \n",
      " 0   num__cap-diameter          float64 \n",
      " 1   num__stem-height           float64 \n",
      " 2   num__stem-width            float64 \n",
      " 3   cat__cap-shape             category\n",
      " 4   cat__cap-surface           category\n",
      " 5   cat__cap-color             category\n",
      " 6   cat__does-bruise-or-bleed  category\n",
      " 7   cat__gill-attachment       category\n",
      " 8   cat__gill-spacing          category\n",
      " 9   cat__gill-color            category\n",
      " 10  cat__stem-root             category\n",
      " 11  cat__stem-surface          category\n",
      " 12  cat__stem-color            category\n",
      " 13  cat__veil-type             category\n",
      " 14  cat__veil-color            category\n",
      " 15  cat__has-ring              category\n",
      " 16  cat__ring-type             category\n",
      " 17  cat__spore-print-color     category\n",
      " 18  cat__habitat               category\n",
      " 19  cat__season                category\n",
      "dtypes: category(17), float64(3)\n",
      "memory usage: 121.9 MB\n"
     ]
    }
   ],
   "source": [
    "X.info()"
   ]
  },
  {
   "cell_type": "code",
   "execution_count": 14,
   "metadata": {},
   "outputs": [],
   "source": [
    "def model_report(estimator, X, y, cv = 5):\n",
    "    print('=' * 80)\n",
    "    print(f\"    Model: {estimator.__class__.__name__}\")\n",
    "    print('='*80)\n",
    "\n",
    "    X_train, X_test, y_train, y_test = train_test_split(X, y, train_size = 1/cv, shuffle = True, stratify = y, random_state = 42)\n",
    "    \n",
    "    estimator.fit(X_train, y_train)\n",
    "    y_pred = estimator.predict(X_test)\n",
    "\n",
    "    f1 = f1_score(y_test, y_pred)\n",
    "    mcc = matthews_corrcoef(y_test, y_pred)\n",
    "    print(f\"F1 Score : {f1.mean()}\")\n",
    "    print(f\"MCC Score : {mcc.mean()}\")"
   ]
  },
  {
   "cell_type": "code",
   "execution_count": 15,
   "metadata": {},
   "outputs": [],
   "source": [
    "def model_trainer(model, X, y, n_splits = 5, random_state = 42):\n",
    "    skfold = StratifiedKFold(n_splits=n_splits, shuffle = True, random_state = random_state)\n",
    "    oof_probs, oof_mccs = [], []\n",
    "    print('='*80)\n",
    "    print(f\"Training {model.__class__.__name__}\")\n",
    "    print('='*80)\n",
    "\n",
    "    for fold, (train_idx, test_idx) in enumerate(skfold.split(X, y)):\n",
    "        X_train, y_train = X.iloc[train_idx, :], y[train_idx]\n",
    "        X_test, y_test = X.iloc[test_idx, :], y[test_idx]\n",
    "\n",
    "        model.fit(X_train, y_train)\n",
    "        y_pred = model.predict(X_test)\n",
    "\n",
    "        mcc = matthews_corrcoef(y_pred, y_test)\n",
    "        oof_mccs.append(mcc)\n",
    "        oof_probs.append(model.predict_proba(test))\n",
    "        \n",
    "        print(f\"--- Fold {fold + 1} MCC Score: {mcc:.6f}\")\n",
    "    print(f\"\\n---> Mean MCC Score: {np.mean(oof_mccs):.6f} \\xb1 {np.std(oof_mccs):.6f}\\n\\n\")\n",
    "    return oof_probs, oof_mccs\n",
    "\n"
   ]
  },
  {
   "cell_type": "code",
   "execution_count": 16,
   "metadata": {},
   "outputs": [
    {
     "name": "stdout",
     "output_type": "stream",
     "text": [
      "================================================================================\n",
      "    Model: XGBClassifier\n",
      "================================================================================\n"
     ]
    },
    {
     "name": "stderr",
     "output_type": "stream",
     "text": [
      "c:\\Users\\hugph\\Ml\\s4e8\\venv\\Lib\\site-packages\\xgboost\\core.py:160: UserWarning: [14:19:46] WARNING: C:\\buildkite-agent\\builds\\buildkite-windows-cpu-autoscaling-group-i-0b3782d1791676daf-1\\xgboost\\xgboost-ci-windows\\src\\common\\error_msg.cc:58: Falling back to prediction using DMatrix due to mismatched devices. This might lead to higher memory usage and slower performance. XGBoost is running on: cuda:0, while the input data is on: cpu.\n",
      "Potential solutions:\n",
      "- Use a data structure that matches the device ordinal in the booster.\n",
      "- Set the device for booster before call to inplace_predict.\n",
      "\n",
      "This warning will only be shown once.\n",
      "\n",
      "  warnings.warn(smsg, UserWarning)\n"
     ]
    },
    {
     "name": "stdout",
     "output_type": "stream",
     "text": [
      "F1 Score : 0.9923326886135493\n",
      "MCC Score : 0.9830889501318758\n"
     ]
    }
   ],
   "source": [
    "xgb_clf = XGBClassifier(\n",
    "        device = 'cuda',\n",
    "        colsample_bytree = 0.6,\n",
    "        max_depth = 14,\n",
    "        min_child_weight = 7,\n",
    "        random_state = 42,\n",
    "        n_estimators = 200,\n",
    "        enable_categorical = True,\n",
    "        tree_method = 'hist'\n",
    ")\n",
    "\n",
    "model_report(xgb_clf, X, y)"
   ]
  },
  {
   "cell_type": "code",
   "execution_count": 118,
   "metadata": {},
   "outputs": [
    {
     "name": "stdout",
     "output_type": "stream",
     "text": [
      "================================================================================\n",
      "    Model: LGBMClassifier\n",
      "================================================================================\n",
      "F1 Score : 0.991324014274319\n",
      "MCC Score : 0.9808721304083006\n"
     ]
    }
   ],
   "source": [
    "lgb_clf = LGBMClassifier(device = 'gpu', verbosity = -1)\n",
    "\n",
    "model_report(lgb_clf, X, y)"
   ]
  },
  {
   "cell_type": "code",
   "execution_count": 119,
   "metadata": {},
   "outputs": [
    {
     "name": "stdout",
     "output_type": "stream",
     "text": [
      "2493556\n",
      "623389\n",
      "2493556\n",
      "623389\n",
      "2493556\n",
      "623389\n",
      "2493556\n",
      "623389\n",
      "2493556\n",
      "623389\n"
     ]
    }
   ],
   "source": [
    "skfold = StratifiedKFold(n_splits = 5, shuffle = True, random_state=42)\n",
    "\n",
    "for fold, (train_idx, test_idx) in enumerate(skfold.split(X, y)):\n",
    "    # print(test_idx)\n",
    "    X_train, y_train = X.iloc[train_idx, :], y[train_idx]\n",
    "    X_test, y_test = X.iloc[test_idx, :], y[test_idx]\n",
    "\n",
    "    print(len(X_train))\n",
    "    print(len(X_test))"
   ]
  },
  {
   "cell_type": "code",
   "execution_count": 121,
   "metadata": {},
   "outputs": [],
   "source": [
    "xgb_params = {\n",
    "    'n_estimators': 2407,\n",
    "    'eta': 0.009462133032592785,\n",
    "    'gamma': 0.2865859948765318,\n",
    "    'max_depth': 31,\n",
    "    'min_child_weight': 47,\n",
    "    'subsample': 0.6956431754146083,\n",
    "    'colsample_bytree': 0.3670732604094118,\n",
    "    'grow_policy': 'lossguide',\n",
    "    'max_leaves': 73,\n",
    "    'enable_categorical': True,\n",
    "    'n_jobs': -1,\n",
    "    'device': 'cuda',\n",
    "    'tree_method': 'hist'\n",
    "} # 0.9844272567086021\n",
    "\n",
    "lgb_params = {\n",
    "    'n_estimators': 2500,\n",
    "    'random_state':42,\n",
    "    'max_bin':1024,\n",
    "    'colsample_bytree':0.6,\n",
    "    'reg_lambda': 80,\n",
    "    # 'device': 'gpu',\n",
    "    'verbosity': -1\n",
    "}"
   ]
  },
  {
   "cell_type": "code",
   "execution_count": 122,
   "metadata": {},
   "outputs": [
    {
     "name": "stdout",
     "output_type": "stream",
     "text": [
      "================================================================================\n",
      "Training XGBClassifier\n",
      "================================================================================\n",
      "--- Fold 1 MCC Score: 0.984597\n",
      "--- Fold 2 MCC Score: 0.984536\n",
      "--- Fold 3 MCC Score: 0.984572\n",
      "--- Fold 4 MCC Score: 0.984398\n",
      "--- Fold 5 MCC Score: 0.984652\n",
      "\n",
      "---> Mean MCC Score: 0.984551 ± 0.000085\n",
      "\n",
      "\n"
     ]
    }
   ],
   "source": [
    "oof_probs = {}\n",
    "\n",
    "oof_probs['xgb'], _ = model_trainer(XGBClassifier(**xgb_params), X, y, random_state = 42)"
   ]
  },
  {
   "cell_type": "code",
   "execution_count": 127,
   "metadata": {},
   "outputs": [],
   "source": [
    "oof_preds = {}\n",
    "\n",
    "oof_preds['xgb'] = np.argmax(np.mean(oof_probs['xgb'], axis = 0), axis = 1)"
   ]
  },
  {
   "cell_type": "code",
   "execution_count": 128,
   "metadata": {},
   "outputs": [],
   "source": [
    "preds = oof_preds['xgb']"
   ]
  },
  {
   "cell_type": "code",
   "execution_count": 129,
   "metadata": {},
   "outputs": [],
   "source": [
    "sub = pd.read_csv('sample_submission.csv')\n",
    "sub['class'] = lbl_enc.inverse_transform(preds)\n",
    "sub.to_csv('version11_submission.csv', index = False)\n"
   ]
  },
  {
   "cell_type": "code",
   "execution_count": null,
   "metadata": {},
   "outputs": [],
   "source": []
  }
 ],
 "metadata": {
  "kernelspec": {
   "display_name": "venv",
   "language": "python",
   "name": "python3"
  },
  "language_info": {
   "codemirror_mode": {
    "name": "ipython",
    "version": 3
   },
   "file_extension": ".py",
   "mimetype": "text/x-python",
   "name": "python",
   "nbconvert_exporter": "python",
   "pygments_lexer": "ipython3",
   "version": "3.11.3"
  }
 },
 "nbformat": 4,
 "nbformat_minor": 2
}
