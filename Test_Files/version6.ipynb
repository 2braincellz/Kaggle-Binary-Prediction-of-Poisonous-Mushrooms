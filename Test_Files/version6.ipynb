{
 "cells": [
  {
   "cell_type": "markdown",
   "metadata": {},
   "source": [
    "Feature Engineering Multiplying categorical variables together"
   ]
  },
  {
   "cell_type": "markdown",
   "metadata": {},
   "source": [
    "Testing different imputing methods"
   ]
  },
  {
   "cell_type": "code",
   "execution_count": 43,
   "metadata": {},
   "outputs": [],
   "source": [
    "import pandas as pd\n",
    "import numpy as np\n",
    "import matplotlib.pyplot as plt"
   ]
  },
  {
   "cell_type": "code",
   "execution_count": 44,
   "metadata": {},
   "outputs": [],
   "source": [
    "train = pd.read_csv('train.csv')\n",
    "test = pd.read_csv('test.csv')"
   ]
  },
  {
   "cell_type": "code",
   "execution_count": 45,
   "metadata": {},
   "outputs": [],
   "source": [
    "train = train.drop('id', axis = 1)\n",
    "test = test.drop('id', axis = 1)"
   ]
  },
  {
   "cell_type": "code",
   "execution_count": 46,
   "metadata": {},
   "outputs": [],
   "source": [
    "pd.set_option('display.max_columns', None)"
   ]
  },
  {
   "cell_type": "code",
   "execution_count": 47,
   "metadata": {},
   "outputs": [],
   "source": [
    "def replace_non_alpha_with_nan(df):\n",
    "    cols_to_filter = ['cap-shape', 'cap-surface', 'cap-color', \n",
    "                      'does-bruise-or-bleed', 'gill-attachment', \n",
    "                      'gill-spacing', 'gill-color', 'stem-surface', \n",
    "                      'stem-color', 'has-ring', 'ring-type', 'habitat', 'stem-root', 'veil-type', 'veil-color', 'spore-print-color']\n",
    "\n",
    "    alphabet_list = ['a', 'b', 'c', 'd', 'e', 'f', 'g', 'h', 'i', 'j', \n",
    "                     'k', 'l', 'm', 'n', 'o', 'p', 'q', 'r', 's', 't', 'u', 'v', 'w', 'x', 'y', 'z']\n",
    "\n",
    "    col_values = {}\n",
    "    for col in cols_to_filter:\n",
    "        value_counts = train[col].value_counts()\n",
    "        col_values[col] = value_counts[value_counts > 10].index.values.tolist()\n",
    "\n",
    "\n",
    "    def filter_alpha(value, value_list_no_outliers):\n",
    "        if isinstance(value, str):\n",
    "            return value if len(value) == 1 and value in value_list_no_outliers and value in alphabet_list else np.nan # if value is a single character\n",
    "        \n",
    "        return np.nan\n",
    "    \n",
    "    for col in cols_to_filter:\n",
    "        df[col] = df[col].apply(lambda x : filter_alpha(x, col_values[col]))\n",
    "\n",
    "    return df"
   ]
  },
  {
   "cell_type": "code",
   "execution_count": 48,
   "metadata": {},
   "outputs": [],
   "source": [
    "train = replace_non_alpha_with_nan(train)\n",
    "test = replace_non_alpha_with_nan(test)"
   ]
  },
  {
   "cell_type": "code",
   "execution_count": 49,
   "metadata": {},
   "outputs": [
    {
     "name": "stdout",
     "output_type": "stream",
     "text": [
      "Categorical columns:\n",
      " ['cap-shape', 'cap-surface', 'cap-color', 'does-bruise-or-bleed', 'gill-attachment', 'gill-spacing', 'gill-color', 'stem-root', 'stem-surface', 'stem-color', 'veil-type', 'veil-color', 'has-ring', 'ring-type', 'spore-print-color', 'habitat', 'season']\n",
      "\n",
      "Numeric columns:\n",
      " ['cap-diameter', 'stem-height', 'stem-width']\n"
     ]
    }
   ],
   "source": [
    "cat_cols = [col for col in train.select_dtypes('object').columns if col != 'class']\n",
    "num_cols = [col for col in train.select_dtypes('number').columns]\n",
    "print(f'Categorical columns:\\n {cat_cols}\\n')\n",
    "print(f'Numeric columns:\\n {num_cols}')"
   ]
  },
  {
   "cell_type": "code",
   "execution_count": 50,
   "metadata": {},
   "outputs": [],
   "source": [
    "from sklearn.pipeline import Pipeline\n",
    "from sklearn.impute import KNNImputer\n",
    "from sklearn.impute import SimpleImputer\n",
    "from sklearn.preprocessing import OrdinalEncoder\n",
    "from sklearn.compose import ColumnTransformer\n",
    "\n",
    "def handle_missing_data(df, num_cols, cat_cols):\n",
    "\n",
    "    numeric_transformer = Pipeline(steps = [\n",
    "        ('imputer', KNNImputer(n_neighbors = 3))\n",
    "    ])\n",
    "\n",
    "    categorical_transformer = Pipeline(steps = [\n",
    "        # ('imputer', SimpleImputer(strategy = 'most_frequent')),\n",
    "        ('ordinal', OrdinalEncoder(handle_unknown='use_encoded_value', unknown_value=-1))\n",
    "    ])\n",
    "\n",
    "    preprocessor = ColumnTransformer(\n",
    "        transformers = [\n",
    "            ('num', numeric_transformer, num_cols),\n",
    "            ('cat', categorical_transformer, cat_cols)\n",
    "        ]\n",
    "    )\n",
    "\n",
    "    df_transformed = pd.DataFrame(preprocessor.fit_transform(df[num_cols + cat_cols]), columns = num_cols + cat_cols)\n",
    "\n",
    "    df_transformed = df_transformed.fillna(-10)\n",
    "\n",
    "    print(\"Missing values after imputation:\")\n",
    "    print(df_transformed.isnull().sum())\n",
    "\n",
    "    df_final = df[['class']].join(df_transformed)\n",
    "\n",
    "    return df_final"
   ]
  },
  {
   "cell_type": "code",
   "execution_count": 51,
   "metadata": {},
   "outputs": [
    {
     "name": "stdout",
     "output_type": "stream",
     "text": [
      "Missing values after imputation:\n",
      "cap-diameter            0\n",
      "stem-height             0\n",
      "stem-width              0\n",
      "cap-shape               0\n",
      "cap-surface             0\n",
      "cap-color               0\n",
      "does-bruise-or-bleed    0\n",
      "gill-attachment         0\n",
      "gill-spacing            0\n",
      "gill-color              0\n",
      "stem-root               0\n",
      "stem-surface            0\n",
      "stem-color              0\n",
      "veil-type               0\n",
      "veil-color              0\n",
      "has-ring                0\n",
      "ring-type               0\n",
      "spore-print-color       0\n",
      "habitat                 0\n",
      "season                  0\n",
      "dtype: int64\n"
     ]
    }
   ],
   "source": [
    "train = handle_missing_data(train, num_cols, cat_cols)"
   ]
  },
  {
   "cell_type": "code",
   "execution_count": 52,
   "metadata": {},
   "outputs": [],
   "source": [
    "def handle_missing_testset(df, num_cols, cat_cols):\n",
    "\n",
    "    numeric_transformer = Pipeline(steps = [\n",
    "        ('imputer', KNNImputer(n_neighbors=3))\n",
    "    ])\n",
    "\n",
    "    categorical_transformer = Pipeline(steps = [\n",
    "        # ('imputer', SimpleImputer(strategy='most_frequent')),\n",
    "        ('ordinal', OrdinalEncoder(handle_unknown='use_encoded_value', unknown_value = -1))\n",
    "    ])\n",
    "\n",
    "    preprocessor = ColumnTransformer(\n",
    "        transformers = [\n",
    "            ('num', numeric_transformer, num_cols),\n",
    "            ('cat', categorical_transformer, cat_cols)\n",
    "        ]\n",
    "    )\n",
    "\n",
    "    df_transformed = pd.DataFrame(preprocessor.fit_transform(df[num_cols + cat_cols]), columns = num_cols + cat_cols)\n",
    "\n",
    "    df_transformed = df_transformed.fillna(-10)\n",
    "\n",
    "    print(\"Missing values after imputation:\")\n",
    "    print(df_transformed.isna().sum())\n",
    "\n",
    "    df_final = df_transformed\n",
    "    return df_final"
   ]
  },
  {
   "cell_type": "code",
   "execution_count": 53,
   "metadata": {},
   "outputs": [
    {
     "name": "stdout",
     "output_type": "stream",
     "text": [
      "Missing values after imputation:\n",
      "cap-diameter            0\n",
      "stem-height             0\n",
      "stem-width              0\n",
      "cap-shape               0\n",
      "cap-surface             0\n",
      "cap-color               0\n",
      "does-bruise-or-bleed    0\n",
      "gill-attachment         0\n",
      "gill-spacing            0\n",
      "gill-color              0\n",
      "stem-root               0\n",
      "stem-surface            0\n",
      "stem-color              0\n",
      "veil-type               0\n",
      "veil-color              0\n",
      "has-ring                0\n",
      "ring-type               0\n",
      "spore-print-color       0\n",
      "habitat                 0\n",
      "season                  0\n",
      "dtype: int64\n"
     ]
    }
   ],
   "source": [
    "test = handle_missing_testset(test, num_cols, cat_cols)"
   ]
  },
  {
   "cell_type": "code",
   "execution_count": 54,
   "metadata": {},
   "outputs": [
    {
     "name": "stdout",
     "output_type": "stream",
     "text": [
      " Mean Correlation of Original Data 0.11362905375680576\n",
      "['cap-shape', 'cap-surface', 'cap-color', 'does-bruise-or-bleed', 'gill-attachment', 'gill-spacing', 'gill-color', 'stem-root', 'stem-surface', 'stem-color', 'veil-type', 'veil-color', 'has-ring', 'ring-type', 'spore-print-color', 'habitat', 'season', 'cap-diameter', 'stem-height', 'stem-width']\n",
      "Index(['class', 'cap-diameter', 'stem-height', 'stem-width', 'cap-shape',\n",
      "       'cap-surface', 'cap-color', 'does-bruise-or-bleed', 'gill-attachment',\n",
      "       'gill-spacing', 'gill-color', 'stem-root', 'stem-surface', 'stem-color',\n",
      "       'veil-type', 'veil-color', 'has-ring', 'ring-type', 'spore-print-color',\n",
      "       'habitat', 'season'],\n",
      "      dtype='object')\n",
      "<itertools.combinations object at 0x000001EB9C2E2070>\n",
      "Index(['class', 'cap-diameter', 'stem-height', 'stem-width', 'cap-shape',\n",
      "       'cap-surface', 'cap-color', 'does-bruise-or-bleed', 'gill-attachment',\n",
      "       'gill-spacing', 'gill-color', 'stem-root', 'stem-surface', 'stem-color',\n",
      "       'veil-type', 'veil-color', 'has-ring', 'ring-type', 'spore-print-color',\n",
      "       'habitat', 'season'],\n",
      "      dtype='object')\n"
     ]
    }
   ],
   "source": [
    "import itertools\n",
    "from sklearn.preprocessing import LabelEncoder\n",
    "\n",
    "def find_train_combinations(train, cat_cols, num_cols):\n",
    "    \n",
    "    all_columns = cat_cols + num_cols\n",
    "\n",
    "    # ? returning features from train_combinations with correlations greater than the mean of the original\n",
    "    \n",
    "    ord_enc = LabelEncoder()\n",
    "    train['class'] = ord_enc.fit_transform(train['class'])\n",
    "\n",
    "    corr_matrix = train.corr()\n",
    "    print(abs(corr_matrix['class']).sort_values(ascending=False))\n",
    "    threshold = abs(corr_matrix['class']).sort_values(ascending=False).mean()\n",
    "    print(f\" Mean Correlation of Original Data {threshold}\")\n",
    "\n",
    "\n",
    "    filtered_cols = [col for col in all_columns if col != 'class']\n",
    "    print(filtered_cols)\n",
    "    print(train.columns)\n",
    "    combinations = itertools.combinations(filtered_cols, 2)\n",
    "    print(combinations)\n",
    "\n",
    "    train_combinations = train['class'].to_frame()\n",
    "\n",
    "    for col1, col2 in combinations:\n",
    "       combination = train[col1] * train[col2]\n",
    "       train_combinations = train_combinations.join(combination.rename(f'{col1} x {col2}'))\n",
    "    \n",
    "    # ? returning features from train_combinations with correlations greater than the mean of the original\n",
    "\n",
    "    corr_combinations = train_combinations.corr()\n",
    "    abs_values = abs(corr_combinations['class'])\n",
    "    new_cols = abs_values.loc[abs_values > threshold].index.tolist()\n",
    "    if 'class' in new_cols:\n",
    "        new_cols.remove('class')\n",
    "    \n",
    "    \n",
    "    train['class'] = ord_enc.inverse_transform(train['class'])\n",
    "    print(train.columns)\n",
    "    return train.join(train_combinations[new_cols])\n",
    "\n",
    "train = find_train_combinations(train, cat_cols, num_cols) # ! Change train_new back to train after testing"
   ]
  },
  {
   "cell_type": "code",
   "execution_count": 55,
   "metadata": {},
   "outputs": [
    {
     "name": "stdout",
     "output_type": "stream",
     "text": [
      "['cap-shape', 'cap-surface', 'cap-color', 'does-bruise-or-bleed', 'gill-attachment', 'gill-spacing', 'gill-color', 'stem-root', 'stem-surface', 'stem-color', 'veil-type', 'veil-color', 'has-ring', 'ring-type', 'spore-print-color', 'habitat', 'season', 'cap-diameter', 'stem-height', 'stem-width']\n"
     ]
    }
   ],
   "source": [
    "def find_test_combinations(test, cat_cols, num_cols, train_columns):\n",
    "\n",
    "    all_columns = cat_cols + num_cols\n",
    "\n",
    "    filtered_cols = [col for col in all_columns if col != 'class']\n",
    "    print(filtered_cols)\n",
    "    combinations = itertools.combinations(filtered_cols, 2)\n",
    "\n",
    "    test_combinations = pd.DataFrame(index = test.index)\n",
    "\n",
    "    for col1, col2 in combinations:\n",
    "       combination = test[col1] * test[col2]\n",
    "       test_combinations = test_combinations.join(combination.rename(f'{col1} x {col2}'))\n",
    "    \n",
    "    # ? Remove 'class' feature from test set\n",
    "    train_columns = train_columns.drop('class')\n",
    "\n",
    "    test = test.join(test_combinations)\n",
    "\n",
    "    return test[train_columns]\n",
    "\n",
    "\n",
    "test = find_test_combinations(test, cat_cols, num_cols, train.columns)"
   ]
  },
  {
   "cell_type": "code",
   "execution_count": 56,
   "metadata": {},
   "outputs": [],
   "source": [
    "from sklearn.preprocessing import LabelEncoder\n",
    "le = LabelEncoder()\n",
    "train['class'] = le.fit_transform(train['class'])"
   ]
  },
  {
   "cell_type": "code",
   "execution_count": 57,
   "metadata": {},
   "outputs": [],
   "source": [
    "y = train['class']\n",
    "X = train.drop('class', axis = 1)"
   ]
  },
  {
   "cell_type": "code",
   "execution_count": 58,
   "metadata": {},
   "outputs": [],
   "source": [
    "from sklearn.model_selection import train_test_split\n",
    "\n",
    "X_train, X_test, y_train, y_test = train_test_split(X, y, test_size = 0.2, random_state = 42)"
   ]
  },
  {
   "cell_type": "code",
   "execution_count": 59,
   "metadata": {},
   "outputs": [],
   "source": [
    "from sklearn.metrics import matthews_corrcoef\n",
    "\n",
    "def mcc_metric(y_pred, dmatrix):\n",
    "    y_true = dmatrix.get_label()\n",
    "    y_pred = (y_pred > 0.5).astype(int) \n",
    "    mcc = matthews_corrcoef(y_true, y_pred)\n",
    "    return 'mcc', mcc"
   ]
  },
  {
   "cell_type": "code",
   "execution_count": 60,
   "metadata": {},
   "outputs": [],
   "source": [
    "from sklearn.metrics import matthews_corrcoef\n",
    "from xgboost import XGBClassifier\n",
    "import gc\n",
    "\n",
    "model = XGBClassifier(\n",
    "\n",
    "    colsample_bytree = 0.6,\n",
    "    max_depth = 14,\n",
    "    min_child_weight = 7,\n",
    "    random_state = 42,\n",
    "    n_estimators = 200,\n",
    ")"
   ]
  },
  {
   "cell_type": "code",
   "execution_count": 61,
   "metadata": {},
   "outputs": [
    {
     "name": "stderr",
     "output_type": "stream",
     "text": [
      "c:\\Users\\hugph\\ML\\s4e8\\venv\\Lib\\site-packages\\xgboost\\sklearn.py:889: UserWarning: `eval_metric` in `fit` method is deprecated for better compatibility with scikit-learn, use `eval_metric` in constructor or`set_params` instead.\n",
      "  warnings.warn(\n"
     ]
    },
    {
     "name": "stdout",
     "output_type": "stream",
     "text": [
      "[0]\tvalidation_0-logloss:0.44981\tvalidation_0-mcc:0.96224\n",
      "[1]\tvalidation_0-logloss:0.31775\tvalidation_0-mcc:0.97050\n",
      "[2]\tvalidation_0-logloss:0.23801\tvalidation_0-mcc:0.97316\n",
      "[3]\tvalidation_0-logloss:0.17923\tvalidation_0-mcc:0.97695\n",
      "[4]\tvalidation_0-logloss:0.13872\tvalidation_0-mcc:0.97778\n",
      "[5]\tvalidation_0-logloss:0.10993\tvalidation_0-mcc:0.97926\n",
      "[6]\tvalidation_0-logloss:0.09059\tvalidation_0-mcc:0.97980\n",
      "[7]\tvalidation_0-logloss:0.07614\tvalidation_0-mcc:0.98049\n",
      "[8]\tvalidation_0-logloss:0.06571\tvalidation_0-mcc:0.98081\n",
      "[9]\tvalidation_0-logloss:0.05849\tvalidation_0-mcc:0.98104\n",
      "[10]\tvalidation_0-logloss:0.05309\tvalidation_0-mcc:0.98136\n",
      "[11]\tvalidation_0-logloss:0.04883\tvalidation_0-mcc:0.98161\n",
      "[12]\tvalidation_0-logloss:0.04618\tvalidation_0-mcc:0.98175\n",
      "[13]\tvalidation_0-logloss:0.04414\tvalidation_0-mcc:0.98184\n",
      "[14]\tvalidation_0-logloss:0.04245\tvalidation_0-mcc:0.98206\n",
      "[15]\tvalidation_0-logloss:0.04151\tvalidation_0-mcc:0.98221\n",
      "[16]\tvalidation_0-logloss:0.04080\tvalidation_0-mcc:0.98226\n",
      "[17]\tvalidation_0-logloss:0.04015\tvalidation_0-mcc:0.98240\n",
      "[18]\tvalidation_0-logloss:0.03971\tvalidation_0-mcc:0.98251\n",
      "[19]\tvalidation_0-logloss:0.03925\tvalidation_0-mcc:0.98270\n",
      "[20]\tvalidation_0-logloss:0.03902\tvalidation_0-mcc:0.98276\n",
      "[21]\tvalidation_0-logloss:0.03874\tvalidation_0-mcc:0.98282\n",
      "[22]\tvalidation_0-logloss:0.03857\tvalidation_0-mcc:0.98289\n",
      "[23]\tvalidation_0-logloss:0.03848\tvalidation_0-mcc:0.98301\n",
      "[24]\tvalidation_0-logloss:0.03842\tvalidation_0-mcc:0.98301\n",
      "[25]\tvalidation_0-logloss:0.03839\tvalidation_0-mcc:0.98305\n",
      "[26]\tvalidation_0-logloss:0.03826\tvalidation_0-mcc:0.98320\n",
      "[27]\tvalidation_0-logloss:0.03825\tvalidation_0-mcc:0.98321\n",
      "[28]\tvalidation_0-logloss:0.03824\tvalidation_0-mcc:0.98321\n",
      "[29]\tvalidation_0-logloss:0.03821\tvalidation_0-mcc:0.98323\n",
      "[30]\tvalidation_0-logloss:0.03817\tvalidation_0-mcc:0.98324\n",
      "[31]\tvalidation_0-logloss:0.03817\tvalidation_0-mcc:0.98322\n",
      "[32]\tvalidation_0-logloss:0.03817\tvalidation_0-mcc:0.98327\n",
      "[33]\tvalidation_0-logloss:0.03819\tvalidation_0-mcc:0.98327\n",
      "[34]\tvalidation_0-logloss:0.03820\tvalidation_0-mcc:0.98329\n",
      "[35]\tvalidation_0-logloss:0.03822\tvalidation_0-mcc:0.98331\n",
      "[36]\tvalidation_0-logloss:0.03821\tvalidation_0-mcc:0.98332\n",
      "[37]\tvalidation_0-logloss:0.03821\tvalidation_0-mcc:0.98334\n",
      "[38]\tvalidation_0-logloss:0.03821\tvalidation_0-mcc:0.98336\n",
      "[39]\tvalidation_0-logloss:0.03821\tvalidation_0-mcc:0.98335\n",
      "[40]\tvalidation_0-logloss:0.03819\tvalidation_0-mcc:0.98338\n",
      "[41]\tvalidation_0-logloss:0.03821\tvalidation_0-mcc:0.98338\n",
      "[42]\tvalidation_0-logloss:0.03820\tvalidation_0-mcc:0.98339\n",
      "[43]\tvalidation_0-logloss:0.03820\tvalidation_0-mcc:0.98339\n",
      "[44]\tvalidation_0-logloss:0.03821\tvalidation_0-mcc:0.98339\n",
      "[45]\tvalidation_0-logloss:0.03821\tvalidation_0-mcc:0.98337\n",
      "[46]\tvalidation_0-logloss:0.03821\tvalidation_0-mcc:0.98339\n",
      "[47]\tvalidation_0-logloss:0.03820\tvalidation_0-mcc:0.98341\n",
      "[48]\tvalidation_0-logloss:0.03821\tvalidation_0-mcc:0.98342\n",
      "[49]\tvalidation_0-logloss:0.03822\tvalidation_0-mcc:0.98342\n",
      "[50]\tvalidation_0-logloss:0.03824\tvalidation_0-mcc:0.98341\n",
      "[51]\tvalidation_0-logloss:0.03824\tvalidation_0-mcc:0.98341\n",
      "[52]\tvalidation_0-logloss:0.03825\tvalidation_0-mcc:0.98338\n",
      "[53]\tvalidation_0-logloss:0.03826\tvalidation_0-mcc:0.98338\n",
      "[54]\tvalidation_0-logloss:0.03826\tvalidation_0-mcc:0.98333\n",
      "[55]\tvalidation_0-logloss:0.03828\tvalidation_0-mcc:0.98336\n",
      "[56]\tvalidation_0-logloss:0.03830\tvalidation_0-mcc:0.98338\n",
      "[57]\tvalidation_0-logloss:0.03832\tvalidation_0-mcc:0.98335\n",
      "[58]\tvalidation_0-logloss:0.03833\tvalidation_0-mcc:0.98336\n",
      "[59]\tvalidation_0-logloss:0.03833\tvalidation_0-mcc:0.98335\n",
      "[60]\tvalidation_0-logloss:0.03832\tvalidation_0-mcc:0.98335\n",
      "[61]\tvalidation_0-logloss:0.03834\tvalidation_0-mcc:0.98337\n",
      "[62]\tvalidation_0-logloss:0.03835\tvalidation_0-mcc:0.98339\n",
      "[63]\tvalidation_0-logloss:0.03836\tvalidation_0-mcc:0.98337\n",
      "[64]\tvalidation_0-logloss:0.03837\tvalidation_0-mcc:0.98334\n",
      "[65]\tvalidation_0-logloss:0.03838\tvalidation_0-mcc:0.98333\n",
      "[66]\tvalidation_0-logloss:0.03838\tvalidation_0-mcc:0.98333\n",
      "[67]\tvalidation_0-logloss:0.03838\tvalidation_0-mcc:0.98334\n",
      "[68]\tvalidation_0-logloss:0.03840\tvalidation_0-mcc:0.98334\n",
      "[69]\tvalidation_0-logloss:0.03842\tvalidation_0-mcc:0.98335\n",
      "[70]\tvalidation_0-logloss:0.03843\tvalidation_0-mcc:0.98335\n",
      "[71]\tvalidation_0-logloss:0.03845\tvalidation_0-mcc:0.98333\n",
      "[72]\tvalidation_0-logloss:0.03847\tvalidation_0-mcc:0.98333\n",
      "[73]\tvalidation_0-logloss:0.03848\tvalidation_0-mcc:0.98334\n",
      "[74]\tvalidation_0-logloss:0.03849\tvalidation_0-mcc:0.98334\n",
      "[75]\tvalidation_0-logloss:0.03850\tvalidation_0-mcc:0.98336\n",
      "[76]\tvalidation_0-logloss:0.03851\tvalidation_0-mcc:0.98335\n",
      "[77]\tvalidation_0-logloss:0.03853\tvalidation_0-mcc:0.98333\n",
      "[78]\tvalidation_0-logloss:0.03855\tvalidation_0-mcc:0.98332\n",
      "[79]\tvalidation_0-logloss:0.03856\tvalidation_0-mcc:0.98332\n",
      "[80]\tvalidation_0-logloss:0.03857\tvalidation_0-mcc:0.98331\n",
      "[81]\tvalidation_0-logloss:0.03859\tvalidation_0-mcc:0.98331\n",
      "[82]\tvalidation_0-logloss:0.03861\tvalidation_0-mcc:0.98334\n",
      "[83]\tvalidation_0-logloss:0.03861\tvalidation_0-mcc:0.98335\n",
      "[84]\tvalidation_0-logloss:0.03862\tvalidation_0-mcc:0.98333\n",
      "[85]\tvalidation_0-logloss:0.03864\tvalidation_0-mcc:0.98333\n",
      "[86]\tvalidation_0-logloss:0.03865\tvalidation_0-mcc:0.98335\n",
      "[87]\tvalidation_0-logloss:0.03865\tvalidation_0-mcc:0.98336\n",
      "[88]\tvalidation_0-logloss:0.03866\tvalidation_0-mcc:0.98335\n",
      "[89]\tvalidation_0-logloss:0.03867\tvalidation_0-mcc:0.98335\n",
      "[90]\tvalidation_0-logloss:0.03868\tvalidation_0-mcc:0.98336\n",
      "[91]\tvalidation_0-logloss:0.03869\tvalidation_0-mcc:0.98335\n",
      "[92]\tvalidation_0-logloss:0.03869\tvalidation_0-mcc:0.98335\n",
      "[93]\tvalidation_0-logloss:0.03870\tvalidation_0-mcc:0.98335\n",
      "[94]\tvalidation_0-logloss:0.03870\tvalidation_0-mcc:0.98335\n",
      "[95]\tvalidation_0-logloss:0.03872\tvalidation_0-mcc:0.98335\n",
      "[96]\tvalidation_0-logloss:0.03872\tvalidation_0-mcc:0.98334\n",
      "[97]\tvalidation_0-logloss:0.03874\tvalidation_0-mcc:0.98333\n",
      "[98]\tvalidation_0-logloss:0.03875\tvalidation_0-mcc:0.98332\n",
      "[99]\tvalidation_0-logloss:0.03876\tvalidation_0-mcc:0.98333\n",
      "[100]\tvalidation_0-logloss:0.03877\tvalidation_0-mcc:0.98333\n",
      "[101]\tvalidation_0-logloss:0.03877\tvalidation_0-mcc:0.98334\n",
      "[102]\tvalidation_0-logloss:0.03879\tvalidation_0-mcc:0.98335\n",
      "[103]\tvalidation_0-logloss:0.03880\tvalidation_0-mcc:0.98335\n",
      "[104]\tvalidation_0-logloss:0.03882\tvalidation_0-mcc:0.98337\n",
      "[105]\tvalidation_0-logloss:0.03882\tvalidation_0-mcc:0.98337\n",
      "[106]\tvalidation_0-logloss:0.03882\tvalidation_0-mcc:0.98338\n",
      "[107]\tvalidation_0-logloss:0.03882\tvalidation_0-mcc:0.98336\n",
      "[108]\tvalidation_0-logloss:0.03883\tvalidation_0-mcc:0.98336\n",
      "[109]\tvalidation_0-logloss:0.03884\tvalidation_0-mcc:0.98334\n",
      "[110]\tvalidation_0-logloss:0.03884\tvalidation_0-mcc:0.98335\n",
      "[111]\tvalidation_0-logloss:0.03885\tvalidation_0-mcc:0.98334\n",
      "[112]\tvalidation_0-logloss:0.03887\tvalidation_0-mcc:0.98331\n",
      "[113]\tvalidation_0-logloss:0.03887\tvalidation_0-mcc:0.98333\n",
      "[114]\tvalidation_0-logloss:0.03888\tvalidation_0-mcc:0.98333\n",
      "[115]\tvalidation_0-logloss:0.03889\tvalidation_0-mcc:0.98334\n",
      "[116]\tvalidation_0-logloss:0.03890\tvalidation_0-mcc:0.98333\n",
      "[117]\tvalidation_0-logloss:0.03891\tvalidation_0-mcc:0.98333\n",
      "[118]\tvalidation_0-logloss:0.03891\tvalidation_0-mcc:0.98335\n",
      "[119]\tvalidation_0-logloss:0.03891\tvalidation_0-mcc:0.98336\n",
      "[120]\tvalidation_0-logloss:0.03892\tvalidation_0-mcc:0.98337\n",
      "[121]\tvalidation_0-logloss:0.03893\tvalidation_0-mcc:0.98337\n",
      "[122]\tvalidation_0-logloss:0.03895\tvalidation_0-mcc:0.98336\n",
      "[123]\tvalidation_0-logloss:0.03896\tvalidation_0-mcc:0.98333\n",
      "[124]\tvalidation_0-logloss:0.03897\tvalidation_0-mcc:0.98333\n",
      "[125]\tvalidation_0-logloss:0.03898\tvalidation_0-mcc:0.98334\n",
      "[126]\tvalidation_0-logloss:0.03899\tvalidation_0-mcc:0.98338\n",
      "[127]\tvalidation_0-logloss:0.03901\tvalidation_0-mcc:0.98335\n",
      "[128]\tvalidation_0-logloss:0.03901\tvalidation_0-mcc:0.98334\n",
      "[129]\tvalidation_0-logloss:0.03902\tvalidation_0-mcc:0.98332\n",
      "[130]\tvalidation_0-logloss:0.03903\tvalidation_0-mcc:0.98331\n",
      "[131]\tvalidation_0-logloss:0.03904\tvalidation_0-mcc:0.98331\n",
      "[132]\tvalidation_0-logloss:0.03904\tvalidation_0-mcc:0.98331\n",
      "[133]\tvalidation_0-logloss:0.03906\tvalidation_0-mcc:0.98331\n",
      "[134]\tvalidation_0-logloss:0.03907\tvalidation_0-mcc:0.98330\n",
      "[135]\tvalidation_0-logloss:0.03907\tvalidation_0-mcc:0.98330\n",
      "[136]\tvalidation_0-logloss:0.03908\tvalidation_0-mcc:0.98333\n",
      "[137]\tvalidation_0-logloss:0.03909\tvalidation_0-mcc:0.98335\n",
      "[138]\tvalidation_0-logloss:0.03910\tvalidation_0-mcc:0.98335\n",
      "[139]\tvalidation_0-logloss:0.03911\tvalidation_0-mcc:0.98335\n",
      "[140]\tvalidation_0-logloss:0.03911\tvalidation_0-mcc:0.98334\n",
      "[141]\tvalidation_0-logloss:0.03912\tvalidation_0-mcc:0.98333\n",
      "[142]\tvalidation_0-logloss:0.03913\tvalidation_0-mcc:0.98334\n",
      "[143]\tvalidation_0-logloss:0.03914\tvalidation_0-mcc:0.98333\n",
      "[144]\tvalidation_0-logloss:0.03916\tvalidation_0-mcc:0.98332\n",
      "[145]\tvalidation_0-logloss:0.03917\tvalidation_0-mcc:0.98332\n",
      "[146]\tvalidation_0-logloss:0.03917\tvalidation_0-mcc:0.98332\n",
      "[147]\tvalidation_0-logloss:0.03919\tvalidation_0-mcc:0.98329\n",
      "[148]\tvalidation_0-logloss:0.03920\tvalidation_0-mcc:0.98328\n",
      "[149]\tvalidation_0-logloss:0.03920\tvalidation_0-mcc:0.98329\n",
      "[150]\tvalidation_0-logloss:0.03921\tvalidation_0-mcc:0.98327\n",
      "[151]\tvalidation_0-logloss:0.03922\tvalidation_0-mcc:0.98327\n",
      "[152]\tvalidation_0-logloss:0.03923\tvalidation_0-mcc:0.98327\n",
      "[153]\tvalidation_0-logloss:0.03923\tvalidation_0-mcc:0.98326\n",
      "[154]\tvalidation_0-logloss:0.03924\tvalidation_0-mcc:0.98326\n",
      "[155]\tvalidation_0-logloss:0.03925\tvalidation_0-mcc:0.98327\n",
      "[156]\tvalidation_0-logloss:0.03927\tvalidation_0-mcc:0.98328\n",
      "[157]\tvalidation_0-logloss:0.03927\tvalidation_0-mcc:0.98325\n",
      "[158]\tvalidation_0-logloss:0.03927\tvalidation_0-mcc:0.98326\n",
      "[159]\tvalidation_0-logloss:0.03928\tvalidation_0-mcc:0.98325\n",
      "[160]\tvalidation_0-logloss:0.03928\tvalidation_0-mcc:0.98324\n",
      "[161]\tvalidation_0-logloss:0.03928\tvalidation_0-mcc:0.98324\n",
      "[162]\tvalidation_0-logloss:0.03929\tvalidation_0-mcc:0.98325\n",
      "[163]\tvalidation_0-logloss:0.03930\tvalidation_0-mcc:0.98325\n",
      "[164]\tvalidation_0-logloss:0.03931\tvalidation_0-mcc:0.98325\n",
      "[165]\tvalidation_0-logloss:0.03932\tvalidation_0-mcc:0.98327\n",
      "[166]\tvalidation_0-logloss:0.03933\tvalidation_0-mcc:0.98328\n",
      "[167]\tvalidation_0-logloss:0.03933\tvalidation_0-mcc:0.98329\n",
      "[168]\tvalidation_0-logloss:0.03933\tvalidation_0-mcc:0.98329\n",
      "[169]\tvalidation_0-logloss:0.03935\tvalidation_0-mcc:0.98328\n",
      "[170]\tvalidation_0-logloss:0.03936\tvalidation_0-mcc:0.98327\n",
      "[171]\tvalidation_0-logloss:0.03936\tvalidation_0-mcc:0.98328\n",
      "[172]\tvalidation_0-logloss:0.03938\tvalidation_0-mcc:0.98327\n",
      "[173]\tvalidation_0-logloss:0.03940\tvalidation_0-mcc:0.98326\n",
      "[174]\tvalidation_0-logloss:0.03942\tvalidation_0-mcc:0.98330\n",
      "[175]\tvalidation_0-logloss:0.03942\tvalidation_0-mcc:0.98328\n",
      "[176]\tvalidation_0-logloss:0.03944\tvalidation_0-mcc:0.98329\n",
      "[177]\tvalidation_0-logloss:0.03944\tvalidation_0-mcc:0.98328\n",
      "[178]\tvalidation_0-logloss:0.03945\tvalidation_0-mcc:0.98330\n",
      "[179]\tvalidation_0-logloss:0.03947\tvalidation_0-mcc:0.98330\n",
      "[180]\tvalidation_0-logloss:0.03949\tvalidation_0-mcc:0.98330\n",
      "[181]\tvalidation_0-logloss:0.03950\tvalidation_0-mcc:0.98330\n",
      "[182]\tvalidation_0-logloss:0.03952\tvalidation_0-mcc:0.98331\n",
      "[183]\tvalidation_0-logloss:0.03952\tvalidation_0-mcc:0.98332\n",
      "[184]\tvalidation_0-logloss:0.03954\tvalidation_0-mcc:0.98333\n",
      "[185]\tvalidation_0-logloss:0.03955\tvalidation_0-mcc:0.98332\n",
      "[186]\tvalidation_0-logloss:0.03956\tvalidation_0-mcc:0.98331\n",
      "[187]\tvalidation_0-logloss:0.03957\tvalidation_0-mcc:0.98332\n",
      "[188]\tvalidation_0-logloss:0.03958\tvalidation_0-mcc:0.98332\n",
      "[189]\tvalidation_0-logloss:0.03959\tvalidation_0-mcc:0.98330\n",
      "[190]\tvalidation_0-logloss:0.03959\tvalidation_0-mcc:0.98330\n",
      "[191]\tvalidation_0-logloss:0.03961\tvalidation_0-mcc:0.98332\n",
      "[192]\tvalidation_0-logloss:0.03963\tvalidation_0-mcc:0.98330\n",
      "[193]\tvalidation_0-logloss:0.03964\tvalidation_0-mcc:0.98329\n",
      "[194]\tvalidation_0-logloss:0.03965\tvalidation_0-mcc:0.98329\n",
      "[195]\tvalidation_0-logloss:0.03966\tvalidation_0-mcc:0.98326\n",
      "[196]\tvalidation_0-logloss:0.03967\tvalidation_0-mcc:0.98326\n",
      "[197]\tvalidation_0-logloss:0.03968\tvalidation_0-mcc:0.98327\n",
      "[198]\tvalidation_0-logloss:0.03969\tvalidation_0-mcc:0.98326\n",
      "[199]\tvalidation_0-logloss:0.03969\tvalidation_0-mcc:0.98327\n"
     ]
    }
   ],
   "source": [
    "XGB = model.fit(\n",
    "    X_train, \n",
    "    y_train, \n",
    "    eval_set = [(X_test, y_test)],\n",
    "    eval_metric = mcc_metric)"
   ]
  },
  {
   "cell_type": "code",
   "execution_count": 62,
   "metadata": {},
   "outputs": [],
   "source": [
    "y_pred = XGB.predict(X_test)"
   ]
  },
  {
   "cell_type": "code",
   "execution_count": 63,
   "metadata": {},
   "outputs": [
    {
     "name": "stdout",
     "output_type": "stream",
     "text": [
      "MCC 0.983269884295499\n"
     ]
    }
   ],
   "source": [
    "score = matthews_corrcoef(y_test, y_pred)\n",
    "print('MCC', score)"
   ]
  },
  {
   "cell_type": "code",
   "execution_count": 64,
   "metadata": {},
   "outputs": [],
   "source": [
    "test_pred_prob = XGB.predict(test)"
   ]
  },
  {
   "cell_type": "code",
   "execution_count": 65,
   "metadata": {},
   "outputs": [],
   "source": [
    "test_pred_class = le.inverse_transform(test_pred_prob)"
   ]
  },
  {
   "cell_type": "code",
   "execution_count": 66,
   "metadata": {},
   "outputs": [],
   "source": [
    "submission = pd.read_csv('sample_submission.csv')\n",
    "\n",
    "submission['class'] = test_pred_class"
   ]
  },
  {
   "cell_type": "code",
   "execution_count": 67,
   "metadata": {},
   "outputs": [],
   "source": [
    "submission.to_csv('submission.csv', index = False)"
   ]
  },
  {
   "cell_type": "code",
   "execution_count": null,
   "metadata": {},
   "outputs": [],
   "source": []
  }
 ],
 "metadata": {
  "kernelspec": {
   "display_name": "venv",
   "language": "python",
   "name": "python3"
  },
  "language_info": {
   "codemirror_mode": {
    "name": "ipython",
    "version": 3
   },
   "file_extension": ".py",
   "mimetype": "text/x-python",
   "name": "python",
   "nbconvert_exporter": "python",
   "pygments_lexer": "ipython3",
   "version": "3.11.3"
  }
 },
 "nbformat": 4,
 "nbformat_minor": 2
}
