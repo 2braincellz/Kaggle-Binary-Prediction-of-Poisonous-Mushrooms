{
 "cells": [
  {
   "cell_type": "code",
   "execution_count": 1,
   "id": "878931ce",
   "metadata": {
    "execution": {
     "iopub.execute_input": "2024-08-24T00:39:46.538715Z",
     "iopub.status.busy": "2024-08-24T00:39:46.537972Z",
     "iopub.status.idle": "2024-08-24T00:39:48.490389Z",
     "shell.execute_reply": "2024-08-24T00:39:48.489418Z"
    },
    "papermill": {
     "duration": 1.964218,
     "end_time": "2024-08-24T00:39:48.492726",
     "exception": false,
     "start_time": "2024-08-24T00:39:46.528508",
     "status": "completed"
    },
    "tags": []
   },
   "outputs": [],
   "source": [
    "import pandas as pd\n",
    "import numpy as np\n",
    "from sklearn.metrics import f1_score, matthews_corrcoef\n",
    "from sklearn.model_selection import train_test_split\n",
    "from sklearn.metrics import ConfusionMatrixDisplay, confusion_matrix\n",
    "from sklearn.impute import KNNImputer\n",
    "import matplotlib.pyplot as plt\n",
    "import warnings\n",
    "\n",
    "warnings.filterwarnings(\"ignore\")\n",
    "\n",
    "from sklearn.model_selection import StratifiedKFold\n"
   ]
  },
  {
   "cell_type": "code",
   "execution_count": 2,
   "id": "63e83021",
   "metadata": {
    "execution": {
     "iopub.execute_input": "2024-08-24T00:39:48.509619Z",
     "iopub.status.busy": "2024-08-24T00:39:48.508654Z",
     "iopub.status.idle": "2024-08-24T00:40:06.044465Z",
     "shell.execute_reply": "2024-08-24T00:40:06.043627Z"
    },
    "papermill": {
     "duration": 17.546539,
     "end_time": "2024-08-24T00:40:06.046838",
     "exception": false,
     "start_time": "2024-08-24T00:39:48.500299",
     "status": "completed"
    },
    "tags": []
   },
   "outputs": [],
   "source": [
    "train_df = pd.read_csv('/kaggle/input/playground-series-s4e8/train.csv', index_col = 'id')\n",
    "test_df = pd.read_csv('/kaggle/input/playground-series-s4e8/test.csv', index_col = 'id')\n",
    "secondary = pd.read_csv('/kaggle/input/secondary-mushroom-dataset-data-set/MushroomDataset/secondary_data.csv', sep = ';')\n",
    "tertiary = pd.read_csv('/kaggle/input/tertiary-mushroom-1-million-more-mushrooms/one_million_mushrooms.csv', sep = ';')\n",
    "# tertiary_test = pd.read_csv('tertiary_data_2.csv', sep = ';') # ? Intended as test data but could be used for training?"
   ]
  },
  {
   "cell_type": "code",
   "execution_count": 3,
   "id": "642b2687",
   "metadata": {
    "execution": {
     "iopub.execute_input": "2024-08-24T00:40:06.063143Z",
     "iopub.status.busy": "2024-08-24T00:40:06.062774Z",
     "iopub.status.idle": "2024-08-24T00:40:07.158539Z",
     "shell.execute_reply": "2024-08-24T00:40:07.157458Z"
    },
    "papermill": {
     "duration": 1.106392,
     "end_time": "2024-08-24T00:40:07.161045",
     "exception": false,
     "start_time": "2024-08-24T00:40:06.054653",
     "status": "completed"
    },
    "tags": []
   },
   "outputs": [],
   "source": [
    "train_df = pd.concat([train_df, secondary, tertiary], ignore_index=True)"
   ]
  },
  {
   "cell_type": "code",
   "execution_count": 5,
   "id": "6da7d504",
   "metadata": {
    "execution": {
     "iopub.execute_input": "2024-08-24T00:40:13.111033Z",
     "iopub.status.busy": "2024-08-24T00:40:13.110402Z",
     "iopub.status.idle": "2024-08-24T00:40:14.063145Z",
     "shell.execute_reply": "2024-08-24T00:40:14.062349Z"
    },
    "papermill": {
     "duration": 0.964253,
     "end_time": "2024-08-24T00:40:14.065497",
     "exception": false,
     "start_time": "2024-08-24T00:40:13.101244",
     "status": "completed"
    },
    "tags": []
   },
   "outputs": [],
   "source": [
    "features = train_df.drop('class', axis = 1).columns.tolist()"
   ]
  },
  {
   "cell_type": "code",
   "execution_count": 6,
   "id": "8c77026f",
   "metadata": {
    "execution": {
     "iopub.execute_input": "2024-08-24T00:40:14.084163Z",
     "iopub.status.busy": "2024-08-24T00:40:14.083239Z",
     "iopub.status.idle": "2024-08-24T00:40:19.187794Z",
     "shell.execute_reply": "2024-08-24T00:40:19.186813Z"
    },
    "papermill": {
     "duration": 5.115903,
     "end_time": "2024-08-24T00:40:19.189870",
     "exception": false,
     "start_time": "2024-08-24T00:40:14.073967",
     "status": "completed"
    },
    "tags": []
   },
   "outputs": [
    {
     "data": {
      "text/plain": [
       "['cap-surface',\n",
       " 'gill-spacing',\n",
       " 'stem-root',\n",
       " 'stem-surface',\n",
       " 'veil-type',\n",
       " 'veil-color',\n",
       " 'spore-print-color']"
      ]
     },
     "execution_count": 6,
     "metadata": {},
     "output_type": "execute_result"
    }
   ],
   "source": [
    "features_with_high_null_values = [feature for feature in features if (train_df[feature].isna().sum()/len(train_df) * 100) > 20]\n",
    "features_with_high_null_values"
   ]
  },
  {
   "cell_type": "code",
   "execution_count": 7,
   "id": "b6b8f76e",
   "metadata": {
    "execution": {
     "iopub.execute_input": "2024-08-24T00:40:19.207634Z",
     "iopub.status.busy": "2024-08-24T00:40:19.207290Z",
     "iopub.status.idle": "2024-08-24T00:40:23.118371Z",
     "shell.execute_reply": "2024-08-24T00:40:23.117331Z"
    },
    "papermill": {
     "duration": 3.922495,
     "end_time": "2024-08-24T00:40:23.120715",
     "exception": false,
     "start_time": "2024-08-24T00:40:19.198220",
     "status": "completed"
    },
    "tags": []
   },
   "outputs": [],
   "source": [
    "categorical_features = train_df[features].select_dtypes(include = 'object').columns.tolist()\n",
    "numerical_features = list(set(features) - set(categorical_features))"
   ]
  },
  {
   "cell_type": "code",
   "execution_count": 8,
   "id": "bf323b86",
   "metadata": {
    "execution": {
     "iopub.execute_input": "2024-08-24T00:40:23.139119Z",
     "iopub.status.busy": "2024-08-24T00:40:23.138740Z",
     "iopub.status.idle": "2024-08-24T00:40:23.149814Z",
     "shell.execute_reply": "2024-08-24T00:40:23.148931Z"
    },
    "papermill": {
     "duration": 0.022416,
     "end_time": "2024-08-24T00:40:23.151702",
     "exception": false,
     "start_time": "2024-08-24T00:40:23.129286",
     "status": "completed"
    },
    "tags": []
   },
   "outputs": [],
   "source": [
    "def cleaner(df, cols_to_filter):\n",
    "\n",
    "    # ? NO DIFFERENCE IN STRATEGY\n",
    "\n",
    "    # for col in categorical_features:\n",
    "    #     df.loc[df[col].value_counts(dropna = False)[df[col]].values < 100, col] = np.nan\n",
    "    #     df[col] = df[col].fillna('missing')\n",
    "    #     df[col] = df[col].astype('category')\n",
    "    features_dict = {\n",
    "        'cap_shape': ['x', 'f', 's', 'b', 'o', 'p', 'c'],\n",
    "        'cap_surface': ['t', 's', 'y', 'h', 'g', 'd', 'k', 'e', 'i', 'w', 'l'],\n",
    "        'cap_color': ['n', 'y', 'w', 'g', 'e', 'o', 'p', 'r', 'u', 'b', 'k', 'l'],\n",
    "        'does_bruise_or_bleed': ['f', 't'],\n",
    "        'gill_attachment': ['a', 'd', 'x', 'e', 's', 'p', 'f'],\n",
    "        'gill_spacing': ['c', 'd', 'f'],\n",
    "        'gill_color': ['w', 'n', 'y', 'p', 'g', 'o', 'k', 'f', 'r', 'e', 'b', 'u'],\n",
    "        'stem_root': ['b', 's', 'r', 'c', 'f'],\n",
    "        'stem_surface': ['s', 'y', 'i', 't', 'g', 'k', 'h', 'f'],\n",
    "        'stem_color': ['w', 'n', 'y', 'g', 'o', 'e', 'u', 'p', 'k', 'r', 'l', 'b', 'f'],\n",
    "        'veil_type': ['u'],\n",
    "        'veil_color': ['w', 'y', 'n', 'u', 'k', 'e'],\n",
    "        'has_ring': ['f', 't'],\n",
    "        'ring_type': ['f', 'e', 'z', 'l', 'r', 'p', 'g', 'm'],\n",
    "        'spore_print_color': ['k', 'p', 'w', 'n', 'r', 'u', 'g'],\n",
    "        'habitat': ['d', 'g', 'l', 'm', 'h', 'w', 'p', 'u'],\n",
    "        'season': ['a', 'u', 'w', 's']\n",
    "    }\n",
    "    \n",
    "    for classes, cols  in zip(features_dict.keys(), cols_to_filter):\n",
    "        # df.loc[(~df[cols].isin(features_dict[classes])) & pd.notna(df[cols]), cols] = 'missing'\n",
    "        df.loc[~df[cols].isin(features_dict[classes]), cols] = \"missing\"\n",
    "        df[cols] = df[cols].astype('category')\n",
    "\n",
    "    return df"
   ]
  },
  {
   "cell_type": "code",
   "execution_count": 9,
   "id": "82da3cdd",
   "metadata": {
    "execution": {
     "iopub.execute_input": "2024-08-24T00:40:23.170139Z",
     "iopub.status.busy": "2024-08-24T00:40:23.169708Z",
     "iopub.status.idle": "2024-08-24T00:40:23.174218Z",
     "shell.execute_reply": "2024-08-24T00:40:23.173336Z"
    },
    "papermill": {
     "duration": 0.015839,
     "end_time": "2024-08-24T00:40:23.176135",
     "exception": false,
     "start_time": "2024-08-24T00:40:23.160296",
     "status": "completed"
    },
    "tags": []
   },
   "outputs": [],
   "source": [
    "def feature_engineering(df):\n",
    "    df['stem-area'] = df['stem-height'] * df['stem-width']\n",
    "    return df"
   ]
  },
  {
   "cell_type": "code",
   "execution_count": 10,
   "id": "3327f7bd",
   "metadata": {
    "execution": {
     "iopub.execute_input": "2024-08-24T00:40:23.194389Z",
     "iopub.status.busy": "2024-08-24T00:40:23.194090Z",
     "iopub.status.idle": "2024-08-24T00:40:36.399664Z",
     "shell.execute_reply": "2024-08-24T00:40:36.398842Z"
    },
    "papermill": {
     "duration": 13.217139,
     "end_time": "2024-08-24T00:40:36.402081",
     "exception": false,
     "start_time": "2024-08-24T00:40:23.184942",
     "status": "completed"
    },
    "tags": []
   },
   "outputs": [],
   "source": [
    "train_df = cleaner(train_df, categorical_features)\n",
    "test_df = cleaner(test_df, categorical_features)"
   ]
  },
  {
   "cell_type": "code",
   "execution_count": 11,
   "id": "728d05d3",
   "metadata": {
    "execution": {
     "iopub.execute_input": "2024-08-24T00:40:36.421220Z",
     "iopub.status.busy": "2024-08-24T00:40:36.420537Z",
     "iopub.status.idle": "2024-08-24T00:40:36.424459Z",
     "shell.execute_reply": "2024-08-24T00:40:36.423602Z"
    },
    "papermill": {
     "duration": 0.015413,
     "end_time": "2024-08-24T00:40:36.426278",
     "exception": false,
     "start_time": "2024-08-24T00:40:36.410865",
     "status": "completed"
    },
    "tags": []
   },
   "outputs": [],
   "source": [
    "# train_df = feature_engineering(train_df)\n",
    "# test_df = feature_engineering(test_df)"
   ]
  },
  {
   "cell_type": "code",
   "execution_count": 12,
   "id": "53785a66",
   "metadata": {
    "execution": {
     "iopub.execute_input": "2024-08-24T00:40:36.445384Z",
     "iopub.status.busy": "2024-08-24T00:40:36.444702Z",
     "iopub.status.idle": "2024-08-24T00:40:38.236034Z",
     "shell.execute_reply": "2024-08-24T00:40:38.234837Z"
    },
    "papermill": {
     "duration": 1.803256,
     "end_time": "2024-08-24T00:40:38.238396",
     "exception": false,
     "start_time": "2024-08-24T00:40:36.435140",
     "status": "completed"
    },
    "tags": []
   },
   "outputs": [
    {
     "name": "stdout",
     "output_type": "stream",
     "text": [
      "<class 'pandas.core.frame.DataFrame'>\n",
      "RangeIndex: 4216014 entries, 0 to 4216013\n",
      "Data columns (total 21 columns):\n",
      " #   Column                Dtype   \n",
      "---  ------                -----   \n",
      " 0   class                 object  \n",
      " 1   cap-diameter          float64 \n",
      " 2   cap-shape             category\n",
      " 3   cap-surface           category\n",
      " 4   cap-color             category\n",
      " 5   does-bruise-or-bleed  category\n",
      " 6   gill-attachment       category\n",
      " 7   gill-spacing          category\n",
      " 8   gill-color            category\n",
      " 9   stem-height           float64 \n",
      " 10  stem-width            float64 \n",
      " 11  stem-root             category\n",
      " 12  stem-surface          category\n",
      " 13  stem-color            category\n",
      " 14  veil-type             category\n",
      " 15  veil-color            category\n",
      " 16  has-ring              category\n",
      " 17  ring-type             category\n",
      " 18  spore-print-color     category\n",
      " 19  habitat               category\n",
      " 20  season                category\n",
      "dtypes: category(17), float64(3), object(1)\n",
      "memory usage: 197.0+ MB\n"
     ]
    }
   ],
   "source": [
    "knn_imputer = KNNImputer(n_neighbors = 3) # KNN imputer uses other numerical features to find values for the missing values\n",
    "\n",
    "train_df['cap-diameter'] = knn_imputer.fit_transform(train_df[['cap-diameter']]) \n",
    "test_df['cap-diameter'] = knn_imputer.fit_transform(test_df[['cap-diameter']])\n",
    "\n",
    "train_df.info()"
   ]
  },
  {
   "cell_type": "code",
   "execution_count": 13,
   "id": "35735345",
   "metadata": {
    "execution": {
     "iopub.execute_input": "2024-08-24T00:40:38.258383Z",
     "iopub.status.busy": "2024-08-24T00:40:38.257653Z",
     "iopub.status.idle": "2024-08-24T00:40:39.347329Z",
     "shell.execute_reply": "2024-08-24T00:40:39.346474Z"
    },
    "papermill": {
     "duration": 1.10182,
     "end_time": "2024-08-24T00:40:39.349715",
     "exception": false,
     "start_time": "2024-08-24T00:40:38.247895",
     "status": "completed"
    },
    "tags": []
   },
   "outputs": [],
   "source": [
    "from sklearn.preprocessing import LabelEncoder\n",
    "\n",
    "X = train_df.copy()\n",
    "y = X.pop('class')\n",
    "\n",
    "lab_enc = LabelEncoder().fit(y)\n",
    "y = lab_enc.transform(y)"
   ]
  },
  {
   "cell_type": "code",
   "execution_count": 14,
   "id": "8ae9a801",
   "metadata": {
    "execution": {
     "iopub.execute_input": "2024-08-24T00:40:39.385174Z",
     "iopub.status.busy": "2024-08-24T00:40:39.384829Z",
     "iopub.status.idle": "2024-08-24T00:40:39.391896Z",
     "shell.execute_reply": "2024-08-24T00:40:39.391031Z"
    },
    "papermill": {
     "duration": 0.018454,
     "end_time": "2024-08-24T00:40:39.393808",
     "exception": false,
     "start_time": "2024-08-24T00:40:39.375354",
     "status": "completed"
    },
    "tags": []
   },
   "outputs": [],
   "source": [
    "\n",
    "\n",
    "def model_report(estimator, X, y, cv = 5):\n",
    "    print('='*80)\n",
    "    print(f\"     Model: {estimator.__class__.__name__}\")\n",
    "    print('='*80)\n",
    "\n",
    "    X_train, X_test, y_train, y_test = train_test_split(X, y, train_size = 1/cv, shuffle = True, stratify = y, random_state = 42)\n",
    "\n",
    "    # X_train, X_test, y_train, y_test = train_test_split(X, y, test_size = 0.2, random_state = 42)\n",
    "    estimator.fit(X_train, y_train)\n",
    "    y_pred = estimator.predict(X_test)\n",
    "    f1 = f1_score(y_test, y_pred)\n",
    "    mcc = matthews_corrcoef(y_test, y_pred)\n",
    "    print(f\"F1 Score : {f1.mean():.6f}\")\n",
    "    print(f\"MCC Score : {mcc.mean():.6f}\")\n",
    "\n",
    "    ConfusionMatrixDisplay(confusion_matrix(y_test, y_pred)).plot()\n",
    "    plt.title('Confusion Matrix')\n",
    "    plt.show()\n",
    "\n",
    "    print()\n"
   ]
  },
  {
   "cell_type": "code",
   "execution_count": 15,
   "id": "bd0129a7",
   "metadata": {
    "execution": {
     "iopub.execute_input": "2024-08-24T00:40:39.412173Z",
     "iopub.status.busy": "2024-08-24T00:40:39.411882Z",
     "iopub.status.idle": "2024-08-24T00:40:39.419435Z",
     "shell.execute_reply": "2024-08-24T00:40:39.418606Z"
    },
    "papermill": {
     "duration": 0.018911,
     "end_time": "2024-08-24T00:40:39.421281",
     "exception": false,
     "start_time": "2024-08-24T00:40:39.402370",
     "status": "completed"
    },
    "tags": []
   },
   "outputs": [],
   "source": [
    "def model_trainer(model, X, y, n_splits = 5, random_state = 42):\n",
    "    skfold = StratifiedKFold(n_splits = n_splits, shuffle = True, random_state = random_state)\n",
    "    oof_probs, oof_mccs = [], []\n",
    "    print('='*80)\n",
    "    print(f\"Training {model.__class__.__name__}\")\n",
    "    print('='*80, end = '\\n')\n",
    "\n",
    "    for fold, (train_idx, test_idx) in enumerate(skfold.split(X, y)):\n",
    "        X_train, y_train = X.iloc[train_idx, :], y[train_idx]\n",
    "        X_test, y_test = X.iloc[test_idx, :], y[test_idx]\n",
    "\n",
    "        model.fit(X_train, y_train)\n",
    "        y_pred = model.predict(X_test)\n",
    "\n",
    "        mcc = matthews_corrcoef(y_pred, y_test)\n",
    "        oof_mccs.append(mcc)\n",
    "        oof_probs.append(model.predict_proba(test_df))\n",
    "\n",
    "        print(f\"--- Fold {fold + 1} MCC Score: {mcc:.6f}\")\n",
    "        print(f\"\\n---> Mean MCC Score: {np.mean(oof_mccs):.6f} \\xb1 {np.std(oof_mccs):.6f}\\n\\n\")\n",
    "    return oof_probs, oof_mccs"
   ]
  },
  {
   "cell_type": "code",
   "execution_count": 16,
   "id": "4516dd23",
   "metadata": {
    "execution": {
     "iopub.execute_input": "2024-08-24T00:40:39.440940Z",
     "iopub.status.busy": "2024-08-24T00:40:39.440370Z",
     "iopub.status.idle": "2024-08-24T00:40:39.447904Z",
     "shell.execute_reply": "2024-08-24T00:40:39.447057Z"
    },
    "papermill": {
     "duration": 0.018873,
     "end_time": "2024-08-24T00:40:39.449733",
     "exception": false,
     "start_time": "2024-08-24T00:40:39.430860",
     "status": "completed"
    },
    "tags": []
   },
   "outputs": [],
   "source": [
    "best_params_xgb = {'max_depth': 20, \n",
    "                   'learning_rate': 0.018963312033106996, \n",
    "                   'n_estimators': 571, \n",
    "                   'subsample': 0.9020486644448409, \n",
    "                   'colsample_bytree': 0.45202814179550665, \n",
    "                   'colsample_bylevel': 0.9990468297030884, \n",
    "                   'colsample_bynode': 0.8836571541231754, \n",
    "                   'reg_alpha': 0.4566484485414757, \n",
    "                   'reg_lambda': 0.5892017866156632, \n",
    "                   'gamma': 0.5305938568345651, \n",
    "                   'min_child_weight': 1, \n",
    "                   'max_delta_step': 1, \n",
    "                   'grow_policy': 'lossguide', \n",
    "                   'max_cat_to_onehot': 12, \n",
    "                   'max_cat_threshold': 32}"
   ]
  },
  {
   "cell_type": "code",
   "execution_count": 19,
   "id": "e58c64b6",
   "metadata": {
    "execution": {
     "iopub.execute_input": "2024-08-24T00:40:42.980303Z",
     "iopub.status.busy": "2024-08-24T00:40:42.980029Z",
     "iopub.status.idle": "2024-08-24T00:40:42.984089Z",
     "shell.execute_reply": "2024-08-24T00:40:42.983269Z"
    },
    "papermill": {
     "duration": 0.015686,
     "end_time": "2024-08-24T00:40:42.985979",
     "exception": false,
     "start_time": "2024-08-24T00:40:42.970293",
     "status": "completed"
    },
    "tags": []
   },
   "outputs": [],
   "source": [
    "xgb_pipeline = XGBClassifier(enable_categorical = True, device = 'cuda', tree_method = 'gpu_hist', **best_params_xgb)"
   ]
  },
  {
   "cell_type": "code",
   "execution_count": 20,
   "id": "c786913a",
   "metadata": {
    "execution": {
     "iopub.execute_input": "2024-08-24T00:40:43.004638Z",
     "iopub.status.busy": "2024-08-24T00:40:43.004361Z",
     "iopub.status.idle": "2024-08-24T01:14:49.978932Z",
     "shell.execute_reply": "2024-08-24T01:14:49.977869Z"
    },
    "papermill": {
     "duration": 2046.996674,
     "end_time": "2024-08-24T01:14:49.991310",
     "exception": false,
     "start_time": "2024-08-24T00:40:42.994636",
     "status": "completed"
    },
    "tags": []
   },
   "outputs": [
    {
     "name": "stdout",
     "output_type": "stream",
     "text": [
      "================================================================================\n",
      "Training XGBClassifier\n",
      "================================================================================\n",
      "--- Fold 1 MCC Score: 0.988953\n",
      "\n",
      "---> Mean MCC Score: 0.988953 ± 0.000000\n",
      "\n",
      "\n",
      "--- Fold 2 MCC Score: 0.988933\n",
      "\n",
      "---> Mean MCC Score: 0.988943 ± 0.000010\n",
      "\n",
      "\n",
      "--- Fold 3 MCC Score: 0.988988\n",
      "\n",
      "---> Mean MCC Score: 0.988958 ± 0.000022\n",
      "\n",
      "\n",
      "--- Fold 4 MCC Score: 0.988715\n",
      "\n",
      "---> Mean MCC Score: 0.988897 ± 0.000107\n",
      "\n",
      "\n",
      "--- Fold 5 MCC Score: 0.988730\n",
      "\n",
      "---> Mean MCC Score: 0.988864 ± 0.000117\n",
      "\n",
      "\n"
     ]
    }
   ],
   "source": [
    "f, _ = model_trainer(xgb_pipeline, X, y)"
   ]
  },
  {
   "cell_type": "code",
   "execution_count": 21,
   "id": "e441b21d",
   "metadata": {
    "execution": {
     "iopub.execute_input": "2024-08-24T01:14:50.011699Z",
     "iopub.status.busy": "2024-08-24T01:14:50.011350Z",
     "iopub.status.idle": "2024-08-24T01:14:53.106417Z",
     "shell.execute_reply": "2024-08-24T01:14:53.105600Z"
    },
    "papermill": {
     "duration": 3.108049,
     "end_time": "2024-08-24T01:14:53.108754",
     "exception": false,
     "start_time": "2024-08-24T01:14:50.000705",
     "status": "completed"
    },
    "tags": []
   },
   "outputs": [],
   "source": [
    "preds = np.argmax(np.mean(f, axis = 0), axis = 1)\n",
    "sub = pd.read_csv('/kaggle/input/playground-series-s4e8/sample_submission.csv')\n",
    "sub['class'] = lab_enc.inverse_transform(preds)\n",
    "sub.to_csv('version_12_submission.csv', index = False)"
   ]
  }
 ],
 "metadata": {
  "kaggle": {
   "accelerator": "none",
   "dataSources": [
    {
     "databundleVersionId": 9045607,
     "sourceId": 76727,
     "sourceType": "competition"
    },
    {
     "datasetId": 2327251,
     "sourceId": 3918849,
     "sourceType": "datasetVersion"
    },
    {
     "datasetId": 5480713,
     "sourceId": 9094894,
     "sourceType": "datasetVersion"
    }
   ],
   "dockerImageVersionId": 30762,
   "isGpuEnabled": false,
   "isInternetEnabled": true,
   "language": "python",
   "sourceType": "notebook"
  },
  "kernelspec": {
   "display_name": "Python 3",
   "language": "python",
   "name": "python3"
  },
  "language_info": {
   "codemirror_mode": {
    "name": "ipython",
    "version": 3
   },
   "file_extension": ".py",
   "mimetype": "text/x-python",
   "name": "python",
   "nbconvert_exporter": "python",
   "pygments_lexer": "ipython3",
   "version": "3.10.14"
  },
  "papermill": {
   "default_parameters": {},
   "duration": 2110.405002,
   "end_time": "2024-08-24T01:14:54.210361",
   "environment_variables": {},
   "exception": null,
   "input_path": "__notebook__.ipynb",
   "output_path": "__notebook__.ipynb",
   "parameters": {},
   "start_time": "2024-08-24T00:39:43.805359",
   "version": "2.6.0"
  }
 },
 "nbformat": 4,
 "nbformat_minor": 5
}
