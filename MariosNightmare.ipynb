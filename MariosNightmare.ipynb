{
 "cells": [
  {
   "cell_type": "code",
   "execution_count": 1,
   "metadata": {},
   "outputs": [],
   "source": [
    "import sys\n",
    "import matplotlib.pyplot as plt\n",
    "import pandas as pd\n",
    "from joblib import dump, load"
   ]
  },
  {
   "cell_type": "code",
   "execution_count": 2,
   "metadata": {},
   "outputs": [
    {
     "name": "stdout",
     "output_type": "stream",
     "text": [
      "c:\\Users\\hugph\\ML\\s4e8\n"
     ]
    }
   ],
   "source": [
    "import os\n",
    "\n",
    "current_directory = os.getcwd()\n",
    "print(current_directory)"
   ]
  },
  {
   "cell_type": "code",
   "execution_count": 13,
   "metadata": {},
   "outputs": [],
   "source": [
    "train = pd.read_csv(f'train.csv', index_col = 0)\n",
    "test = pd.read_csv(f'test.csv', index_col = 0)\n",
    "\n",
    "target = 'class'"
   ]
  },
  {
   "cell_type": "code",
   "execution_count": 14,
   "metadata": {},
   "outputs": [],
   "source": [
    "import pandas as pd\n",
    "import numpy as np\n",
    "\n",
    "\n",
    "def convert_data_types(train, test, target_column):\n",
    "    train = train.copy()\n",
    "    test = test.copy()\n",
    "\n",
    "    target = train[target_column].copy()\n",
    "\n",
    "    train = train.drop(columns = [target_column])\n",
    "\n",
    "    combined = pd.concat([train, test], keys = ['train', 'test'])\n",
    "\n",
    "    def process_column(df, col):\n",
    "        if df[col].dtype == 'object':\n",
    "            df[col] = df[col].fillna('unk').astype('category')\n",
    "        elif df[col].dtype.name == 'category':\n",
    "            if df[col].isna().any():\n",
    "                df[col] = df[col].cat.add_categories('unk').fillna('unk')\n",
    "        return df\n",
    "\n",
    "    for column in combined.columns:\n",
    "        combined = process_column(combined, column)\n",
    "\n",
    "    new_train = combined.loc['train'].copy()\n",
    "    new_test = combined.loc['test'].copy()\n",
    "\n",
    "    new_train[target_column] = target\n",
    "\n",
    "    return new_train, new_test"
   ]
  },
  {
   "cell_type": "code",
   "execution_count": 15,
   "metadata": {},
   "outputs": [],
   "source": [
    "train, test = convert_data_types(train, test, target)"
   ]
  },
  {
   "cell_type": "code",
   "execution_count": 21,
   "metadata": {},
   "outputs": [],
   "source": [
    "from sklearn.preprocessing import LabelEncoder"
   ]
  },
  {
   "cell_type": "code",
   "execution_count": 24,
   "metadata": {},
   "outputs": [
    {
     "data": {
      "text/plain": [
       "id\n",
       "0          0\n",
       "1          1\n",
       "2          0\n",
       "3          0\n",
       "4          0\n",
       "          ..\n",
       "3116940    0\n",
       "3116941    0\n",
       "3116942    1\n",
       "3116943    0\n",
       "3116944    1\n",
       "Name: class, Length: 3116945, dtype: int64"
      ]
     },
     "execution_count": 24,
     "metadata": {},
     "output_type": "execute_result"
    }
   ],
   "source": [
    "le = LabelEncoder()\n",
    "\n",
    "train[target] = le.fit_transform(train[target])\n",
    "\n",
    "train[target]"
   ]
  },
  {
   "cell_type": "code",
   "execution_count": 25,
   "metadata": {},
   "outputs": [
    {
     "data": {
      "text/plain": [
       "['cap-shape',\n",
       " 'cap-surface',\n",
       " 'cap-color',\n",
       " 'does-bruise-or-bleed',\n",
       " 'gill-attachment',\n",
       " 'gill-spacing',\n",
       " 'gill-color',\n",
       " 'stem-root',\n",
       " 'stem-surface',\n",
       " 'stem-color',\n",
       " 'veil-type',\n",
       " 'veil-color',\n",
       " 'has-ring',\n",
       " 'ring-type',\n",
       " 'spore-print-color',\n",
       " 'habitat',\n",
       " 'season']"
      ]
     },
     "execution_count": 25,
     "metadata": {},
     "output_type": "execute_result"
    }
   ],
   "source": [
    "categorical_features = train.select_dtypes(include = ['object', 'category']).columns.tolist()\n",
    "\n",
    "categorical_features"
   ]
  },
  {
   "cell_type": "code",
   "execution_count": null,
   "metadata": {},
   "outputs": [],
   "source": [
    "import numpy as np\n",
    "import optuna\n",
    "import pandas as pd\n",
    "from lightgbm import LGBMClassifier, early_stopping\n",
    "from optuna.samplers import TPESampler\n",
    "from sklearn.metrics import matthews_corrcoef\n",
    "from sklearn.model_selection import StratifiedKFold\n",
    "from typing import Dict, List, Tuple, Union\n",
    "\n",
    "class Model_gbdt:\n",
    "    def __init__(self, train: pd.DataFrame, test: pd.DataFrame, target: str, categorical_feats: List[str], base_params = None):\n",
    "        if base_params is None:\n",
    "            base_params = {}\n",
    "        \n",
    "        self.train = train\n",
    "        self.test = test\n",
    "        self.model_dict: Dict[str, LGBMClassifier] = {}\n",
    "        self.test_predict_list: List[np.ndarray] = []\n",
    "        self.categorical_feats = categorical_feats\n",
    "        self.target = target\n",
    "        self.base_params = base_params\n",
    "    \n",
    "    def objective(self, trial: optuna.Trial) -> float:\n",
    "        params = {\n",
    "            \"max_depth\": trial.suggest_int(\"max_depth\", 2, 10),\n",
    "            \"num_leaves\": trial.suggest_int(\"num_leaves\", 2, 256),\n",
    "            \"learning_rate\": trial.suggest_float(\"learning_rate\", 1e-3, 0.3, log=True),\n",
    "            \"n_estimators\": trial.suggest_int(\"n_estimators\", 50, 1500),\n",
    "            \"min_child_samples\": trial.suggest_int(\"min_child_samples\", 1, 100),\n",
    "            \"feature_fraction\": trial.suggest_float(\"feature_fraction\", 0.1, 1.0),\n",
    "            \"subsample\": trial.suggest_float(\"subsample\", 0.5, 1.0),\n",
    "            \"colsample_bytree\": trial.suggest_float(\"colsample_bytree\", 0.5, 1.0),\n",
    "            \"lambda_l1\": trial.suggest_float(\"lambda_l1\", 0, 1),\n",
    "            \"lambda_l2\": trial.suggest_float(\"lambda_l2\", 0, 1),\n",
    "            \"min_split_gain\": trial.suggest_float(\"min_split_gain\", 0, 1),\n",
    "            \"max_bin\": trial.suggest_int(\"max_bin\", 10, 1000),\n",
    "            \"max_delta_step\": trial.suggest_float(\"max_delta_step\", 0, 1),\n",
    "            \"path_smooth\": trial.suggest_float(\"path_smooth\", 0, 10),\n",
    "            \"min_data_in_leaf\": trial.suggest_int(\"min_data_in_leaf\", 1, 100),\n",
    "            \"min_sum_hessian_in_leaf\": trial.suggest_float(\"min_sum_hessian_in_leaf\", 1e-8, 1.0),\n",
    "            \"max_cat_threshold\": trial.suggest_int(\"max_cat_threshold\", 2, 32),\n",
    "            \"cat_l2\": trial.suggest_float(\"cat_l2\", 0, 100),\n",
    "            \"cat_smooth\": trial.suggest_float(\"cat_smooth\", 0, 100),\n",
    "            \"max_cat_to_onehot\": trial.suggest_int(\"max_cat_to_onehot\", 2, 32),\n",
    "            'cat_features': self.categorical_feats,\n",
    "            **self.base_params\n",
    "        }\n",
    "        scores, _, _, = self.fit(params)\n",
    "        return np.mean(scores)\n",
    "    \n",
    "    def fit(self, params: Dict[str, Union[int, float, str, bool, List[str]]]) -> Tuple[List[float], List[np.ndarray], np.ndarray]:\n",
    "        label_columns = [self.target]\n",
    "        train_cols = [col for col in self.train.columns.to_list() if col not in label_columns]\n",
    "        scores = []\n",
    "        mskf = StratifiedKFold(n_splits = 5, shuffle = True)\n",
    "        oof_valid_preds = np.zeros((self.train[train_cols].shape[0], len(label_columns)))\n",
    "        for fold, (train_idx, valid_idx) in enumerate(mskf.split(self.train[train_cols], self.train[label_columns])):\n",
    "            \n",
    "            X_train, y_train = self.train[train_cols].iloc[train_idx], self.train[label_columns].iloc[train_idx].values.ravel()\n",
    "            X_valid, y_valid = self.train[train_cols].iloc[valid_idx], self.train[label_columns].iloc[valid_idx].values.ravel()\n",
    "\n",
    "            model = LGBMClassifier(**params)\n",
    "            model.fit(X_train, y_train, eval_set = [(X_valid, y_valid)], callbacks = [early_stopping(250)])\n",
    "\n",
    "            valid_preds = model.predict(X_valid)\n",
    "            oof_valid_preds[valid_idx] = valid_preds.reshape(-1,1)\n",
    "\n",
    "            test_predict = model.predict_proba(self.test[train_cols])[:,1]\n",
    "            self.test_predict_list.append(test_predict)\n",
    "\n",
    "            mcc = matthews_corrcoef(y_valid, valid_preds)\n",
    "            scores.append(mcc)\n",
    "            self.model_dict[f'fold_{fold}'] = model\n",
    "\n",
    "        oof_score = matthews_corrcoef(self.train[label_columns], oof_valid_preds) # * mcc of all training data and all validation predictions from all folds\n",
    "        scores.append(oof_score)\n",
    "        print(f'The average Matthews Correlation Coefficient is {np.mean(scores)}')\n",
    "\n",
    "        return scores, self.test_predict_list, oof_valid_preds\n",
    "    \n",
    "    def optimize(self, n_trials: int = 100) -> Dict[str, Union[int, float, str, bool]]:\n",
    "        study = optuna.create_study(direction = 'maximize', sampler = TPESampler(seed = 42))\n",
    "        study.optimize(self.objective, timeout = n_trials, show_progress_bar = True)\n",
    "\n",
    "        print(\"Best trial:\")\n",
    "        trial = study.best_trial\n",
    "        print(\" Value:\", trial.value)\n",
    "        print(\" Params:\")\n",
    "        for key, value in trial.params.items():\n",
    "            print(f\" {key}: {value}\")\n",
    "        return study.best_params"
   ]
  },
  {
   "cell_type": "code",
   "execution_count": null,
   "metadata": {},
   "outputs": [],
   "source": []
  }
 ],
 "metadata": {
  "kernelspec": {
   "display_name": "venv",
   "language": "python",
   "name": "python3"
  },
  "language_info": {
   "codemirror_mode": {
    "name": "ipython",
    "version": 3
   },
   "file_extension": ".py",
   "mimetype": "text/x-python",
   "name": "python",
   "nbconvert_exporter": "python",
   "pygments_lexer": "ipython3",
   "version": "3.11.3"
  }
 },
 "nbformat": 4,
 "nbformat_minor": 2
}
