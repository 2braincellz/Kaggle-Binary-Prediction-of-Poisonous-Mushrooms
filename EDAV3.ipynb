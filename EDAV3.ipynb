{
 "cells": [
  {
   "cell_type": "code",
   "execution_count": 2,
   "metadata": {},
   "outputs": [],
   "source": [
    "import pandas as pd\n",
    "import numpy as np"
   ]
  },
  {
   "cell_type": "code",
   "execution_count": 3,
   "metadata": {},
   "outputs": [],
   "source": [
    "train = pd.read_csv('train.csv')\n",
    "test = pd.read_csv('test.csv')"
   ]
  },
  {
   "cell_type": "code",
   "execution_count": 4,
   "metadata": {},
   "outputs": [],
   "source": [
    "from sklearn.preprocessing import OneHotEncoder"
   ]
  },
  {
   "cell_type": "code",
   "execution_count": 5,
   "metadata": {},
   "outputs": [],
   "source": [
    "cat_cols = [col for col in train.select_dtypes('object').columns]\n",
    "num_cols = [col for col in train.select_dtypes('number').columns]"
   ]
  },
  {
   "cell_type": "code",
   "execution_count": 6,
   "metadata": {},
   "outputs": [],
   "source": [
    "from sklearn.compose import ColumnTransformer"
   ]
  },
  {
   "cell_type": "code",
   "execution_count": 7,
   "metadata": {},
   "outputs": [],
   "source": [
    "from sklearn.pipeline import Pipeline\n",
    "from sklearn.impute import KNNImputer\n",
    "from sklearn.impute import SimpleImputer\n",
    "from sklearn.preprocessing import OrdinalEncoder\n",
    "from sklearn.compose import ColumnTransformer\n",
    "\n",
    "def encode_data(df, num_cols, cat_cols):\n",
    "\n",
    "    numeric_transformer = Pipeline(steps = [\n",
    "        ('imputer', KNNImputer(n_neighbors = 3))\n",
    "    ])\n",
    "\n",
    "    categorical_transformer = Pipeline(steps = [\n",
    "        # ('imputer', SimpleImputer(strategy = 'constant', fill_value = 'missing')),\n",
    "        ('ordinal', OrdinalEncoder(handle_unknown='use_encoded_value', unknown_value=-1))\n",
    "    ])\n",
    "\n",
    "    preprocessor = ColumnTransformer(\n",
    "        transformers = [\n",
    "            ('num', numeric_transformer, num_cols),\n",
    "            ('cat', categorical_transformer, cat_cols)\n",
    "        ]\n",
    "    )\n",
    "\n",
    "    df_transformed = pd.DataFrame(preprocessor.fit_transform(df[num_cols + cat_cols]), columns = num_cols + cat_cols)\n",
    "\n",
    "    # df_final = df[['class']].join(df_transformed)\n",
    "\n",
    "    df_final = df_transformed\n",
    "\n",
    "    return df_final"
   ]
  },
  {
   "cell_type": "code",
   "execution_count": 8,
   "metadata": {},
   "outputs": [],
   "source": [
    "train_preprocessed = encode_data(train, num_cols, cat_cols)"
   ]
  },
  {
   "cell_type": "code",
   "execution_count": 9,
   "metadata": {},
   "outputs": [],
   "source": [
    "import itertools\n",
    "from sklearn.preprocessing import LabelEncoder\n",
    "\n",
    "def find_train_combinations(train, cat_cols, num_cols):\n",
    "    \n",
    "    all_columns = cat_cols + num_cols\n",
    "\n",
    "    # ? returning features from train_combinations with correlations greater than the mean of the original\n",
    "    \n",
    "    ord_enc = LabelEncoder()\n",
    "    train['class'] = ord_enc.fit_transform(train['class'])\n",
    "\n",
    "   #  corr_matrix = train.corr()\n",
    "    \n",
    "   #  threshold = abs(corr_matrix['class']).sort_values(ascending=False).mean()\n",
    "   #  print(f\" Mean Correlation of Original Data {threshold}\")\n",
    "\n",
    "\n",
    "    filtered_cols = [col for col in all_columns if col != 'class']\n",
    "    print(filtered_cols)\n",
    "    print(train.columns)\n",
    "    combinations = itertools.combinations(filtered_cols, 2)\n",
    "    print(combinations)\n",
    "\n",
    "    train_combinations = train['class'].to_frame()\n",
    "\n",
    "    for col1, col2 in combinations:\n",
    "       combination = train[col1] * train[col2]\n",
    "       train_combinations = train_combinations.join(combination.rename(f'{col1} x {col2}'))\n",
    "    \n",
    "    # ? returning features from train_combinations with correlations greater than the mean of the original\n",
    "\n",
    "   #  corr_combinations = train_combinations.corr()\n",
    "   #  abs_values = abs(corr_combinations['class'])\n",
    "   #  new_cols = abs_values.loc[abs_values > threshold].index.tolist()\n",
    "\n",
    "    new_cols = train_combinations.columns.tolist()\n",
    "\n",
    "    if 'class' in new_cols:\n",
    "        new_cols.remove('class')\n",
    "   #  new_cols = ['habitat x cap-diameter', 'habitat x stem-width']\n",
    "    \n",
    "    \n",
    "    train['class'] = ord_enc.inverse_transform(train['class'])\n",
    "    return train.join(train_combinations[new_cols])"
   ]
  },
  {
   "cell_type": "code",
   "execution_count": 11,
   "metadata": {},
   "outputs": [
    {
     "name": "stdout",
     "output_type": "stream",
     "text": [
      "['cap-shape', 'cap-surface', 'cap-color', 'does-bruise-or-bleed', 'gill-attachment', 'gill-spacing', 'gill-color', 'stem-root', 'stem-surface', 'stem-color', 'veil-type', 'veil-color', 'has-ring', 'ring-type', 'spore-print-color', 'habitat', 'season', 'id', 'cap-diameter', 'stem-height', 'stem-width']\n",
      "Index(['id', 'cap-diameter', 'stem-height', 'stem-width', 'class', 'cap-shape',\n",
      "       'cap-surface', 'cap-color', 'does-bruise-or-bleed', 'gill-attachment',\n",
      "       'gill-spacing', 'gill-color', 'stem-root', 'stem-surface', 'stem-color',\n",
      "       'veil-type', 'veil-color', 'has-ring', 'ring-type', 'spore-print-color',\n",
      "       'habitat', 'season'],\n",
      "      dtype='object')\n",
      "<itertools.combinations object at 0x0000027422529760>\n"
     ]
    }
   ],
   "source": [
    "train_preprocessed_corr = find_train_combinations(train_preprocessed, cat_cols, num_cols)"
   ]
  },
  {
   "cell_type": "code",
   "execution_count": 12,
   "metadata": {},
   "outputs": [],
   "source": [
    "corr_matrix = train_preprocessed_corr.corr()"
   ]
  },
  {
   "cell_type": "code",
   "execution_count": 14,
   "metadata": {},
   "outputs": [
    {
     "data": {
      "text/plain": [
       "class                               1.000000\n",
       "stem-root x veil-type               0.981362\n",
       "stem-surface x veil-type            0.948013\n",
       "stem-root x veil-color              0.644496\n",
       "spore-print-color x cap-diameter    0.563447\n",
       "                                      ...   \n",
       "veil-type x id                      0.001661\n",
       "has-ring x season                   0.000525\n",
       "id                                  0.000136\n",
       "gill-attachment x has-ring          0.000056\n",
       "cap-color x stem-surface            0.000047\n",
       "Name: class, Length: 232, dtype: float64"
      ]
     },
     "execution_count": 14,
     "metadata": {},
     "output_type": "execute_result"
    }
   ],
   "source": [
    "abs(corr_matrix['class']).sort_values(ascending= False)"
   ]
  },
  {
   "cell_type": "code",
   "execution_count": null,
   "metadata": {},
   "outputs": [],
   "source": []
  },
  {
   "cell_type": "code",
   "execution_count": 15,
   "metadata": {},
   "outputs": [],
   "source": [
    "def handle_missing_data(df_transformed):\n",
    "    df_transformed = df_transformed.fillna(-10)\n",
    "\n",
    "    print(\"Missing values after imputation:\")\n",
    "    print(df_transformed.isnull().sum())\n",
    "    \n",
    "    return df_transformed"
   ]
  },
  {
   "cell_type": "code",
   "execution_count": 16,
   "metadata": {},
   "outputs": [
    {
     "name": "stdout",
     "output_type": "stream",
     "text": [
      "Missing values after imputation:\n",
      "id                            0\n",
      "cap-diameter                  0\n",
      "stem-height                   0\n",
      "stem-width                    0\n",
      "class                         0\n",
      "                             ..\n",
      "id x stem-height              0\n",
      "id x stem-width               0\n",
      "cap-diameter x stem-height    0\n",
      "cap-diameter x stem-width     0\n",
      "stem-height x stem-width      0\n",
      "Length: 232, dtype: int64\n"
     ]
    }
   ],
   "source": [
    "train_preprocessed_imputed = handle_missing_data(train_preprocessed_corr)"
   ]
  },
  {
   "cell_type": "code",
   "execution_count": 17,
   "metadata": {},
   "outputs": [],
   "source": [
    "corr_imputed = train_preprocessed_imputed.corr()"
   ]
  },
  {
   "cell_type": "code",
   "execution_count": 20,
   "metadata": {},
   "outputs": [
    {
     "data": {
      "text/plain": [
       "class                                 1.000000\n",
       "habitat x stem-width                  0.192176\n",
       "habitat x cap-diameter                0.186009\n",
       "stem-color x stem-width               0.176561\n",
       "stem-color x cap-diameter             0.175999\n",
       "                                        ...   \n",
       "gill-spacing x ring-type              0.001188\n",
       "cap-shape x cap-surface               0.000559\n",
       "has-ring x season                     0.000526\n",
       "id                                    0.000136\n",
       "cap-surface x does-bruise-or-bleed    0.000014\n",
       "Name: class, Length: 232, dtype: float64"
      ]
     },
     "execution_count": 20,
     "metadata": {},
     "output_type": "execute_result"
    }
   ],
   "source": [
    "abs(corr_imputed['class']).sort_values(ascending=False)"
   ]
  },
  {
   "cell_type": "code",
   "execution_count": null,
   "metadata": {},
   "outputs": [],
   "source": []
  }
 ],
 "metadata": {
  "kernelspec": {
   "display_name": "venv",
   "language": "python",
   "name": "python3"
  },
  "language_info": {
   "codemirror_mode": {
    "name": "ipython",
    "version": 3
   },
   "file_extension": ".py",
   "mimetype": "text/x-python",
   "name": "python",
   "nbconvert_exporter": "python",
   "pygments_lexer": "ipython3",
   "version": "3.11.3"
  }
 },
 "nbformat": 4,
 "nbformat_minor": 2
}
