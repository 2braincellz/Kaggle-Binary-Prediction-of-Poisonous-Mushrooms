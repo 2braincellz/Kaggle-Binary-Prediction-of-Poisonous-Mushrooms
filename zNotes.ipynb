{
 "cells": [
  {
   "cell_type": "markdown",
   "metadata": {},
   "source": [
    "Fit_transform and Transform have the same accuracys\n",
    "\n",
    "Found in One Hot Encoding"
   ]
  },
  {
   "cell_type": "markdown",
   "metadata": {},
   "source": [
    "Check if difference in training between Kaggle and VsCode\n",
    "\n",
    "Training in VSCode results in a higher accuracy than Kaggle even though training occurs with the same model"
   ]
  },
  {
   "cell_type": "markdown",
   "metadata": {},
   "source": [
    "Numpy Version does not affect model accuracy\n",
    "TODO Check with kaggle"
   ]
  },
  {
   "cell_type": "markdown",
   "metadata": {},
   "source": [
    "device = 'cuda' parameter speeds up training and lowers cpu temperature; does not need to install any software at least on this computer"
   ]
  },
  {
   "cell_type": "markdown",
   "metadata": {},
   "source": [
    "Secondary Dataset improves LightGBM in the Example code but decreases performance with versionPR likely due to one hot encoding encouraging overfitting\n",
    "\n",
    "TODO: could be likely because tree_method not specified so more experiments will be needed"
   ]
  },
  {
   "cell_type": "markdown",
   "metadata": {},
   "source": []
  },
  {
   "cell_type": "markdown",
   "metadata": {},
   "source": []
  }
 ],
 "metadata": {
  "kernelspec": {
   "display_name": "venv",
   "language": "python",
   "name": "python3"
  },
  "language_info": {
   "name": "python",
   "version": "3.11.3"
  }
 },
 "nbformat": 4,
 "nbformat_minor": 2
}
