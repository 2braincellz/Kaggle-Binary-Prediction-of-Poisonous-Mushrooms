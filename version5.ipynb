{
 "cells": [
  {
   "cell_type": "markdown",
   "metadata": {},
   "source": [
    "So Far imputing missing data with a negative integer leads to worse results compared to ignoring them but leads to faster training time"
   ]
  },
  {
   "cell_type": "markdown",
   "metadata": {},
   "source": [
    "Testing different imputing methods"
   ]
  },
  {
   "cell_type": "markdown",
   "metadata": {},
   "source": [
    "Current Best"
   ]
  },
  {
   "cell_type": "code",
   "execution_count": 49,
   "metadata": {},
   "outputs": [],
   "source": [
    "import pandas as pd\n",
    "import numpy as np\n",
    "import matplotlib.pyplot as plt"
   ]
  },
  {
   "cell_type": "code",
   "execution_count": 50,
   "metadata": {},
   "outputs": [],
   "source": [
    "train = pd.read_csv('train.csv')\n",
    "test = pd.read_csv('test.csv')"
   ]
  },
  {
   "cell_type": "code",
   "execution_count": 51,
   "metadata": {},
   "outputs": [],
   "source": [
    "train = train.drop('id', axis = 1)\n",
    "test = test.drop('id', axis = 1)"
   ]
  },
  {
   "cell_type": "code",
   "execution_count": 52,
   "metadata": {},
   "outputs": [],
   "source": [
    "pd.set_option('display.max_columns', None)"
   ]
  },
  {
   "cell_type": "code",
   "execution_count": 53,
   "metadata": {},
   "outputs": [],
   "source": [
    "def replace_non_alpha_with_nan(df):\n",
    "    cols_to_filter = ['cap-shape', 'cap-surface', 'cap-color', \n",
    "                      'does-bruise-or-bleed', 'gill-attachment', \n",
    "                      'gill-spacing', 'gill-color', 'stem-surface', \n",
    "                      'stem-color', 'has-ring', 'ring-type', 'habitat', 'stem-root', 'veil-type', 'veil-color', 'spore-print-color']\n",
    "\n",
    "    alphabet_list = ['a', 'b', 'c', 'd', 'e', 'f', 'g', 'h', 'i', 'j', \n",
    "                     'k', 'l', 'm', 'n', 'o', 'p', 'q', 'r', 's', 't', 'u', 'v', 'w', 'x', 'y', 'z']\n",
    "\n",
    "    col_values = {}\n",
    "    for col in cols_to_filter:\n",
    "        value_counts = train[col].value_counts()\n",
    "        col_values[col] = value_counts[value_counts > 10].index.values.tolist()\n",
    "\n",
    "\n",
    "    def filter_alpha(value, value_list_no_outliers):\n",
    "        if isinstance(value, str):\n",
    "            return value if len(value) == 1 and value in value_list_no_outliers and value in alphabet_list else np.nan # if value is a single character\n",
    "        \n",
    "        return np.nan\n",
    "    \n",
    "    for col in cols_to_filter:\n",
    "        df[col] = df[col].apply(lambda x : filter_alpha(x, col_values[col]))\n",
    "\n",
    "    return df"
   ]
  },
  {
   "cell_type": "code",
   "execution_count": 54,
   "metadata": {},
   "outputs": [],
   "source": [
    "train = replace_non_alpha_with_nan(train)\n",
    "test = replace_non_alpha_with_nan(test)"
   ]
  },
  {
   "cell_type": "code",
   "execution_count": 55,
   "metadata": {},
   "outputs": [
    {
     "name": "stdout",
     "output_type": "stream",
     "text": [
      "Categorical columns:\n",
      " ['cap-shape', 'cap-surface', 'cap-color', 'does-bruise-or-bleed', 'gill-attachment', 'gill-spacing', 'gill-color', 'stem-root', 'stem-surface', 'stem-color', 'veil-type', 'veil-color', 'has-ring', 'ring-type', 'spore-print-color', 'habitat', 'season']\n",
      "\n",
      "Numeric columns:\n",
      " ['cap-diameter', 'stem-height', 'stem-width']\n"
     ]
    }
   ],
   "source": [
    "cat_cols = [col for col in train.select_dtypes('object').columns if col != 'class']\n",
    "num_cols = [col for col in train.select_dtypes('number').columns]\n",
    "print(f'Categorical columns:\\n {cat_cols}\\n')\n",
    "print(f'Numeric columns:\\n {num_cols}')"
   ]
  },
  {
   "cell_type": "code",
   "execution_count": 56,
   "metadata": {},
   "outputs": [],
   "source": [
    "# train_combinations = train_preprocessed['cat__class'].to_frame()\n",
    "\n",
    "# for i, col in enumerate(cat_cols.columns):\n",
    "#     if col != 'cat__class':\n",
    "#         for j, col2 in enumerate(cat_cols[i+1:], start=i+1):\n",
    "#             if col2 != 'cat__class':\n",
    "#                 combination = cat_cols[col] * cat_cols[col2]\n",
    "#                 train_combinations = train_combinations.join(combination.rename(f'{col} x {col2}'))"
   ]
  },
  {
   "cell_type": "code",
   "execution_count": 57,
   "metadata": {},
   "outputs": [],
   "source": [
    "from sklearn.pipeline import Pipeline\n",
    "from sklearn.impute import KNNImputer\n",
    "from sklearn.impute import SimpleImputer\n",
    "from sklearn.preprocessing import OrdinalEncoder\n",
    "from sklearn.compose import ColumnTransformer\n",
    "\n",
    "def handle_missing_data(df, num_cols, cat_cols):\n",
    "\n",
    "    numeric_transformer = Pipeline(steps = [\n",
    "        ('imputer', KNNImputer(n_neighbors = 3))\n",
    "    ])\n",
    "\n",
    "    categorical_transformer = Pipeline(steps = [\n",
    "        # ('imputer', SimpleImputer(strategy = 'most_frequent')),\n",
    "        ('ordinal', OrdinalEncoder(handle_unknown='use_encoded_value', unknown_value=-1))\n",
    "    ])\n",
    "\n",
    "    preprocessor = ColumnTransformer(\n",
    "        transformers = [\n",
    "            ('num', numeric_transformer, num_cols),\n",
    "            ('cat', categorical_transformer, cat_cols)\n",
    "        ]\n",
    "    )\n",
    "\n",
    "    df_transformed = pd.DataFrame(preprocessor.fit_transform(df[num_cols + cat_cols]), columns = num_cols + cat_cols)\n",
    "\n",
    "    df_transformed = df_transformed.fillna(-20)\n",
    "\n",
    "    print(\"Missing values after imputation:\")\n",
    "    print(df_transformed.isnull().sum())\n",
    "\n",
    "    df_final = df[['class']].join(df_transformed)\n",
    "\n",
    "    return df_final"
   ]
  },
  {
   "cell_type": "code",
   "execution_count": 58,
   "metadata": {},
   "outputs": [
    {
     "name": "stdout",
     "output_type": "stream",
     "text": [
      "Missing values after imputation:\n",
      "cap-diameter            0\n",
      "stem-height             0\n",
      "stem-width              0\n",
      "cap-shape               0\n",
      "cap-surface             0\n",
      "cap-color               0\n",
      "does-bruise-or-bleed    0\n",
      "gill-attachment         0\n",
      "gill-spacing            0\n",
      "gill-color              0\n",
      "stem-root               0\n",
      "stem-surface            0\n",
      "stem-color              0\n",
      "veil-type               0\n",
      "veil-color              0\n",
      "has-ring                0\n",
      "ring-type               0\n",
      "spore-print-color       0\n",
      "habitat                 0\n",
      "season                  0\n",
      "dtype: int64\n"
     ]
    }
   ],
   "source": [
    "train = handle_missing_data(train, num_cols, cat_cols)"
   ]
  },
  {
   "cell_type": "code",
   "execution_count": 59,
   "metadata": {},
   "outputs": [],
   "source": [
    "def handle_missing_testset(df, num_cols, cat_cols):\n",
    "\n",
    "    numeric_transformer = Pipeline(steps = [\n",
    "        ('imputer', KNNImputer(n_neighbors=3))\n",
    "    ])\n",
    "\n",
    "    categorical_transformer = Pipeline(steps = [\n",
    "        # ('imputer', SimpleImputer(strategy='most_frequent')),\n",
    "        ('ordinal', OrdinalEncoder(handle_unknown='use_encoded_value', unknown_value = -1))\n",
    "    ])\n",
    "\n",
    "    preprocessor = ColumnTransformer(\n",
    "        transformers = [\n",
    "            ('num', numeric_transformer, num_cols),\n",
    "            ('cat', categorical_transformer, cat_cols)\n",
    "        ]\n",
    "    )\n",
    "\n",
    "    df_transformed = pd.DataFrame(preprocessor.fit_transform(df[num_cols + cat_cols]), columns = num_cols + cat_cols)\n",
    "\n",
    "    df_transformed = df_transformed.fillna(-20)\n",
    "\n",
    "    print(\"Missing values after imputation:\")\n",
    "    print(df_transformed.isna().sum())\n",
    "\n",
    "    df_final = df_transformed\n",
    "    return df_final"
   ]
  },
  {
   "cell_type": "code",
   "execution_count": 60,
   "metadata": {},
   "outputs": [
    {
     "name": "stdout",
     "output_type": "stream",
     "text": [
      "Missing values after imputation:\n",
      "cap-diameter            0\n",
      "stem-height             0\n",
      "stem-width              0\n",
      "cap-shape               0\n",
      "cap-surface             0\n",
      "cap-color               0\n",
      "does-bruise-or-bleed    0\n",
      "gill-attachment         0\n",
      "gill-spacing            0\n",
      "gill-color              0\n",
      "stem-root               0\n",
      "stem-surface            0\n",
      "stem-color              0\n",
      "veil-type               0\n",
      "veil-color              0\n",
      "has-ring                0\n",
      "ring-type               0\n",
      "spore-print-color       0\n",
      "habitat                 0\n",
      "season                  0\n",
      "dtype: int64\n"
     ]
    }
   ],
   "source": [
    "test = handle_missing_testset(test, num_cols, cat_cols)"
   ]
  },
  {
   "cell_type": "code",
   "execution_count": 61,
   "metadata": {},
   "outputs": [],
   "source": [
    "from sklearn.preprocessing import LabelEncoder\n",
    "le = LabelEncoder()\n",
    "train['class'] = le.fit_transform(train['class'])"
   ]
  },
  {
   "cell_type": "code",
   "execution_count": 62,
   "metadata": {},
   "outputs": [],
   "source": [
    "y = train['class']\n",
    "X = train.drop('class', axis = 1)"
   ]
  },
  {
   "cell_type": "code",
   "execution_count": 63,
   "metadata": {},
   "outputs": [],
   "source": [
    "from sklearn.model_selection import train_test_split\n",
    "\n",
    "X_train, X_test, y_train, y_test = train_test_split(X, y, test_size = 0.2, random_state = 42)"
   ]
  },
  {
   "cell_type": "code",
   "execution_count": 64,
   "metadata": {},
   "outputs": [],
   "source": [
    "from sklearn.metrics import matthews_corrcoef\n",
    "\n",
    "def mcc_metric(y_pred, dmatrix):\n",
    "    y_true = dmatrix.get_label()\n",
    "    y_pred = (y_pred > 0.5).astype(int) \n",
    "    mcc = matthews_corrcoef(y_true, y_pred)\n",
    "    return 'mcc', mcc"
   ]
  },
  {
   "cell_type": "code",
   "execution_count": 65,
   "metadata": {},
   "outputs": [],
   "source": [
    "from sklearn.metrics import matthews_corrcoef\n",
    "from xgboost import XGBClassifier\n",
    "import gc\n",
    "\n",
    "model = XGBClassifier(\n",
    "\n",
    "    colsample_bytree = 0.6,\n",
    "    max_depth = 14,\n",
    "    min_child_weight = 7,\n",
    "    random_state = 42,\n",
    "    n_estimators = 200,\n",
    ")"
   ]
  },
  {
   "cell_type": "code",
   "execution_count": 66,
   "metadata": {},
   "outputs": [
    {
     "name": "stderr",
     "output_type": "stream",
     "text": [
      "c:\\Users\\hugph\\ML\\s4e8\\venv\\Lib\\site-packages\\xgboost\\sklearn.py:889: UserWarning: `eval_metric` in `fit` method is deprecated for better compatibility with scikit-learn, use `eval_metric` in constructor or`set_params` instead.\n",
      "  warnings.warn(\n"
     ]
    },
    {
     "name": "stdout",
     "output_type": "stream",
     "text": [
      "[0]\tvalidation_0-logloss:0.45915\tvalidation_0-mcc:0.93866\n",
      "[1]\tvalidation_0-logloss:0.32880\tvalidation_0-mcc:0.96137\n",
      "[2]\tvalidation_0-logloss:0.24698\tvalidation_0-mcc:0.96997\n",
      "[3]\tvalidation_0-logloss:0.19155\tvalidation_0-mcc:0.97272\n",
      "[4]\tvalidation_0-logloss:0.14739\tvalidation_0-mcc:0.97675\n",
      "[5]\tvalidation_0-logloss:0.12306\tvalidation_0-mcc:0.97783\n",
      "[6]\tvalidation_0-logloss:0.10025\tvalidation_0-mcc:0.97940\n",
      "[7]\tvalidation_0-logloss:0.08378\tvalidation_0-mcc:0.98079\n",
      "[8]\tvalidation_0-logloss:0.07380\tvalidation_0-mcc:0.98088\n",
      "[9]\tvalidation_0-logloss:0.06345\tvalidation_0-mcc:0.98155\n",
      "[10]\tvalidation_0-logloss:0.05943\tvalidation_0-mcc:0.98149\n",
      "[11]\tvalidation_0-logloss:0.05312\tvalidation_0-mcc:0.98197\n",
      "[12]\tvalidation_0-logloss:0.04922\tvalidation_0-mcc:0.98229\n",
      "[13]\tvalidation_0-logloss:0.04612\tvalidation_0-mcc:0.98259\n",
      "[14]\tvalidation_0-logloss:0.04417\tvalidation_0-mcc:0.98269\n",
      "[15]\tvalidation_0-logloss:0.04263\tvalidation_0-mcc:0.98279\n",
      "[16]\tvalidation_0-logloss:0.04137\tvalidation_0-mcc:0.98291\n",
      "[17]\tvalidation_0-logloss:0.04012\tvalidation_0-mcc:0.98321\n",
      "[18]\tvalidation_0-logloss:0.03928\tvalidation_0-mcc:0.98327\n",
      "[19]\tvalidation_0-logloss:0.03881\tvalidation_0-mcc:0.98336\n",
      "[20]\tvalidation_0-logloss:0.03856\tvalidation_0-mcc:0.98341\n",
      "[21]\tvalidation_0-logloss:0.03823\tvalidation_0-mcc:0.98347\n",
      "[22]\tvalidation_0-logloss:0.03802\tvalidation_0-mcc:0.98350\n",
      "[23]\tvalidation_0-logloss:0.03790\tvalidation_0-mcc:0.98350\n",
      "[24]\tvalidation_0-logloss:0.03777\tvalidation_0-mcc:0.98355\n",
      "[25]\tvalidation_0-logloss:0.03767\tvalidation_0-mcc:0.98361\n",
      "[26]\tvalidation_0-logloss:0.03759\tvalidation_0-mcc:0.98368\n",
      "[27]\tvalidation_0-logloss:0.03754\tvalidation_0-mcc:0.98369\n",
      "[28]\tvalidation_0-logloss:0.03747\tvalidation_0-mcc:0.98373\n",
      "[29]\tvalidation_0-logloss:0.03744\tvalidation_0-mcc:0.98379\n",
      "[30]\tvalidation_0-logloss:0.03741\tvalidation_0-mcc:0.98380\n",
      "[31]\tvalidation_0-logloss:0.03740\tvalidation_0-mcc:0.98379\n",
      "[32]\tvalidation_0-logloss:0.03735\tvalidation_0-mcc:0.98382\n",
      "[33]\tvalidation_0-logloss:0.03735\tvalidation_0-mcc:0.98379\n",
      "[34]\tvalidation_0-logloss:0.03733\tvalidation_0-mcc:0.98381\n",
      "[35]\tvalidation_0-logloss:0.03735\tvalidation_0-mcc:0.98381\n",
      "[36]\tvalidation_0-logloss:0.03734\tvalidation_0-mcc:0.98381\n",
      "[37]\tvalidation_0-logloss:0.03734\tvalidation_0-mcc:0.98382\n",
      "[38]\tvalidation_0-logloss:0.03734\tvalidation_0-mcc:0.98383\n",
      "[39]\tvalidation_0-logloss:0.03734\tvalidation_0-mcc:0.98388\n",
      "[40]\tvalidation_0-logloss:0.03734\tvalidation_0-mcc:0.98389\n",
      "[41]\tvalidation_0-logloss:0.03734\tvalidation_0-mcc:0.98387\n",
      "[42]\tvalidation_0-logloss:0.03736\tvalidation_0-mcc:0.98386\n",
      "[43]\tvalidation_0-logloss:0.03736\tvalidation_0-mcc:0.98388\n",
      "[44]\tvalidation_0-logloss:0.03736\tvalidation_0-mcc:0.98391\n",
      "[45]\tvalidation_0-logloss:0.03736\tvalidation_0-mcc:0.98389\n",
      "[46]\tvalidation_0-logloss:0.03738\tvalidation_0-mcc:0.98388\n",
      "[47]\tvalidation_0-logloss:0.03740\tvalidation_0-mcc:0.98388\n",
      "[48]\tvalidation_0-logloss:0.03742\tvalidation_0-mcc:0.98386\n",
      "[49]\tvalidation_0-logloss:0.03743\tvalidation_0-mcc:0.98386\n",
      "[50]\tvalidation_0-logloss:0.03743\tvalidation_0-mcc:0.98390\n",
      "[51]\tvalidation_0-logloss:0.03743\tvalidation_0-mcc:0.98390\n",
      "[52]\tvalidation_0-logloss:0.03744\tvalidation_0-mcc:0.98390\n",
      "[53]\tvalidation_0-logloss:0.03742\tvalidation_0-mcc:0.98391\n",
      "[54]\tvalidation_0-logloss:0.03745\tvalidation_0-mcc:0.98392\n",
      "[55]\tvalidation_0-logloss:0.03746\tvalidation_0-mcc:0.98391\n",
      "[56]\tvalidation_0-logloss:0.03747\tvalidation_0-mcc:0.98393\n",
      "[57]\tvalidation_0-logloss:0.03749\tvalidation_0-mcc:0.98393\n",
      "[58]\tvalidation_0-logloss:0.03749\tvalidation_0-mcc:0.98395\n",
      "[59]\tvalidation_0-logloss:0.03749\tvalidation_0-mcc:0.98396\n",
      "[60]\tvalidation_0-logloss:0.03752\tvalidation_0-mcc:0.98397\n",
      "[61]\tvalidation_0-logloss:0.03752\tvalidation_0-mcc:0.98394\n",
      "[62]\tvalidation_0-logloss:0.03754\tvalidation_0-mcc:0.98394\n",
      "[63]\tvalidation_0-logloss:0.03756\tvalidation_0-mcc:0.98397\n",
      "[64]\tvalidation_0-logloss:0.03757\tvalidation_0-mcc:0.98398\n",
      "[65]\tvalidation_0-logloss:0.03758\tvalidation_0-mcc:0.98398\n",
      "[66]\tvalidation_0-logloss:0.03759\tvalidation_0-mcc:0.98399\n",
      "[67]\tvalidation_0-logloss:0.03761\tvalidation_0-mcc:0.98398\n",
      "[68]\tvalidation_0-logloss:0.03761\tvalidation_0-mcc:0.98393\n",
      "[69]\tvalidation_0-logloss:0.03763\tvalidation_0-mcc:0.98396\n",
      "[70]\tvalidation_0-logloss:0.03763\tvalidation_0-mcc:0.98396\n",
      "[71]\tvalidation_0-logloss:0.03763\tvalidation_0-mcc:0.98397\n",
      "[72]\tvalidation_0-logloss:0.03765\tvalidation_0-mcc:0.98395\n",
      "[73]\tvalidation_0-logloss:0.03765\tvalidation_0-mcc:0.98394\n",
      "[74]\tvalidation_0-logloss:0.03768\tvalidation_0-mcc:0.98392\n",
      "[75]\tvalidation_0-logloss:0.03769\tvalidation_0-mcc:0.98390\n",
      "[76]\tvalidation_0-logloss:0.03770\tvalidation_0-mcc:0.98389\n",
      "[77]\tvalidation_0-logloss:0.03771\tvalidation_0-mcc:0.98390\n",
      "[78]\tvalidation_0-logloss:0.03772\tvalidation_0-mcc:0.98393\n",
      "[79]\tvalidation_0-logloss:0.03773\tvalidation_0-mcc:0.98392\n",
      "[80]\tvalidation_0-logloss:0.03774\tvalidation_0-mcc:0.98390\n",
      "[81]\tvalidation_0-logloss:0.03774\tvalidation_0-mcc:0.98390\n",
      "[82]\tvalidation_0-logloss:0.03775\tvalidation_0-mcc:0.98392\n",
      "[83]\tvalidation_0-logloss:0.03777\tvalidation_0-mcc:0.98392\n",
      "[84]\tvalidation_0-logloss:0.03778\tvalidation_0-mcc:0.98391\n",
      "[85]\tvalidation_0-logloss:0.03779\tvalidation_0-mcc:0.98392\n",
      "[86]\tvalidation_0-logloss:0.03780\tvalidation_0-mcc:0.98394\n",
      "[87]\tvalidation_0-logloss:0.03780\tvalidation_0-mcc:0.98392\n",
      "[88]\tvalidation_0-logloss:0.03781\tvalidation_0-mcc:0.98393\n",
      "[89]\tvalidation_0-logloss:0.03782\tvalidation_0-mcc:0.98389\n",
      "[90]\tvalidation_0-logloss:0.03783\tvalidation_0-mcc:0.98389\n",
      "[91]\tvalidation_0-logloss:0.03784\tvalidation_0-mcc:0.98387\n",
      "[92]\tvalidation_0-logloss:0.03785\tvalidation_0-mcc:0.98389\n",
      "[93]\tvalidation_0-logloss:0.03786\tvalidation_0-mcc:0.98389\n",
      "[94]\tvalidation_0-logloss:0.03785\tvalidation_0-mcc:0.98390\n",
      "[95]\tvalidation_0-logloss:0.03786\tvalidation_0-mcc:0.98391\n",
      "[96]\tvalidation_0-logloss:0.03788\tvalidation_0-mcc:0.98390\n",
      "[97]\tvalidation_0-logloss:0.03789\tvalidation_0-mcc:0.98390\n",
      "[98]\tvalidation_0-logloss:0.03787\tvalidation_0-mcc:0.98392\n",
      "[99]\tvalidation_0-logloss:0.03788\tvalidation_0-mcc:0.98394\n",
      "[100]\tvalidation_0-logloss:0.03789\tvalidation_0-mcc:0.98395\n",
      "[101]\tvalidation_0-logloss:0.03791\tvalidation_0-mcc:0.98389\n",
      "[102]\tvalidation_0-logloss:0.03791\tvalidation_0-mcc:0.98389\n",
      "[103]\tvalidation_0-logloss:0.03794\tvalidation_0-mcc:0.98391\n",
      "[104]\tvalidation_0-logloss:0.03795\tvalidation_0-mcc:0.98390\n",
      "[105]\tvalidation_0-logloss:0.03797\tvalidation_0-mcc:0.98391\n",
      "[106]\tvalidation_0-logloss:0.03798\tvalidation_0-mcc:0.98391\n",
      "[107]\tvalidation_0-logloss:0.03799\tvalidation_0-mcc:0.98390\n",
      "[108]\tvalidation_0-logloss:0.03800\tvalidation_0-mcc:0.98390\n",
      "[109]\tvalidation_0-logloss:0.03801\tvalidation_0-mcc:0.98390\n",
      "[110]\tvalidation_0-logloss:0.03803\tvalidation_0-mcc:0.98391\n",
      "[111]\tvalidation_0-logloss:0.03803\tvalidation_0-mcc:0.98392\n",
      "[112]\tvalidation_0-logloss:0.03804\tvalidation_0-mcc:0.98392\n",
      "[113]\tvalidation_0-logloss:0.03804\tvalidation_0-mcc:0.98390\n",
      "[114]\tvalidation_0-logloss:0.03806\tvalidation_0-mcc:0.98389\n",
      "[115]\tvalidation_0-logloss:0.03807\tvalidation_0-mcc:0.98388\n",
      "[116]\tvalidation_0-logloss:0.03809\tvalidation_0-mcc:0.98386\n",
      "[117]\tvalidation_0-logloss:0.03811\tvalidation_0-mcc:0.98386\n",
      "[118]\tvalidation_0-logloss:0.03811\tvalidation_0-mcc:0.98388\n",
      "[119]\tvalidation_0-logloss:0.03812\tvalidation_0-mcc:0.98385\n",
      "[120]\tvalidation_0-logloss:0.03812\tvalidation_0-mcc:0.98384\n",
      "[121]\tvalidation_0-logloss:0.03813\tvalidation_0-mcc:0.98384\n",
      "[122]\tvalidation_0-logloss:0.03814\tvalidation_0-mcc:0.98385\n",
      "[123]\tvalidation_0-logloss:0.03815\tvalidation_0-mcc:0.98385\n",
      "[124]\tvalidation_0-logloss:0.03816\tvalidation_0-mcc:0.98382\n",
      "[125]\tvalidation_0-logloss:0.03817\tvalidation_0-mcc:0.98380\n",
      "[126]\tvalidation_0-logloss:0.03818\tvalidation_0-mcc:0.98382\n",
      "[127]\tvalidation_0-logloss:0.03820\tvalidation_0-mcc:0.98384\n",
      "[128]\tvalidation_0-logloss:0.03822\tvalidation_0-mcc:0.98382\n",
      "[129]\tvalidation_0-logloss:0.03823\tvalidation_0-mcc:0.98381\n",
      "[130]\tvalidation_0-logloss:0.03823\tvalidation_0-mcc:0.98382\n",
      "[131]\tvalidation_0-logloss:0.03824\tvalidation_0-mcc:0.98383\n",
      "[132]\tvalidation_0-logloss:0.03825\tvalidation_0-mcc:0.98387\n",
      "[133]\tvalidation_0-logloss:0.03826\tvalidation_0-mcc:0.98386\n",
      "[134]\tvalidation_0-logloss:0.03827\tvalidation_0-mcc:0.98383\n",
      "[135]\tvalidation_0-logloss:0.03828\tvalidation_0-mcc:0.98385\n",
      "[136]\tvalidation_0-logloss:0.03828\tvalidation_0-mcc:0.98385\n",
      "[137]\tvalidation_0-logloss:0.03829\tvalidation_0-mcc:0.98385\n",
      "[138]\tvalidation_0-logloss:0.03830\tvalidation_0-mcc:0.98383\n",
      "[139]\tvalidation_0-logloss:0.03831\tvalidation_0-mcc:0.98383\n",
      "[140]\tvalidation_0-logloss:0.03831\tvalidation_0-mcc:0.98384\n",
      "[141]\tvalidation_0-logloss:0.03834\tvalidation_0-mcc:0.98383\n",
      "[142]\tvalidation_0-logloss:0.03834\tvalidation_0-mcc:0.98384\n",
      "[143]\tvalidation_0-logloss:0.03834\tvalidation_0-mcc:0.98383\n",
      "[144]\tvalidation_0-logloss:0.03834\tvalidation_0-mcc:0.98385\n",
      "[145]\tvalidation_0-logloss:0.03835\tvalidation_0-mcc:0.98386\n",
      "[146]\tvalidation_0-logloss:0.03836\tvalidation_0-mcc:0.98386\n",
      "[147]\tvalidation_0-logloss:0.03837\tvalidation_0-mcc:0.98384\n",
      "[148]\tvalidation_0-logloss:0.03838\tvalidation_0-mcc:0.98383\n",
      "[149]\tvalidation_0-logloss:0.03839\tvalidation_0-mcc:0.98382\n",
      "[150]\tvalidation_0-logloss:0.03840\tvalidation_0-mcc:0.98381\n",
      "[151]\tvalidation_0-logloss:0.03841\tvalidation_0-mcc:0.98382\n",
      "[152]\tvalidation_0-logloss:0.03842\tvalidation_0-mcc:0.98383\n",
      "[153]\tvalidation_0-logloss:0.03843\tvalidation_0-mcc:0.98386\n",
      "[154]\tvalidation_0-logloss:0.03843\tvalidation_0-mcc:0.98386\n",
      "[155]\tvalidation_0-logloss:0.03844\tvalidation_0-mcc:0.98388\n",
      "[156]\tvalidation_0-logloss:0.03845\tvalidation_0-mcc:0.98389\n",
      "[157]\tvalidation_0-logloss:0.03847\tvalidation_0-mcc:0.98387\n",
      "[158]\tvalidation_0-logloss:0.03849\tvalidation_0-mcc:0.98391\n",
      "[159]\tvalidation_0-logloss:0.03850\tvalidation_0-mcc:0.98388\n",
      "[160]\tvalidation_0-logloss:0.03851\tvalidation_0-mcc:0.98388\n",
      "[161]\tvalidation_0-logloss:0.03852\tvalidation_0-mcc:0.98386\n",
      "[162]\tvalidation_0-logloss:0.03852\tvalidation_0-mcc:0.98385\n",
      "[163]\tvalidation_0-logloss:0.03853\tvalidation_0-mcc:0.98384\n",
      "[164]\tvalidation_0-logloss:0.03854\tvalidation_0-mcc:0.98384\n",
      "[165]\tvalidation_0-logloss:0.03854\tvalidation_0-mcc:0.98383\n",
      "[166]\tvalidation_0-logloss:0.03855\tvalidation_0-mcc:0.98386\n",
      "[167]\tvalidation_0-logloss:0.03857\tvalidation_0-mcc:0.98386\n",
      "[168]\tvalidation_0-logloss:0.03857\tvalidation_0-mcc:0.98384\n",
      "[169]\tvalidation_0-logloss:0.03859\tvalidation_0-mcc:0.98384\n",
      "[170]\tvalidation_0-logloss:0.03860\tvalidation_0-mcc:0.98386\n",
      "[171]\tvalidation_0-logloss:0.03861\tvalidation_0-mcc:0.98386\n",
      "[172]\tvalidation_0-logloss:0.03862\tvalidation_0-mcc:0.98385\n",
      "[173]\tvalidation_0-logloss:0.03863\tvalidation_0-mcc:0.98385\n",
      "[174]\tvalidation_0-logloss:0.03864\tvalidation_0-mcc:0.98385\n",
      "[175]\tvalidation_0-logloss:0.03865\tvalidation_0-mcc:0.98383\n",
      "[176]\tvalidation_0-logloss:0.03866\tvalidation_0-mcc:0.98382\n",
      "[177]\tvalidation_0-logloss:0.03866\tvalidation_0-mcc:0.98383\n",
      "[178]\tvalidation_0-logloss:0.03867\tvalidation_0-mcc:0.98384\n",
      "[179]\tvalidation_0-logloss:0.03869\tvalidation_0-mcc:0.98384\n",
      "[180]\tvalidation_0-logloss:0.03869\tvalidation_0-mcc:0.98386\n",
      "[181]\tvalidation_0-logloss:0.03870\tvalidation_0-mcc:0.98388\n",
      "[182]\tvalidation_0-logloss:0.03871\tvalidation_0-mcc:0.98387\n",
      "[183]\tvalidation_0-logloss:0.03871\tvalidation_0-mcc:0.98386\n",
      "[184]\tvalidation_0-logloss:0.03872\tvalidation_0-mcc:0.98382\n",
      "[185]\tvalidation_0-logloss:0.03874\tvalidation_0-mcc:0.98383\n",
      "[186]\tvalidation_0-logloss:0.03875\tvalidation_0-mcc:0.98381\n",
      "[187]\tvalidation_0-logloss:0.03876\tvalidation_0-mcc:0.98382\n",
      "[188]\tvalidation_0-logloss:0.03876\tvalidation_0-mcc:0.98382\n",
      "[189]\tvalidation_0-logloss:0.03877\tvalidation_0-mcc:0.98382\n",
      "[190]\tvalidation_0-logloss:0.03878\tvalidation_0-mcc:0.98382\n",
      "[191]\tvalidation_0-logloss:0.03879\tvalidation_0-mcc:0.98380\n",
      "[192]\tvalidation_0-logloss:0.03880\tvalidation_0-mcc:0.98380\n",
      "[193]\tvalidation_0-logloss:0.03881\tvalidation_0-mcc:0.98380\n",
      "[194]\tvalidation_0-logloss:0.03881\tvalidation_0-mcc:0.98378\n",
      "[195]\tvalidation_0-logloss:0.03883\tvalidation_0-mcc:0.98379\n",
      "[196]\tvalidation_0-logloss:0.03883\tvalidation_0-mcc:0.98378\n",
      "[197]\tvalidation_0-logloss:0.03883\tvalidation_0-mcc:0.98376\n",
      "[198]\tvalidation_0-logloss:0.03883\tvalidation_0-mcc:0.98374\n",
      "[199]\tvalidation_0-logloss:0.03885\tvalidation_0-mcc:0.98375\n"
     ]
    }
   ],
   "source": [
    "XGB = model.fit(\n",
    "    X_train, \n",
    "    y_train, \n",
    "    eval_set = [(X_test, y_test)],\n",
    "    eval_metric = mcc_metric)"
   ]
  },
  {
   "cell_type": "code",
   "execution_count": 67,
   "metadata": {},
   "outputs": [],
   "source": [
    "y_pred = XGB.predict(X_test)"
   ]
  },
  {
   "cell_type": "code",
   "execution_count": 68,
   "metadata": {},
   "outputs": [
    {
     "name": "stdout",
     "output_type": "stream",
     "text": [
      "MCC 0.9837487953056541\n"
     ]
    }
   ],
   "source": [
    "score = matthews_corrcoef(y_test, y_pred)\n",
    "print('MCC', score)"
   ]
  },
  {
   "cell_type": "code",
   "execution_count": 69,
   "metadata": {},
   "outputs": [],
   "source": [
    "test_pred_prob = XGB.predict(test)"
   ]
  },
  {
   "cell_type": "code",
   "execution_count": 70,
   "metadata": {},
   "outputs": [],
   "source": [
    "test_pred_class = le.inverse_transform(test_pred_prob)"
   ]
  },
  {
   "cell_type": "code",
   "execution_count": 71,
   "metadata": {},
   "outputs": [],
   "source": [
    "submission = pd.read_csv('sample_submission.csv')\n",
    "\n",
    "submission['class'] = test_pred_class"
   ]
  },
  {
   "cell_type": "code",
   "execution_count": 72,
   "metadata": {},
   "outputs": [],
   "source": [
    "submission.to_csv('submission.csv', index = False)"
   ]
  }
 ],
 "metadata": {
  "kernelspec": {
   "display_name": "venv",
   "language": "python",
   "name": "python3"
  },
  "language_info": {
   "codemirror_mode": {
    "name": "ipython",
    "version": 3
   },
   "file_extension": ".py",
   "mimetype": "text/x-python",
   "name": "python",
   "nbconvert_exporter": "python",
   "pygments_lexer": "ipython3",
   "version": "3.11.3"
  }
 },
 "nbformat": 4,
 "nbformat_minor": 2
}
