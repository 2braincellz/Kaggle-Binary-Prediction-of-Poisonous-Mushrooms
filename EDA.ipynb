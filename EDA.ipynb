{
 "cells": [
  {
   "cell_type": "code",
   "execution_count": 51,
   "metadata": {},
   "outputs": [],
   "source": [
    "import pandas as pd\n",
    "import numpy as np"
   ]
  },
  {
   "cell_type": "code",
   "execution_count": 52,
   "metadata": {},
   "outputs": [],
   "source": [
    "train = pd.read_csv('train.csv')\n",
    "test = pd.read_csv('test.csv')"
   ]
  },
  {
   "cell_type": "code",
   "execution_count": 53,
   "metadata": {},
   "outputs": [],
   "source": [
    "from sklearn.preprocessing import OneHotEncoder"
   ]
  },
  {
   "cell_type": "code",
   "execution_count": 54,
   "metadata": {},
   "outputs": [],
   "source": [
    "categorical_variables = [col for col in train.select_dtypes('object').columns]"
   ]
  },
  {
   "cell_type": "code",
   "execution_count": 55,
   "metadata": {},
   "outputs": [],
   "source": [
    "from sklearn.compose import ColumnTransformer"
   ]
  },
  {
   "cell_type": "code",
   "execution_count": 56,
   "metadata": {},
   "outputs": [],
   "source": [
    "from sklearn.preprocessing import OrdinalEncoder\n",
    "\n",
    "preprocessing = ColumnTransformer([\n",
    "    ('cat', OrdinalEncoder(), categorical_variables)\n",
    "])\n",
    "\n",
    "train_prep = preprocessing.fit_transform(train)"
   ]
  },
  {
   "cell_type": "code",
   "execution_count": 57,
   "metadata": {},
   "outputs": [],
   "source": [
    "train_preprocessed = pd.DataFrame(train_prep, columns = preprocessing.get_feature_names_out())"
   ]
  },
  {
   "cell_type": "code",
   "execution_count": 61,
   "metadata": {},
   "outputs": [],
   "source": [
    "corr_matrix = train_preprocessed.corr()"
   ]
  },
  {
   "cell_type": "code",
   "execution_count": 59,
   "metadata": {},
   "outputs": [
    {
     "data": {
      "text/plain": [
       "['class',\n",
       " 'cap-shape',\n",
       " 'cap-surface',\n",
       " 'cap-color',\n",
       " 'does-bruise-or-bleed',\n",
       " 'gill-attachment',\n",
       " 'gill-spacing',\n",
       " 'gill-color',\n",
       " 'stem-root',\n",
       " 'stem-surface',\n",
       " 'stem-color',\n",
       " 'veil-type',\n",
       " 'veil-color',\n",
       " 'has-ring',\n",
       " 'ring-type',\n",
       " 'spore-print-color',\n",
       " 'habitat',\n",
       " 'season']"
      ]
     },
     "execution_count": 59,
     "metadata": {},
     "output_type": "execute_result"
    }
   ],
   "source": [
    "categorical_variables"
   ]
  },
  {
   "cell_type": "code",
   "execution_count": 60,
   "metadata": {},
   "outputs": [
    {
     "data": {
      "text/plain": [
       "cat__veil-color             -0.378448\n",
       "cat__spore-print-color      -0.240618\n",
       "cat__stem-surface           -0.129510\n",
       "cat__gill-spacing           -0.103937\n",
       "cat__cap-shape              -0.090220\n",
       "cat__gill-attachment        -0.082450\n",
       "cat__stem-color             -0.070814\n",
       "cat__season                 -0.063554\n",
       "cat__gill-color             -0.060206\n",
       "cat__cap-surface            -0.038520\n",
       "cat__does-bruise-or-bleed   -0.037555\n",
       "cat__habitat                -0.027232\n",
       "cat__veil-type               0.003288\n",
       "cat__cap-color               0.043374\n",
       "cat__has-ring                0.049628\n",
       "cat__ring-type               0.126961\n",
       "cat__stem-root               0.347033\n",
       "cat__class                   1.000000\n",
       "Name: cat__class, dtype: float64"
      ]
     },
     "execution_count": 60,
     "metadata": {},
     "output_type": "execute_result"
    }
   ],
   "source": [
    "corr_matrix['cat__class'].sort_values()"
   ]
  },
  {
   "cell_type": "code",
   "execution_count": 23,
   "metadata": {},
   "outputs": [],
   "source": [
    "train_combinations = train_preprocessed['cat__class'].to_frame()"
   ]
  },
  {
   "cell_type": "code",
   "execution_count": 22,
   "metadata": {},
   "outputs": [
    {
     "data": {
      "text/html": [
       "<div>\n",
       "<style scoped>\n",
       "    .dataframe tbody tr th:only-of-type {\n",
       "        vertical-align: middle;\n",
       "    }\n",
       "\n",
       "    .dataframe tbody tr th {\n",
       "        vertical-align: top;\n",
       "    }\n",
       "\n",
       "    .dataframe thead th {\n",
       "        text-align: right;\n",
       "    }\n",
       "</style>\n",
       "<table border=\"1\" class=\"dataframe\">\n",
       "  <thead>\n",
       "    <tr style=\"text-align: right;\">\n",
       "      <th></th>\n",
       "      <th>cat__class</th>\n",
       "      <th>cap-shape x habitat</th>\n",
       "    </tr>\n",
       "  </thead>\n",
       "  <tbody>\n",
       "    <tr>\n",
       "      <th>0</th>\n",
       "      <td>0.0</td>\n",
       "      <td>1325.0</td>\n",
       "    </tr>\n",
       "    <tr>\n",
       "      <th>1</th>\n",
       "      <td>1.0</td>\n",
       "      <td>1775.0</td>\n",
       "    </tr>\n",
       "    <tr>\n",
       "      <th>2</th>\n",
       "      <td>0.0</td>\n",
       "      <td>1908.0</td>\n",
       "    </tr>\n",
       "    <tr>\n",
       "      <th>3</th>\n",
       "      <td>0.0</td>\n",
       "      <td>1325.0</td>\n",
       "    </tr>\n",
       "    <tr>\n",
       "      <th>4</th>\n",
       "      <td>0.0</td>\n",
       "      <td>2059.0</td>\n",
       "    </tr>\n",
       "    <tr>\n",
       "      <th>...</th>\n",
       "      <td>...</td>\n",
       "      <td>...</td>\n",
       "    </tr>\n",
       "    <tr>\n",
       "      <th>3116940</th>\n",
       "      <td>0.0</td>\n",
       "      <td>1325.0</td>\n",
       "    </tr>\n",
       "    <tr>\n",
       "      <th>3116941</th>\n",
       "      <td>0.0</td>\n",
       "      <td>1675.0</td>\n",
       "    </tr>\n",
       "    <tr>\n",
       "      <th>3116942</th>\n",
       "      <td>1.0</td>\n",
       "      <td>1775.0</td>\n",
       "    </tr>\n",
       "    <tr>\n",
       "      <th>3116943</th>\n",
       "      <td>0.0</td>\n",
       "      <td>1600.0</td>\n",
       "    </tr>\n",
       "    <tr>\n",
       "      <th>3116944</th>\n",
       "      <td>1.0</td>\n",
       "      <td>2059.0</td>\n",
       "    </tr>\n",
       "  </tbody>\n",
       "</table>\n",
       "<p>3116945 rows × 2 columns</p>\n",
       "</div>"
      ],
      "text/plain": [
       "         cat__class  cap-shape x habitat\n",
       "0               0.0               1325.0\n",
       "1               1.0               1775.0\n",
       "2               0.0               1908.0\n",
       "3               0.0               1325.0\n",
       "4               0.0               2059.0\n",
       "...             ...                  ...\n",
       "3116940         0.0               1325.0\n",
       "3116941         0.0               1675.0\n",
       "3116942         1.0               1775.0\n",
       "3116943         0.0               1600.0\n",
       "3116944         1.0               2059.0\n",
       "\n",
       "[3116945 rows x 2 columns]"
      ]
     },
     "execution_count": 22,
     "metadata": {},
     "output_type": "execute_result"
    }
   ],
   "source": [
    "cap_shape_x_habitat = train_preprocessed['cat__cap-shape'] * train_preprocessed['cat__habitat']\n",
    "\n",
    "\n",
    "train_combinations.join(cap_shape_x_habitat.rename('cap-shape x habitat'))"
   ]
  },
  {
   "cell_type": "code",
   "execution_count": 26,
   "metadata": {},
   "outputs": [],
   "source": [
    "for i, col in enumerate(train_preprocessed.columns):\n",
    "    if col != 'cat__class':\n",
    "        for j, col2 in enumerate(train_preprocessed.columns[i+1:], start=i+1):\n",
    "            if col2 != 'cat__class':\n",
    "                combination = train_preprocessed[col] * train_preprocessed[col2]\n",
    "                train_combinations = train_combinations.join(combination.rename(f'{col} x {col2}'))"
   ]
  },
  {
   "cell_type": "code",
   "execution_count": 30,
   "metadata": {},
   "outputs": [
    {
     "data": {
      "text/plain": [
       "(3116945, 137)"
      ]
     },
     "execution_count": 30,
     "metadata": {},
     "output_type": "execute_result"
    }
   ],
   "source": [
    "train_combinations.shape"
   ]
  },
  {
   "cell_type": "code",
   "execution_count": 49,
   "metadata": {},
   "outputs": [],
   "source": [
    "corr_matrix = train_combinations.corr()"
   ]
  },
  {
   "cell_type": "code",
   "execution_count": 50,
   "metadata": {},
   "outputs": [
    {
     "data": {
      "text/plain": [
       "cat__gill-attachment x cat__veil-color       -0.545771\n",
       "cat__cap-surface x cat__veil-color           -0.487548\n",
       "cat__does-bruise-or-bleed x cat__veil-type   -0.475117\n",
       "cat__cap-shape x cat__veil-color             -0.446869\n",
       "cat__gill-spacing x cat__veil-color          -0.441272\n",
       "                                                ...   \n",
       "cat__stem-root x cat__stem-surface            0.551504\n",
       "cat__stem-root x cat__veil-color              0.644496\n",
       "cat__stem-surface x cat__veil-type            0.948013\n",
       "cat__stem-root x cat__veil-type               0.981362\n",
       "cat__class                                    1.000000\n",
       "Name: cat__class, Length: 137, dtype: float64"
      ]
     },
     "execution_count": 50,
     "metadata": {},
     "output_type": "execute_result"
    }
   ],
   "source": [
    "corr_matrix['cat__class'].sort_values()"
   ]
  },
  {
   "cell_type": "code",
   "execution_count": 43,
   "metadata": {},
   "outputs": [],
   "source": [
    "corr_matrix_original = train_preprocessed.corr()"
   ]
  },
  {
   "cell_type": "code",
   "execution_count": 47,
   "metadata": {},
   "outputs": [
    {
     "data": {
      "text/plain": [
       "cat__veil-color             -0.378448\n",
       "cat__spore-print-color      -0.240618\n",
       "cat__stem-surface           -0.129510\n",
       "cat__gill-spacing           -0.103937\n",
       "cat__cap-shape              -0.090220\n",
       "cat__gill-attachment        -0.082450\n",
       "cat__stem-color             -0.070814\n",
       "cat__season                 -0.063554\n",
       "cat__gill-color             -0.060206\n",
       "cat__cap-surface            -0.038520\n",
       "cat__does-bruise-or-bleed   -0.037555\n",
       "cat__habitat                -0.027232\n",
       "cat__veil-type               0.003288\n",
       "cat__cap-color               0.043374\n",
       "cat__has-ring                0.049628\n",
       "cat__ring-type               0.126961\n",
       "cat__stem-root               0.347033\n",
       "cat__class                   1.000000\n",
       "Name: cat__class, dtype: float64"
      ]
     },
     "execution_count": 47,
     "metadata": {},
     "output_type": "execute_result"
    }
   ],
   "source": [
    "corr_matrix_original['cat__class'].sort_values()"
   ]
  },
  {
   "cell_type": "markdown",
   "metadata": {},
   "source": []
  }
 ],
 "metadata": {
  "kernelspec": {
   "display_name": "venv",
   "language": "python",
   "name": "python3"
  },
  "language_info": {
   "codemirror_mode": {
    "name": "ipython",
    "version": 3
   },
   "file_extension": ".py",
   "mimetype": "text/x-python",
   "name": "python",
   "nbconvert_exporter": "python",
   "pygments_lexer": "ipython3",
   "version": "3.11.3"
  }
 },
 "nbformat": 4,
 "nbformat_minor": 2
}
